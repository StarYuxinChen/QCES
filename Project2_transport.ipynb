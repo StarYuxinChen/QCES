{
  "cells": [
    {
      "cell_type": "markdown",
      "metadata": {
        "id": "view-in-github",
        "colab_type": "text"
      },
      "source": [
        "<a href=\"https://colab.research.google.com/github/StarYuxinChen/QCES/blob/main/Project2_transport.ipynb\" target=\"_parent\"><img src=\"https://colab.research.google.com/assets/colab-badge.svg\" alt=\"Open In Colab\"/></a>"
      ]
    },
    {
      "cell_type": "markdown",
      "metadata": {
        "id": "ZhcRssDxcxU8"
      },
      "source": [
        "<a href=\"https://colab.research.google.com/github/johnryantaylor/QCES/blob/main/Project2_transport.ipynb\" target=\"_parent\"><img src=\"https://colab.research.google.com/assets/colab-badge.svg\" alt=\"Open In Colab\"/></a>"
      ]
    },
    {
      "cell_type": "markdown",
      "metadata": {
        "id": "JUhngTOlcxU_"
      },
      "source": [
        "# Project 2: Tracer transport\n",
        "\n",
        "A critical aspect of understanding climate and environmental systems is describing the movement of substances. This could include pollution or water vapor in the atmosphere, salt in an estuary, or chemicals in a river. We often model the transport of these substances using an advection/diffusion equation for the concentration of the substance. In this context, we sometimes refer to the concentration field as a `tracer' since it helps us track the movement of individual molecules. We can also use this framework to describe the transport of heat, although in this case the tracer field (temperature or heat content) tracks the movement of thermal energy.\n",
        "\n",
        "In this project we will use Dedalus to solve advection diffusion equations to describe the vertical distribution of heat in the ocean and the concentration of pollution in a river.\n",
        "\n",
        "Student tasks are in [Section 1.4](#section1pt4), [Section 1.6](#section1pt6), and [Section 2.3](#section2pt3)"
      ]
    },
    {
      "cell_type": "markdown",
      "metadata": {
        "id": "7G9P5eCUcxU_"
      },
      "source": [
        "## Setup\n",
        "If you are using Google colab, run the script below to install Dedalus"
      ]
    },
    {
      "cell_type": "code",
      "execution_count": 1,
      "metadata": {
        "id": "qnzAISWYcxU_",
        "collapsed": true,
        "outputId": "74fae03a-ef80-40ac-b6bb-5760af2afcb0",
        "colab": {
          "base_uri": "https://localhost:8080/"
        }
      },
      "outputs": [
        {
          "metadata": {
            "tags": null
          },
          "name": "stdout",
          "output_type": "stream",
          "text": [
            "env: OMP_NUM_THREADS=1\n",
            "env: NUMEXPR_MAX_THREADS=1\n",
            "Dedalus not installed yet.\n",
            "Installing for Google Colab.\n",
            "\n",
            "Reading package lists... Done\n",
            "Building dependency tree... Done\n",
            "Reading state information... Done\n",
            "The following additional packages will be installed:\n",
            "  libfftw3-bin libfftw3-double3 libfftw3-long3 libfftw3-quad3 libfftw3-single3\n",
            "Suggested packages:\n",
            "  libfftw3-doc\n",
            "The following NEW packages will be installed:\n",
            "  libfftw3-bin libfftw3-dev libfftw3-double3 libfftw3-long3 libfftw3-quad3 libfftw3-single3\n",
            "0 upgraded, 6 newly installed, 0 to remove and 49 not upgraded.\n",
            "Need to get 4,654 kB of archives.\n",
            "After this operation, 24.7 MB of additional disk space will be used.\n",
            "Get:1 http://archive.ubuntu.com/ubuntu jammy/main amd64 libfftw3-double3 amd64 3.3.8-2ubuntu8 [770 kB]\n",
            "Get:2 http://archive.ubuntu.com/ubuntu jammy/main amd64 libfftw3-long3 amd64 3.3.8-2ubuntu8 [335 kB]\n",
            "Get:3 http://archive.ubuntu.com/ubuntu jammy/main amd64 libfftw3-quad3 amd64 3.3.8-2ubuntu8 [614 kB]\n",
            "Get:4 http://archive.ubuntu.com/ubuntu jammy/main amd64 libfftw3-single3 amd64 3.3.8-2ubuntu8 [800 kB]\n",
            "Get:5 http://archive.ubuntu.com/ubuntu jammy/main amd64 libfftw3-bin amd64 3.3.8-2ubuntu8 [35.5 kB]\n",
            "Get:6 http://archive.ubuntu.com/ubuntu jammy/main amd64 libfftw3-dev amd64 3.3.8-2ubuntu8 [2,101 kB]\n",
            "Fetched 4,654 kB in 2s (2,940 kB/s)\n",
            "Selecting previously unselected package libfftw3-double3:amd64.\n",
            "(Reading database ... 123634 files and directories currently installed.)\n",
            "Preparing to unpack .../0-libfftw3-double3_3.3.8-2ubuntu8_amd64.deb ...\n",
            "Unpacking libfftw3-double3:amd64 (3.3.8-2ubuntu8) ...\n",
            "Selecting previously unselected package libfftw3-long3:amd64.\n",
            "Preparing to unpack .../1-libfftw3-long3_3.3.8-2ubuntu8_amd64.deb ...\n",
            "Unpacking libfftw3-long3:amd64 (3.3.8-2ubuntu8) ...\n",
            "Selecting previously unselected package libfftw3-quad3:amd64.\n",
            "Preparing to unpack .../2-libfftw3-quad3_3.3.8-2ubuntu8_amd64.deb ...\n",
            "Unpacking libfftw3-quad3:amd64 (3.3.8-2ubuntu8) ...\n",
            "Selecting previously unselected package libfftw3-single3:amd64.\n",
            "Preparing to unpack .../3-libfftw3-single3_3.3.8-2ubuntu8_amd64.deb ...\n",
            "Unpacking libfftw3-single3:amd64 (3.3.8-2ubuntu8) ...\n",
            "Selecting previously unselected package libfftw3-bin.\n",
            "Preparing to unpack .../4-libfftw3-bin_3.3.8-2ubuntu8_amd64.deb ...\n",
            "Unpacking libfftw3-bin (3.3.8-2ubuntu8) ...\n",
            "Selecting previously unselected package libfftw3-dev:amd64.\n",
            "Preparing to unpack .../5-libfftw3-dev_3.3.8-2ubuntu8_amd64.deb ...\n",
            "Unpacking libfftw3-dev:amd64 (3.3.8-2ubuntu8) ...\n",
            "Setting up libfftw3-single3:amd64 (3.3.8-2ubuntu8) ...\n",
            "Setting up libfftw3-long3:amd64 (3.3.8-2ubuntu8) ...\n",
            "Setting up libfftw3-quad3:amd64 (3.3.8-2ubuntu8) ...\n",
            "Setting up libfftw3-double3:amd64 (3.3.8-2ubuntu8) ...\n",
            "Setting up libfftw3-bin (3.3.8-2ubuntu8) ...\n",
            "Setting up libfftw3-dev:amd64 (3.3.8-2ubuntu8) ...\n",
            "Processing triggers for man-db (2.10.2-1) ...\n",
            "Processing triggers for libc-bin (2.35-0ubuntu3.4) ...\n",
            "/sbin/ldconfig.real: /usr/local/lib/libtcm_debug.so.1 is not a symbolic link\n",
            "\n",
            "/sbin/ldconfig.real: /usr/local/lib/libur_loader.so.0 is not a symbolic link\n",
            "\n",
            "/sbin/ldconfig.real: /usr/local/lib/libhwloc.so.15 is not a symbolic link\n",
            "\n",
            "/sbin/ldconfig.real: /usr/local/lib/libumf.so.0 is not a symbolic link\n",
            "\n",
            "/sbin/ldconfig.real: /usr/local/lib/libtbbmalloc_proxy.so.2 is not a symbolic link\n",
            "\n",
            "/sbin/ldconfig.real: /usr/local/lib/libtbbbind_2_0.so.3 is not a symbolic link\n",
            "\n",
            "/sbin/ldconfig.real: /usr/local/lib/libtbbbind.so.3 is not a symbolic link\n",
            "\n",
            "/sbin/ldconfig.real: /usr/local/lib/libtbbmalloc.so.2 is not a symbolic link\n",
            "\n",
            "/sbin/ldconfig.real: /usr/local/lib/libtbb.so.12 is not a symbolic link\n",
            "\n",
            "/sbin/ldconfig.real: /usr/local/lib/libtbbbind_2_5.so.3 is not a symbolic link\n",
            "\n",
            "/sbin/ldconfig.real: /usr/local/lib/libtcm.so.1 is not a symbolic link\n",
            "\n",
            "/sbin/ldconfig.real: /usr/local/lib/libur_adapter_level_zero.so.0 is not a symbolic link\n",
            "\n",
            "/sbin/ldconfig.real: /usr/local/lib/libur_adapter_opencl.so.0 is not a symbolic link\n",
            "\n",
            "Reading package lists... Done\n",
            "Building dependency tree... Done\n",
            "Reading state information... Done\n",
            "The following additional packages will be installed:\n",
            "  libfftw3-mpi3\n",
            "Suggested packages:\n",
            "  libfftw3-doc\n",
            "The following NEW packages will be installed:\n",
            "  libfftw3-mpi-dev libfftw3-mpi3\n",
            "0 upgraded, 2 newly installed, 0 to remove and 49 not upgraded.\n",
            "Need to get 102 kB of archives.\n",
            "After this operation, 1,052 kB of additional disk space will be used.\n",
            "Get:1 http://archive.ubuntu.com/ubuntu jammy/universe amd64 libfftw3-mpi3 amd64 3.3.8-2ubuntu8 [48.9 kB]\n",
            "Get:2 http://archive.ubuntu.com/ubuntu jammy/universe amd64 libfftw3-mpi-dev amd64 3.3.8-2ubuntu8 [53.3 kB]\n",
            "Fetched 102 kB in 1s (148 kB/s)\n",
            "Selecting previously unselected package libfftw3-mpi3:amd64.\n",
            "(Reading database ... 123737 files and directories currently installed.)\n",
            "Preparing to unpack .../libfftw3-mpi3_3.3.8-2ubuntu8_amd64.deb ...\n",
            "Unpacking libfftw3-mpi3:amd64 (3.3.8-2ubuntu8) ...\n",
            "Selecting previously unselected package libfftw3-mpi-dev:amd64.\n",
            "Preparing to unpack .../libfftw3-mpi-dev_3.3.8-2ubuntu8_amd64.deb ...\n",
            "Unpacking libfftw3-mpi-dev:amd64 (3.3.8-2ubuntu8) ...\n",
            "Setting up libfftw3-mpi3:amd64 (3.3.8-2ubuntu8) ...\n",
            "Setting up libfftw3-mpi-dev:amd64 (3.3.8-2ubuntu8) ...\n",
            "Processing triggers for libc-bin (2.35-0ubuntu3.4) ...\n",
            "/sbin/ldconfig.real: /usr/local/lib/libtcm_debug.so.1 is not a symbolic link\n",
            "\n",
            "/sbin/ldconfig.real: /usr/local/lib/libur_loader.so.0 is not a symbolic link\n",
            "\n",
            "/sbin/ldconfig.real: /usr/local/lib/libhwloc.so.15 is not a symbolic link\n",
            "\n",
            "/sbin/ldconfig.real: /usr/local/lib/libumf.so.0 is not a symbolic link\n",
            "\n",
            "/sbin/ldconfig.real: /usr/local/lib/libtbbmalloc_proxy.so.2 is not a symbolic link\n",
            "\n",
            "/sbin/ldconfig.real: /usr/local/lib/libtbbbind_2_0.so.3 is not a symbolic link\n",
            "\n",
            "/sbin/ldconfig.real: /usr/local/lib/libtbbbind.so.3 is not a symbolic link\n",
            "\n",
            "/sbin/ldconfig.real: /usr/local/lib/libtbbmalloc.so.2 is not a symbolic link\n",
            "\n",
            "/sbin/ldconfig.real: /usr/local/lib/libtbb.so.12 is not a symbolic link\n",
            "\n",
            "/sbin/ldconfig.real: /usr/local/lib/libtbbbind_2_5.so.3 is not a symbolic link\n",
            "\n",
            "/sbin/ldconfig.real: /usr/local/lib/libtcm.so.1 is not a symbolic link\n",
            "\n",
            "/sbin/ldconfig.real: /usr/local/lib/libur_adapter_level_zero.so.0 is not a symbolic link\n",
            "\n",
            "/sbin/ldconfig.real: /usr/local/lib/libur_adapter_opencl.so.0 is not a symbolic link\n",
            "\n",
            "Requirement already satisfied: cython in /usr/local/lib/python3.10/dist-packages (3.0.11)\n",
            "Collecting mpi4py<4.0\n",
            "  Downloading mpi4py-3.1.6.tar.gz (2.4 MB)\n",
            "\u001b[2K     \u001b[90m━━━━━━━━━━━━━━━━━━━━━━━━━━━━━━━━━━━━━━━━\u001b[0m \u001b[32m2.4/2.4 MB\u001b[0m \u001b[31m25.3 MB/s\u001b[0m eta \u001b[36m0:00:00\u001b[0m\n",
            "\u001b[?25h  Installing build dependencies ... \u001b[?25l\u001b[?25hdone\n",
            "  Getting requirements to build wheel ... \u001b[?25l\u001b[?25hdone\n",
            "  Preparing metadata (pyproject.toml) ... \u001b[?25l\u001b[?25hdone\n",
            "Requirement already satisfied: numpy in /usr/local/lib/python3.10/dist-packages (1.26.4)\n",
            "Requirement already satisfied: setuptools in /usr/local/lib/python3.10/dist-packages (75.1.0)\n",
            "Requirement already satisfied: wheel in /usr/local/lib/python3.10/dist-packages (0.45.1)\n",
            "Building wheels for collected packages: mpi4py\n",
            "  Building wheel for mpi4py (pyproject.toml) ... \u001b[?25l\u001b[?25hdone\n",
            "  Created wheel for mpi4py: filename=mpi4py-3.1.6-cp310-cp310-linux_x86_64.whl size=2746322 sha256=7e710c1be5645798eaa91ea7a0dfcedc858ec55882114f2978b0dbf896531145\n",
            "  Stored in directory: /root/.cache/pip/wheels/4c/ca/89/8fc1fb1c620afca13bb41c630b1f948bbf446e0aaa4b762e10\n",
            "Successfully built mpi4py\n",
            "Installing collected packages: mpi4py\n",
            "Successfully installed mpi4py-3.1.6\n",
            "Collecting http://github.com/dedalusproject/dedalus/zipball/master/\n",
            "  Downloading http://github.com/dedalusproject/dedalus/zipball/master/\n",
            "\u001b[2K     \u001b[32m|\u001b[0m \u001b[32m24.5 MB\u001b[0m \u001b[31m25.0 MB/s\u001b[0m \u001b[33m0:00:00\u001b[0m\n",
            "\u001b[?25h  Preparing metadata (pyproject.toml) ... \u001b[?25l\u001b[?25hdone\n",
            "Collecting docopt (from dedalus==3.0.3)\n",
            "  Downloading docopt-0.6.2.tar.gz (25 kB)\n",
            "  Preparing metadata (setup.py) ... \u001b[?25l\u001b[?25hdone\n",
            "Requirement already satisfied: h5py>=3.0.0 in /usr/local/lib/python3.10/dist-packages (from dedalus==3.0.3) (3.12.1)\n",
            "Requirement already satisfied: matplotlib in /usr/local/lib/python3.10/dist-packages (from dedalus==3.0.3) (3.8.0)\n",
            "Requirement already satisfied: mpi4py>=2.0.0 in /usr/local/lib/python3.10/dist-packages (from dedalus==3.0.3) (3.1.6)\n",
            "Requirement already satisfied: numexpr in /usr/local/lib/python3.10/dist-packages (from dedalus==3.0.3) (2.10.2)\n",
            "Requirement already satisfied: numpy>=1.20.0 in /usr/local/lib/python3.10/dist-packages (from dedalus==3.0.3) (1.26.4)\n",
            "Collecting py (from dedalus==3.0.3)\n",
            "  Downloading py-1.11.0-py2.py3-none-any.whl.metadata (2.8 kB)\n",
            "Requirement already satisfied: pytest in /usr/local/lib/python3.10/dist-packages (from dedalus==3.0.3) (8.3.4)\n",
            "Collecting pytest-benchmark (from dedalus==3.0.3)\n",
            "  Downloading pytest_benchmark-5.1.0-py3-none-any.whl.metadata (25 kB)\n",
            "Collecting pytest-cov (from dedalus==3.0.3)\n",
            "  Downloading pytest_cov-6.0.0-py3-none-any.whl.metadata (27 kB)\n",
            "Collecting pytest-parallel (from dedalus==3.0.3)\n",
            "  Downloading pytest_parallel-0.1.1-py3-none-any.whl.metadata (3.0 kB)\n",
            "Requirement already satisfied: scipy>=1.4.0 in /usr/local/lib/python3.10/dist-packages (from dedalus==3.0.3) (1.13.1)\n",
            "Requirement already satisfied: xarray in /usr/local/lib/python3.10/dist-packages (from dedalus==3.0.3) (2024.11.0)\n",
            "Requirement already satisfied: contourpy>=1.0.1 in /usr/local/lib/python3.10/dist-packages (from matplotlib->dedalus==3.0.3) (1.3.1)\n",
            "Requirement already satisfied: cycler>=0.10 in /usr/local/lib/python3.10/dist-packages (from matplotlib->dedalus==3.0.3) (0.12.1)\n",
            "Requirement already satisfied: fonttools>=4.22.0 in /usr/local/lib/python3.10/dist-packages (from matplotlib->dedalus==3.0.3) (4.55.3)\n",
            "Requirement already satisfied: kiwisolver>=1.0.1 in /usr/local/lib/python3.10/dist-packages (from matplotlib->dedalus==3.0.3) (1.4.7)\n",
            "Requirement already satisfied: packaging>=20.0 in /usr/local/lib/python3.10/dist-packages (from matplotlib->dedalus==3.0.3) (24.2)\n",
            "Requirement already satisfied: pillow>=6.2.0 in /usr/local/lib/python3.10/dist-packages (from matplotlib->dedalus==3.0.3) (11.0.0)\n",
            "Requirement already satisfied: pyparsing>=2.3.1 in /usr/local/lib/python3.10/dist-packages (from matplotlib->dedalus==3.0.3) (3.2.0)\n",
            "Requirement already satisfied: python-dateutil>=2.7 in /usr/local/lib/python3.10/dist-packages (from matplotlib->dedalus==3.0.3) (2.8.2)\n",
            "Requirement already satisfied: exceptiongroup>=1.0.0rc8 in /usr/local/lib/python3.10/dist-packages (from pytest->dedalus==3.0.3) (1.2.2)\n",
            "Requirement already satisfied: iniconfig in /usr/local/lib/python3.10/dist-packages (from pytest->dedalus==3.0.3) (2.0.0)\n",
            "Requirement already satisfied: pluggy<2,>=1.5 in /usr/local/lib/python3.10/dist-packages (from pytest->dedalus==3.0.3) (1.5.0)\n",
            "Requirement already satisfied: tomli>=1 in /usr/local/lib/python3.10/dist-packages (from pytest->dedalus==3.0.3) (2.2.1)\n",
            "Requirement already satisfied: py-cpuinfo in /usr/local/lib/python3.10/dist-packages (from pytest-benchmark->dedalus==3.0.3) (9.0.0)\n",
            "Collecting coverage>=7.5 (from coverage[toml]>=7.5->pytest-cov->dedalus==3.0.3)\n",
            "  Downloading coverage-7.6.9-cp310-cp310-manylinux_2_5_x86_64.manylinux1_x86_64.manylinux_2_17_x86_64.manylinux2014_x86_64.whl.metadata (8.2 kB)\n",
            "Collecting tblib (from pytest-parallel->dedalus==3.0.3)\n",
            "  Downloading tblib-3.0.0-py3-none-any.whl.metadata (25 kB)\n",
            "Requirement already satisfied: pandas>=2.1 in /usr/local/lib/python3.10/dist-packages (from xarray->dedalus==3.0.3) (2.2.2)\n",
            "Requirement already satisfied: pytz>=2020.1 in /usr/local/lib/python3.10/dist-packages (from pandas>=2.1->xarray->dedalus==3.0.3) (2024.2)\n",
            "Requirement already satisfied: tzdata>=2022.7 in /usr/local/lib/python3.10/dist-packages (from pandas>=2.1->xarray->dedalus==3.0.3) (2024.2)\n",
            "Requirement already satisfied: six>=1.5 in /usr/local/lib/python3.10/dist-packages (from python-dateutil>=2.7->matplotlib->dedalus==3.0.3) (1.17.0)\n",
            "Downloading py-1.11.0-py2.py3-none-any.whl (98 kB)\n",
            "\u001b[2K   \u001b[90m━━━━━━━━━━━━━━━━━━━━━━━━━━━━━━━━━━━━━━━━\u001b[0m \u001b[32m98.7/98.7 kB\u001b[0m \u001b[31m7.8 MB/s\u001b[0m eta \u001b[36m0:00:00\u001b[0m\n",
            "\u001b[?25hDownloading pytest_benchmark-5.1.0-py3-none-any.whl (44 kB)\n",
            "\u001b[2K   \u001b[90m━━━━━━━━━━━━━━━━━━━━━━━━━━━━━━━━━━━━━━━━\u001b[0m \u001b[32m44.3/44.3 kB\u001b[0m \u001b[31m94.1 MB/s\u001b[0m eta \u001b[36m0:00:00\u001b[0m\n",
            "\u001b[?25hDownloading pytest_cov-6.0.0-py3-none-any.whl (22 kB)\n",
            "Downloading pytest_parallel-0.1.1-py3-none-any.whl (7.0 kB)\n",
            "Downloading coverage-7.6.9-cp310-cp310-manylinux_2_5_x86_64.manylinux1_x86_64.manylinux_2_17_x86_64.manylinux2014_x86_64.whl (234 kB)\n",
            "\u001b[2K   \u001b[90m━━━━━━━━━━━━━━━━━━━━━━━━━━━━━━━━━━━━━━━━\u001b[0m \u001b[32m235.0/235.0 kB\u001b[0m \u001b[31m37.2 MB/s\u001b[0m eta \u001b[36m0:00:00\u001b[0m\n",
            "\u001b[?25hDownloading tblib-3.0.0-py3-none-any.whl (12 kB)\n",
            "Building wheels for collected packages: dedalus, docopt\n",
            "  Building wheel for dedalus (pyproject.toml) ... \u001b[?25l\u001b[?25hdone\n",
            "  Created wheel for dedalus: filename=dedalus-3.0.3-cp310-cp310-linux_x86_64.whl size=3261909 sha256=a4a8a587a1940cd22785abbbda0cdb56a75572d1c050e6afeca188204d543b61\n",
            "  Stored in directory: /tmp/pip-ephem-wheel-cache-vmr1ls_d/wheels/2c/16/80/8c5f40fc4de8dc37ba4cdd4e05d7639677a5f0659c3bbd79a7\n",
            "  Building wheel for docopt (setup.py) ... \u001b[?25l\u001b[?25hdone\n",
            "  Created wheel for docopt: filename=docopt-0.6.2-py2.py3-none-any.whl size=13706 sha256=d4e14d24e535201bb8098036bb115c6e057c017fecadfd19d847ff0534740cd8\n",
            "  Stored in directory: /tmp/pip-ephem-wheel-cache-vmr1ls_d/wheels/fc/ab/d4/5da2067ac95b36618c629a5f93f809425700506f72c9732fac\n",
            "Successfully built dedalus docopt\n",
            "Installing collected packages: docopt, tblib, py, coverage, pytest-parallel, pytest-benchmark, pytest-cov, dedalus\n",
            "Successfully installed coverage-7.6.9 dedalus-3.0.3 docopt-0.6.2 py-1.11.0 pytest-benchmark-5.1.0 pytest-cov-6.0.0 pytest-parallel-0.1.1 tblib-3.0.0\n",
            "\u001b[2K   \u001b[90m━━━━━━━━━━━━━━━━━━━━━━━━━━━━━━━━━━━━━━━━\u001b[0m \u001b[32m516.3/516.3 kB\u001b[0m \u001b[31m9.8 MB/s\u001b[0m eta \u001b[36m0:00:00\u001b[0m\n",
            "\u001b[2K   \u001b[90m━━━━━━━━━━━━━━━━━━━━━━━━━━━━━━━━━━━━━━━━\u001b[0m \u001b[32m1.6/1.6 MB\u001b[0m \u001b[31m38.5 MB/s\u001b[0m eta \u001b[36m0:00:00\u001b[0m\n",
            "\u001b[?25h\n",
            "Dedalus successfully installed :)\n"
          ]
        }
      ],
      "source": [
        "# Set environment variables for best performance\n",
        "%env OMP_NUM_THREADS=1\n",
        "%env NUMEXPR_MAX_THREADS=1\n",
        "\n",
        "# Minimize logging output\n",
        "import logging\n",
        "logging.disable(logging.DEBUG)\n",
        "\n",
        "# Check if running on google colab\n",
        "import os\n",
        "using_google_colab = bool(os.getenv(\"COLAB_RELEASE_TAG\"))\n",
        "\n",
        "# Check for Dedalus\n",
        "try:\n",
        "    import dedalus.public as de\n",
        "    print(\"Dedalus already installed :)\")\n",
        "except:\n",
        "    print(\"Dedalus not installed yet.\")\n",
        "    if using_google_colab:\n",
        "        print(\"Installing for Google Colab.\")\n",
        "        print()\n",
        "        # Step 1: Install FFTW\n",
        "        !apt-get install libfftw3-dev\n",
        "        !apt-get install libfftw3-mpi-dev\n",
        "        # Step 2: Set paths for Dedalus installation\n",
        "        import os\n",
        "        os.environ['MPI_INCLUDE_PATH'] = \"/usr/lib/x86_64-linux-gnu/openmpi/include\"\n",
        "        os.environ['MPI_LIBRARY_PATH'] = \"/usr/lib/x86_64-linux-gnu\"\n",
        "        os.environ['FFTW_INCLUDE_PATH'] = \"/usr/include\"\n",
        "        os.environ['FFTW_LIBRARY_PATH'] = \"/usr/lib/x86_64-linux-gnu\"\n",
        "        # Step 3: Install Dedalus using pip\n",
        "        !pip3 install cython \"mpi4py<4.0\" numpy setuptools wheel\n",
        "        !CC=mpicc pip3 install --no-cache --no-build-isolation http://github.com/dedalusproject/dedalus/zipball/master/\n",
        "        !pip3 install -q ipympl\n",
        "        # Step 4: Check installation\n",
        "        print()\n",
        "        try:\n",
        "            import dedalus.public as de\n",
        "            print(\"Dedalus successfully installed :)\")\n",
        "        except:\n",
        "            print(\"Error installing Dedalus :(\")\n",
        "            raise\n",
        "    else:\n",
        "        print(\"See website for installation instructions:\")\n",
        "        print(\"https://dedalus-project.readthedocs.io/en/latest/pages/installation.html\")\n",
        "\n",
        "# Setup interactive matplotlib\n",
        "if using_google_colab:\n",
        "    from google.colab import output\n",
        "    output.enable_custom_widget_manager()"
      ]
    },
    {
      "cell_type": "markdown",
      "metadata": {
        "id": "V4ltLQAccxVB"
      },
      "source": [
        "## 1. Thermal structure in the ocean\n",
        "\n",
        "Most of the ocean has a stable thermal stratification with warm water at the surface and cold water in the abyss (exceptions occur in salt-stratified waters like the Arctic Ocean). Since the ocean is a massive thermal reservoir, understanding the distribution of this heat is important to quantifying the ocean's role in a changing climate. The structure of the temperature field can also inform us about the circulation in the ocean interior.\n"
      ]
    },
    {
      "cell_type": "markdown",
      "metadata": {
        "id": "zZ26tcJGcxVB"
      },
      "source": [
        "### 1.1 Measured temperature profile\n",
        "\n",
        "The code below plots a sample temperature profile obtained off the coast of California. The data was obtained by digitizing Figure 3 in Munk, 1966."
      ]
    },
    {
      "cell_type": "code",
      "execution_count": 2,
      "metadata": {
        "id": "VLoG_ccPcxVB",
        "outputId": "729724cf-8315-46b4-c464-ab70a3e0f278",
        "colab": {
          "base_uri": "https://localhost:8080/",
          "height": 466
        }
      },
      "outputs": [
        {
          "output_type": "execute_result",
          "data": {
            "text/plain": [
              "Text(0, 0.5, 'Depth (m)')"
            ]
          },
          "metadata": {},
          "execution_count": 2
        },
        {
          "output_type": "display_data",
          "data": {
            "text/plain": [
              "<Figure size 640x480 with 1 Axes>"
            ],
            "image/png": "[encoded data removed]"
          },
          "metadata": {}
        }
      ],
      "source": [
        "import matplotlib.pyplot as plt\n",
        "\n",
        "# Temperature measurements extracted from Figure 3 in Munk, 1966\n",
        "CTD_T = [1.1296296296296295, 1.122004357298475, 1.1143790849673203, 1.1067538126361656, 1.1143790849673203, 1.1143790849673203, 1.1372549019607843, 1.122004357298475, 1.1372549019607843, 1.1525054466230937, 1.2287581699346406, 1.2745098039215685, 1.343137254901961, 1.4041394335511983, 1.526143790849673, 1.6405228758169934, 1.8997821350762527, 2.242919389978214, 2.69281045751634, 3.104575163398693, 3.104575163398693, 3.218954248366013, 3.4324618736383443, 3.8289760348583877, 4.042483660130719, 4.438997821350762]\n",
        "CTD_z = [-4976.958525345623, -4869.431643625192, -4677.419354838709, -4470.046082949309, -4270.353302611367, -4070.6605222734256, -3932.411674347158, -3786.4823348694317, -3586.78955453149, -3394.7772657450078, -3195.084485407066, -2995.3917050691243, -2803.379416282642, -2580.6451612903224, -2350.230414746544, -2112.1351766513058, -1843.3179723502303, -1597.5422427035332, -1344.0860215053763, -1144.3932411674346, -1144.3932411674346, -1121.351766513057, -990.7834101382491, -821.8125960061443, -698.9247311827958, -583.7173579109067]\n",
        "\n",
        "plt.scatter(CTD_T,CTD_z,s=10)\n",
        "plt.xlabel('T (ºC)')\n",
        "plt.ylabel('Depth (m)')\n"
      ]
    },
    {
      "cell_type": "markdown",
      "metadata": {
        "id": "jSj3pc-0cxVB"
      },
      "source": [
        "### 1.2 Abyssal recipes\n",
        "\n",
        "Munk (1966) proposed that the thermal structure of the ocean interior is set by a balance between upwelling and diffusion. In this view, cold waters sink near the poles and spread across the seafloor before slowly rising through the ocean interior. If we assume, as Munk did, that the water upwells uniformly across the globe, the upwelling speed is approximately $10^{-7}$ m/s. This is far too small to directly measure, but it is large enough to have a major impact on the distribution of tracers. Since light can only penetrate through the top ~100m of ocean, we can ignore solar heating, except in that it sets the temperature near the ocean surface."
      ]
    },
    {
      "cell_type": "markdown",
      "metadata": {
        "id": "uKQ5cwdZcxVC"
      },
      "source": [
        "### 1.3 Steady advection/diffusion equation\n",
        "\n",
        "Dedalus can solve differential equations in various forms. In addition to time-dependent initial value problems (IVPs), Dedalus can solve linear and nonlinear boundary value problems. The code below uses Dedalus to solve a linear boundary value problem (IVBP) for the steady state advection/diffusion equation.\n",
        "\n",
        "Here, the top and bottom temperature are set from the measured profile and these are used as boundary conditions. The vertical (upwelling) velocity is set to $10^{-7} m/s$, and the diffusivity is set to $10^{-7}$ $m^2/s$, to approximate the molecular diffusivity of heat in seawater."
      ]
    },
    {
      "cell_type": "code",
      "execution_count": 3,
      "metadata": {
        "id": "t0ILLdNPcxVC",
        "outputId": "ffefc5c6-132e-44ce-a1c7-20cb8c68efdd",
        "colab": {
          "base_uri": "https://localhost:8080/",
          "height": 439
        }
      },
      "outputs": [
        {
          "output_type": "stream",
          "name": "stderr",
          "text": [
            "INFO:subsystems:Building subproblem matrices 1/1 (~100%) Elapsed: 0s, Remaining: 0s, Rate: 4.3e+00/s\n"
          ]
        },
        {
          "output_type": "stream",
          "name": "stdout",
          "text": [
            "2024-12-24 19:08:42,326 subsystems 0/1 INFO :: Building subproblem matrices 1/1 (~100%) Elapsed: 0s, Remaining: 0s, Rate: 4.3e+00/s\n"
          ]
        },
        {
          "output_type": "execute_result",
          "data": {
            "text/plain": [
              "Text(0, 0.5, 'Depth (m)')"
            ]
          },
          "metadata": {},
          "execution_count": 3
        },
        {
          "output_type": "display_data",
          "data": {
            "text/plain": [
              "<Figure size 600x400 with 1 Axes>"
            ],
            "image/png": "[encoded data removed]"
          },
          "metadata": {}
        }
      ],
      "source": [
        "\"\"\"\n",
        "Dedalus script to solve the steady advection/diffusion equation\n",
        "\"\"\"\n",
        "\n",
        "import numpy as np\n",
        "import matplotlib.pyplot as plt\n",
        "import dedalus.public as d3\n",
        "import logging\n",
        "logger = logging.getLogger(__name__)\n",
        "\n",
        "# Set various parameters. Note that the depth and the top and bottom temperature\n",
        "# are taken from the CTD data in the code cell above. That cell must be run first to define CTD_T and CTD_z.\n",
        "z_surface = CTD_z[-1]\n",
        "z_bottom = CTD_z[0]\n",
        "T_surface = CTD_T[-1]\n",
        "T_bottom = CTD_T[0]\n",
        "Nz = 1000\n",
        "\n",
        "# Set the upwelling velocity\n",
        "w = 1e-7 # m/s\n",
        "# Set the diffusivity\n",
        "kappa=8.8e-5 # m^2/s\n",
        "\n",
        "# Bases\n",
        "zcoord = d3.Coordinate('z')\n",
        "dist = d3.Distributor(zcoord, dtype=np.float64)\n",
        "zbasis = d3.Chebyshev(zcoord, size=Nz, bounds=(z_bottom, z_surface))\n",
        "z = dist.local_grid(zbasis)\n",
        "\n",
        "# Fields\n",
        "T = dist.Field(name='T', bases=zbasis)\n",
        "\n",
        "# Add two tau variables to allow us to apply two boundary conditions\n",
        "tau_1 = dist.Field(name='tau_1')\n",
        "tau_2 = dist.Field(name='tau_2')\n",
        "lift_basis = zbasis.derivative_basis(1)\n",
        "lift = lambda A: d3.Lift(A, lift_basis, -1)\n",
        "\n",
        "# Substitutions\n",
        "dz = lambda A: d3.Differentiate(A, zcoord)\n",
        "Tz = dz(T) + lift(tau_1)\n",
        "Tzz = dz(Tz) + lift(tau_2)\n",
        "\n",
        "# Problem\n",
        "problem = d3.LBVP([T, tau_1, tau_2], namespace=locals())\n",
        "problem.add_equation(\"w*Tz - kappa*Tzz = 0\")\n",
        "problem.add_equation(\"T(z=z_surface) = T_surface\")\n",
        "problem.add_equation(\"T(z=z_bottom) = T_bottom\")\n",
        "\n",
        "# Solver\n",
        "solver = problem.build_solver()\n",
        "solver.solve()\n",
        "\n",
        "# Plot\n",
        "plt.figure(figsize=(6, 4))\n",
        "Tg=T['g']\n",
        "plt.scatter(CTD_T,CTD_z,s=10)\n",
        "plt.plot(Tg,z,'k')\n",
        "plt.xlabel('Temperature (ºC)')\n",
        "plt.ylabel('Depth (m)')"
      ]
    },
    {
      "cell_type": "markdown",
      "metadata": {
        "id": "xcclSI2LcxVC"
      },
      "source": [
        "### 1.4 Student investigation\n",
        "<a id='section1pt4'></a>\n",
        "Note that the profile above is not a good fit to the data. This implies that molecular diffusion isn't sufficient to transport heat down from the surface and stop the ocean from filling up with cold, dense water.\n",
        "\n",
        "Munk (1966) proposed that small-scale turbulence in the ocean interior results in a diffusivity that is orders of magnitude larger than the molecular value. Find a diffusivity that gives a good match with the data and test it in the Dedalus script above. Comment on the ability of this model (steady advection/diffusion) to fit the data."
      ]
    },
    {
      "cell_type": "markdown",
      "metadata": {
        "id": "zjrZRgRAcxVC"
      },
      "source": [
        "After experimenting with different values, I observed that the curve becomes smoother as $\\kappa$ increases. The curve appears to fit well when $\\kappa$ is within the range $[7.8 \\times 10^{-5}, 1.1 \\times 10^{-4}]$. When $\\kappa$ increases beyond this range, the curve no longer fits the data.\n",
        "\n",
        "Finally, I chose $\\kappa = 8.8 \\times 10^{-5}$ as it provided the best fit. There is likely an optimal value of $\\kappa$ that minimizes the error and achieves the best fit for the data.\n"
      ]
    },
    {
      "cell_type": "markdown",
      "metadata": {
        "id": "IyqoSaslcxVC"
      },
      "source": [
        "### 1.5 Turning ocean mixing upside down\n",
        "\n",
        "Decades of research to measure the turbulent diffusivity in the ocean consistently found values much smaller than the one predicted by Munk (1966). Specifically, while larger values of the turbulent diffusivity were found near the bottom of the ocean over rough topographic features, the values in the upper ocean were about 10x smaller than the values predicted by Munk. 50 years after Munk's seminal paper, Ferrari et al. (2016) proposed that a depth-dependent turbulent diffusivity could be balanced by <em>downwelling</em>, with negative vertical velocities in the ocean interior. In this theory, the overturning circulation is upwelling in thin boundary layers along the sloping sides of the ocean basins.\n",
        "\n",
        "When the diffusivity, $\\kappa$, is a function of $z$, the steady advection/diffusion equation can be written\n",
        "\n",
        "$$ w\\frac{dT}{dz} = \\frac{d}{dz}\\left(\\kappa(z) \\frac{dT}{dz}\\right)$$\n",
        "\n",
        "The Dedalus script below solves the previous equation and again compares the results with the observed temperature profile. For the depth-dependent diffusivity, $\\kappa(z)$, we take\n",
        "\n",
        "$$ \\kappa(z)=\\kappa_{bg} + (\\kappa_0-\\kappa_{bg})e^{-(z+D)/l} $$\n",
        "\n",
        "using the form from Rogers et al., 2023, where $\\kappa_{bg}=1\\times 10^{-5} m^2/s$ is the background diffusivity characteristic of the upper water column, $\\kappa_0=8.6\\times 10^{-4} m^2/s$ characterizes the enhanced mixing near the bottom of the ocean, $D$ is a reference depth where $\\kappa=\\kappa_0$, and $l=667m$ is an exponential decay scale. In the script below, we start with $w=0$."
      ]
    },
    {
      "cell_type": "code",
      "execution_count": 4,
      "metadata": {
        "id": "sPj0oOdvcxVD",
        "outputId": "5f6f0b9e-f2d1-4799-c4c5-7d9a7cde0ecd",
        "colab": {
          "base_uri": "https://localhost:8080/",
          "height": 439
        }
      },
      "outputs": [
        {
          "output_type": "stream",
          "name": "stderr",
          "text": [
            "INFO:subsystems:Building subproblem matrices 1/1 (~100%) Elapsed: 1s, Remaining: 0s, Rate: 7.7e-01/s\n"
          ]
        },
        {
          "output_type": "stream",
          "name": "stdout",
          "text": [
            "2024-12-24 19:08:47,084 subsystems 0/1 INFO :: Building subproblem matrices 1/1 (~100%) Elapsed: 1s, Remaining: 0s, Rate: 7.7e-01/s\n"
          ]
        },
        {
          "output_type": "execute_result",
          "data": {
            "text/plain": [
              "Text(0, 0.5, 'Depth (m)')"
            ]
          },
          "metadata": {},
          "execution_count": 4
        },
        {
          "output_type": "display_data",
          "data": {
            "text/plain": [
              "<Figure size 600x400 with 1 Axes>"
            ],
            "image/png": "[encoded data removed]"
          },
          "metadata": {}
        }
      ],
      "source": [
        "\"\"\"\n",
        "Dedalus script to solve the steady advection/diffusion equation\n",
        "with a spatially-variable diffusivity\n",
        "\"\"\"\n",
        "\n",
        "import numpy as np\n",
        "import matplotlib.pyplot as plt\n",
        "import dedalus.public as d3\n",
        "import logging\n",
        "logger = logging.getLogger(__name__)\n",
        "\n",
        "# Set various parameters. Note that the depth and the top and bottom temperature\n",
        "# are taken from the CTD data in the code cell above. That cell must be run first to define CTD_T and CTD_z.\n",
        "z_surface = CTD_z[-1]\n",
        "z_bottom = CTD_z[0]\n",
        "T_surface = CTD_T[-1]\n",
        "T_bottom = CTD_T[0]\n",
        "Nz = 1000\n",
        "\n",
        "# Set the vertical velocity\n",
        "w = 8e-9  # m/s\n",
        "\n",
        "# Bases\n",
        "zcoord = d3.Coordinate('z')\n",
        "dist = d3.Distributor(zcoord, dtype=np.float64)\n",
        "zbasis = d3.Chebyshev(zcoord, size=Nz, bounds=(z_bottom, z_surface))\n",
        "z = dist.local_grid(zbasis)\n",
        "\n",
        "# Fields\n",
        "T = dist.Field(name='T', bases=zbasis)\n",
        "kappa = dist.Field(name='kappa', bases=zbasis)\n",
        "# Set the diffusivity\n",
        "# Below is the diffusivity profile from Rogers et al., 2023\n",
        "kappa['g']=1e-5 + (8.6e-4-1e-5)*np.exp((-5e3-z)/667) # m^2/s kappa['g'] = 1e-5 + (8.6e-4 - 1e-5) * np.exp((-5e3 - z) / 667) # m^2/s\n",
        "\n",
        "\n",
        "# Add two tau variables to allow us to apply two boundary conditions\n",
        "tau_1 = dist.Field(name='tau_1')\n",
        "tau_2 = dist.Field(name='tau_2')\n",
        "lift_basis = zbasis.derivative_basis(1)\n",
        "lift = lambda A: d3.Lift(A, lift_basis, -1)\n",
        "\n",
        "# Substitutions\n",
        "dz = lambda A: d3.Differentiate(A, zcoord)\n",
        "Tz = dz(T) + lift(tau_1)\n",
        "Tzz = dz(Tz) + lift(tau_2)\n",
        "\n",
        "# Problem\n",
        "problem = d3.LBVP([T, tau_1, tau_2], namespace=locals())\n",
        "problem.add_equation(\"w*Tz - dz(kappa*Tz) + lift(tau_2) = 0\")\n",
        "problem.add_equation(\"T(z=z_surface) = T_surface\")\n",
        "problem.add_equation(\"T(z=z_bottom) = T_bottom\")\n",
        "\n",
        "# Solver\n",
        "solver = problem.build_solver()\n",
        "solver.solve()\n",
        "\n",
        "# Plot\n",
        "plt.figure(figsize=(6, 4))\n",
        "Tg=T['g']\n",
        "plt.scatter(CTD_T,CTD_z,s=10)\n",
        "plt.plot(Tg,z,'k')\n",
        "plt.xlabel('Temperature (ºC)')\n",
        "plt.ylabel('Depth (m)')"
      ]
    },
    {
      "cell_type": "markdown",
      "metadata": {
        "id": "lh8QZJd7cxVD"
      },
      "source": [
        "### 1.6 Student investigation\n",
        "<a id='section1pt6'></a>\n",
        "Note from the results of the script above that the density profile is reasonable, even though $w=0$. In the box below, comment on the balance in this case and what this implies about the diffusive heat flux.\n",
        "\n",
        "Next, find a vertical velocity that produces a better agreement with the observations and report it below. Then, try varying the details of the $\\kappa(z)$ profile. How sensitive is the optimal $w$ to your choice of $\\kappa(z)$? What does this imply about the circulation in the ocean interior if $\\kappa(z)$ varies between regions of smooth and rough topography?\n",
        "\n",
        "(As an aside, note that the requied vertical velocity is much smaller than the one used by Munk (1966). This implies that the dense, cold water that sinks at the poles must rise elsewhere. Ferrari et al. (2016) proposed that this occurs in boundary layers near the seafloor.)"
      ]
    },
    {
      "cell_type": "markdown",
      "metadata": {
        "id": "tb6UDLcbcxVD"
      },
      "source": [
        "When $w = 0$, the model is below the dataset and it is not a good fit. This indicates that there should exist vertical velocity (so the turbulence should be circulation).\n",
        "\n",
        "I found $w = 8 \\times 10^{-9}$ fits well with the data.\n",
        "\n",
        "When increasing $\\kappa_{bg}$, the curve is fitted below the dataset. In contrast, when decreasing $\\kappa_{bg}$, the curve is fitted above the dataset (kept the rest of the values the same and $w = 8 \\times 10^{-9}$). This shows the optimal $w$ is quite sensitive to the value $\\kappa_{bg}$.\n",
        "\n",
        "Then I changed the value $\\kappa_0$ while initialise the other values, and the model is not very sensitive to $\\kappa_0$ value.\n",
        "\n",
        "Finally, I played with the value $l$ and kept the rest of the values unchanged. Increasing or decreasing $l$ does not show a noticeable influence on the graph (I tried a few numbers $l \\in [300, 1000]$).\n",
        "\n",
        "If $\\kappa(z)$ varies significantly between smooth and rough topography, it indicates that ocean interior circulation is strongly influenced by local topographic features. In rough topography regions, higher $\\kappa(z)$ enhances turbulent mixing, promoting upward movement of dense, cold water and contributing to overturning circulation. In smooth topography regions, lower $\\kappa(z)$ results in weaker mixing, with vertical motion (e.g., upwelling or downwelling) being less prominent and more dependent on boundary-layer processes along slopes. The sensitivity of the model to $\\kappa_{bg}$ suggests that circulation is highly dependent on spatial variability in diffusivity, with different $\\kappa(z)$ regions creating differential vertical velocities that impact local and regional heat and density distribution. Rough topography acts as a “hotspot” for mixing and vertical motion, playing a critical role in balancing global overturning circulation."
      ]
    },
    {
      "cell_type": "markdown",
      "metadata": {
        "id": "v7sBRxlMcxVE"
      },
      "source": [
        "## 2. Transport of pollution in a river\n",
        "\n",
        "Advection/diffusion equations are a common way to model the material transport in many physical systems. In this section we will model the transport and dilution of a pollutants added to a river.\n",
        "\n",
        "For simplicity, we will model the river as a rectangular channel, and we will neglect depth variations. Let $x$ be the coordinate along the length of the river, and $y$ be the cross-stream coordinate. We will model the river current as\n",
        "\n",
        "$$ u(y) = U_0\\left(1-\\frac{(y-w/2)^2}{(w/2)^2}\\right) $$\n",
        "\n",
        "where $w$ is the width of the river and $U_0$ is the maximum current speed which occurs at the center of the river (the $y$-coordinate will run from 0 to $w$).\n",
        "\n",
        "Since we want to know how the pollution levels vary in time, we will solve the time-dependent advection/diffusion equation. We will model the addition of pollution by adding a spatially-dependent source term to the right hand side of the equation governing pollutant concentration:\n",
        "\n",
        "$$ \\frac{\\partial c}{\\partial t} + u(y)\\frac{\\partial c}{\\partial x} = \\kappa \\nabla^2 c + S(x,y) $$\n",
        "\n",
        "where $\\nabla^2=(\\partial_x^2 + \\partial_y^2)$ is the Laplacian operator for diffusion in 2D Cartesian coordinates, and $S$ is the source term."
      ]
    },
    {
      "cell_type": "markdown",
      "metadata": {
        "id": "q_pyhxtvcxVE"
      },
      "source": [
        "### 2.1 Dedalus script\n",
        "\n",
        "The script below solves the time-dependent advection/diffusion equation with a source term."
      ]
    },
    {
      "cell_type": "code",
      "execution_count": 6,
      "metadata": {
        "id": "j297Ok-zcxVE",
        "collapsed": true,
        "outputId": "72cf3014-6b50-4caf-a4eb-b3ac19e159b6",
        "colab": {
          "base_uri": "https://localhost:8080/"
        }
      },
      "outputs": [
        {
          "output_type": "stream",
          "name": "stderr",
          "text": [
            "INFO:subsystems:Building subproblem matrices 1/1 (~100%) Elapsed: 0s, Remaining: 0s, Rate: 2.6e+00/s\n"
          ]
        },
        {
          "output_type": "stream",
          "name": "stdout",
          "text": [
            "2024-12-24 19:09:25,413 subsystems 0/1 INFO :: Building subproblem matrices 1/1 (~100%) Elapsed: 0s, Remaining: 0s, Rate: 2.6e+00/s\n"
          ]
        },
        {
          "output_type": "stream",
          "name": "stderr",
          "text": [
            "INFO:__main__:Starting main loop\n"
          ]
        },
        {
          "output_type": "stream",
          "name": "stdout",
          "text": [
            "2024-12-24 19:09:25,424 __main__ 0/1 INFO :: Starting main loop\n"
          ]
        },
        {
          "output_type": "stream",
          "name": "stderr",
          "text": [
            "INFO:__main__:Iteration=1, Time=1.953125e+00, dt=1.953125e+00\n"
          ]
        },
        {
          "output_type": "stream",
          "name": "stdout",
          "text": [
            "2024-12-24 19:09:25,508 __main__ 0/1 INFO :: Iteration=1, Time=1.953125e+00, dt=1.953125e+00\n"
          ]
        },
        {
          "output_type": "stream",
          "name": "stderr",
          "text": [
            "INFO:__main__:Iteration=11, Time=2.148438e+01, dt=1.953125e+00\n"
          ]
        },
        {
          "output_type": "stream",
          "name": "stdout",
          "text": [
            "2024-12-24 19:09:25,556 __main__ 0/1 INFO :: Iteration=11, Time=2.148438e+01, dt=1.953125e+00\n"
          ]
        },
        {
          "output_type": "stream",
          "name": "stderr",
          "text": [
            "INFO:__main__:Iteration=21, Time=4.101562e+01, dt=1.953125e+00\n"
          ]
        },
        {
          "output_type": "stream",
          "name": "stdout",
          "text": [
            "2024-12-24 19:09:25,606 __main__ 0/1 INFO :: Iteration=21, Time=4.101562e+01, dt=1.953125e+00\n"
          ]
        },
        {
          "output_type": "stream",
          "name": "stderr",
          "text": [
            "INFO:__main__:Iteration=31, Time=6.054688e+01, dt=1.953125e+00\n"
          ]
        },
        {
          "output_type": "stream",
          "name": "stdout",
          "text": [
            "2024-12-24 19:09:25,657 __main__ 0/1 INFO :: Iteration=31, Time=6.054688e+01, dt=1.953125e+00\n"
          ]
        },
        {
          "output_type": "stream",
          "name": "stderr",
          "text": [
            "INFO:__main__:Iteration=41, Time=8.007812e+01, dt=1.953125e+00\n"
          ]
        },
        {
          "output_type": "stream",
          "name": "stdout",
          "text": [
            "2024-12-24 19:09:25,703 __main__ 0/1 INFO :: Iteration=41, Time=8.007812e+01, dt=1.953125e+00\n"
          ]
        },
        {
          "output_type": "stream",
          "name": "stderr",
          "text": [
            "INFO:__main__:Iteration=51, Time=9.960938e+01, dt=1.953125e+00\n"
          ]
        },
        {
          "output_type": "stream",
          "name": "stdout",
          "text": [
            "2024-12-24 19:09:25,749 __main__ 0/1 INFO :: Iteration=51, Time=9.960938e+01, dt=1.953125e+00\n"
          ]
        },
        {
          "output_type": "stream",
          "name": "stderr",
          "text": [
            "INFO:__main__:Iteration=61, Time=1.191406e+02, dt=1.953125e+00\n"
          ]
        },
        {
          "output_type": "stream",
          "name": "stdout",
          "text": [
            "2024-12-24 19:09:25,798 __main__ 0/1 INFO :: Iteration=61, Time=1.191406e+02, dt=1.953125e+00\n"
          ]
        },
        {
          "output_type": "stream",
          "name": "stderr",
          "text": [
            "INFO:__main__:Iteration=71, Time=1.386719e+02, dt=1.953125e+00\n"
          ]
        },
        {
          "output_type": "stream",
          "name": "stdout",
          "text": [
            "2024-12-24 19:09:25,846 __main__ 0/1 INFO :: Iteration=71, Time=1.386719e+02, dt=1.953125e+00\n"
          ]
        },
        {
          "output_type": "stream",
          "name": "stderr",
          "text": [
            "INFO:__main__:Iteration=81, Time=1.582031e+02, dt=1.953125e+00\n"
          ]
        },
        {
          "output_type": "stream",
          "name": "stdout",
          "text": [
            "2024-12-24 19:09:25,891 __main__ 0/1 INFO :: Iteration=81, Time=1.582031e+02, dt=1.953125e+00\n"
          ]
        },
        {
          "output_type": "stream",
          "name": "stderr",
          "text": [
            "INFO:__main__:Iteration=91, Time=1.777344e+02, dt=1.953125e+00\n"
          ]
        },
        {
          "output_type": "stream",
          "name": "stdout",
          "text": [
            "2024-12-24 19:09:25,934 __main__ 0/1 INFO :: Iteration=91, Time=1.777344e+02, dt=1.953125e+00\n"
          ]
        },
        {
          "output_type": "stream",
          "name": "stderr",
          "text": [
            "INFO:__main__:Iteration=101, Time=1.972656e+02, dt=1.953125e+00\n"
          ]
        },
        {
          "output_type": "stream",
          "name": "stdout",
          "text": [
            "2024-12-24 19:09:25,979 __main__ 0/1 INFO :: Iteration=101, Time=1.972656e+02, dt=1.953125e+00\n"
          ]
        },
        {
          "output_type": "stream",
          "name": "stderr",
          "text": [
            "INFO:__main__:Iteration=111, Time=2.167969e+02, dt=1.953125e+00\n"
          ]
        },
        {
          "output_type": "stream",
          "name": "stdout",
          "text": [
            "2024-12-24 19:09:26,020 __main__ 0/1 INFO :: Iteration=111, Time=2.167969e+02, dt=1.953125e+00\n"
          ]
        },
        {
          "output_type": "stream",
          "name": "stderr",
          "text": [
            "INFO:__main__:Iteration=121, Time=2.363281e+02, dt=1.953125e+00\n"
          ]
        },
        {
          "output_type": "stream",
          "name": "stdout",
          "text": [
            "2024-12-24 19:09:26,061 __main__ 0/1 INFO :: Iteration=121, Time=2.363281e+02, dt=1.953125e+00\n"
          ]
        },
        {
          "output_type": "stream",
          "name": "stderr",
          "text": [
            "INFO:__main__:Iteration=131, Time=2.558594e+02, dt=1.953125e+00\n"
          ]
        },
        {
          "output_type": "stream",
          "name": "stdout",
          "text": [
            "2024-12-24 19:09:26,102 __main__ 0/1 INFO :: Iteration=131, Time=2.558594e+02, dt=1.953125e+00\n"
          ]
        },
        {
          "output_type": "stream",
          "name": "stderr",
          "text": [
            "INFO:__main__:Iteration=141, Time=2.753906e+02, dt=1.953125e+00\n"
          ]
        },
        {
          "output_type": "stream",
          "name": "stdout",
          "text": [
            "2024-12-24 19:09:26,144 __main__ 0/1 INFO :: Iteration=141, Time=2.753906e+02, dt=1.953125e+00\n"
          ]
        },
        {
          "output_type": "stream",
          "name": "stderr",
          "text": [
            "INFO:__main__:Iteration=151, Time=2.949219e+02, dt=1.953125e+00\n"
          ]
        },
        {
          "output_type": "stream",
          "name": "stdout",
          "text": [
            "2024-12-24 19:09:26,191 __main__ 0/1 INFO :: Iteration=151, Time=2.949219e+02, dt=1.953125e+00\n"
          ]
        },
        {
          "output_type": "stream",
          "name": "stderr",
          "text": [
            "INFO:__main__:Iteration=161, Time=3.144531e+02, dt=1.953125e+00\n"
          ]
        },
        {
          "output_type": "stream",
          "name": "stdout",
          "text": [
            "2024-12-24 19:09:26,245 __main__ 0/1 INFO :: Iteration=161, Time=3.144531e+02, dt=1.953125e+00\n"
          ]
        },
        {
          "output_type": "stream",
          "name": "stderr",
          "text": [
            "INFO:__main__:Iteration=171, Time=3.339844e+02, dt=1.953125e+00\n"
          ]
        },
        {
          "output_type": "stream",
          "name": "stdout",
          "text": [
            "2024-12-24 19:09:26,288 __main__ 0/1 INFO :: Iteration=171, Time=3.339844e+02, dt=1.953125e+00\n"
          ]
        },
        {
          "output_type": "stream",
          "name": "stderr",
          "text": [
            "INFO:__main__:Iteration=181, Time=3.535156e+02, dt=1.953125e+00\n"
          ]
        },
        {
          "output_type": "stream",
          "name": "stdout",
          "text": [
            "2024-12-24 19:09:26,329 __main__ 0/1 INFO :: Iteration=181, Time=3.535156e+02, dt=1.953125e+00\n"
          ]
        },
        {
          "output_type": "stream",
          "name": "stderr",
          "text": [
            "INFO:__main__:Iteration=191, Time=3.730469e+02, dt=1.953125e+00\n"
          ]
        },
        {
          "output_type": "stream",
          "name": "stdout",
          "text": [
            "2024-12-24 19:09:26,372 __main__ 0/1 INFO :: Iteration=191, Time=3.730469e+02, dt=1.953125e+00\n"
          ]
        },
        {
          "output_type": "stream",
          "name": "stderr",
          "text": [
            "INFO:__main__:Iteration=201, Time=3.925781e+02, dt=1.953125e+00\n"
          ]
        },
        {
          "output_type": "stream",
          "name": "stdout",
          "text": [
            "2024-12-24 19:09:26,414 __main__ 0/1 INFO :: Iteration=201, Time=3.925781e+02, dt=1.953125e+00\n"
          ]
        },
        {
          "output_type": "stream",
          "name": "stderr",
          "text": [
            "INFO:__main__:Iteration=211, Time=4.121094e+02, dt=1.953125e+00\n"
          ]
        },
        {
          "output_type": "stream",
          "name": "stdout",
          "text": [
            "2024-12-24 19:09:26,457 __main__ 0/1 INFO :: Iteration=211, Time=4.121094e+02, dt=1.953125e+00\n"
          ]
        },
        {
          "output_type": "stream",
          "name": "stderr",
          "text": [
            "INFO:__main__:Iteration=221, Time=4.316406e+02, dt=1.953125e+00\n"
          ]
        },
        {
          "output_type": "stream",
          "name": "stdout",
          "text": [
            "2024-12-24 19:09:26,526 __main__ 0/1 INFO :: Iteration=221, Time=4.316406e+02, dt=1.953125e+00\n"
          ]
        },
        {
          "output_type": "stream",
          "name": "stderr",
          "text": [
            "INFO:__main__:Iteration=231, Time=4.511719e+02, dt=1.953125e+00\n"
          ]
        },
        {
          "output_type": "stream",
          "name": "stdout",
          "text": [
            "2024-12-24 19:09:26,582 __main__ 0/1 INFO :: Iteration=231, Time=4.511719e+02, dt=1.953125e+00\n"
          ]
        },
        {
          "output_type": "stream",
          "name": "stderr",
          "text": [
            "INFO:__main__:Iteration=241, Time=4.707031e+02, dt=1.953125e+00\n"
          ]
        },
        {
          "output_type": "stream",
          "name": "stdout",
          "text": [
            "2024-12-24 19:09:26,640 __main__ 0/1 INFO :: Iteration=241, Time=4.707031e+02, dt=1.953125e+00\n"
          ]
        },
        {
          "output_type": "stream",
          "name": "stderr",
          "text": [
            "INFO:__main__:Iteration=251, Time=4.902344e+02, dt=1.953125e+00\n"
          ]
        },
        {
          "output_type": "stream",
          "name": "stdout",
          "text": [
            "2024-12-24 19:09:26,687 __main__ 0/1 INFO :: Iteration=251, Time=4.902344e+02, dt=1.953125e+00\n"
          ]
        },
        {
          "output_type": "stream",
          "name": "stderr",
          "text": [
            "INFO:__main__:Iteration=261, Time=5.097656e+02, dt=1.953125e+00\n"
          ]
        },
        {
          "output_type": "stream",
          "name": "stdout",
          "text": [
            "2024-12-24 19:09:26,738 __main__ 0/1 INFO :: Iteration=261, Time=5.097656e+02, dt=1.953125e+00\n"
          ]
        },
        {
          "output_type": "stream",
          "name": "stderr",
          "text": [
            "INFO:__main__:Iteration=271, Time=5.292969e+02, dt=1.953125e+00\n"
          ]
        },
        {
          "output_type": "stream",
          "name": "stdout",
          "text": [
            "2024-12-24 19:09:26,794 __main__ 0/1 INFO :: Iteration=271, Time=5.292969e+02, dt=1.953125e+00\n"
          ]
        },
        {
          "output_type": "stream",
          "name": "stderr",
          "text": [
            "INFO:__main__:Iteration=281, Time=5.488281e+02, dt=1.953125e+00\n"
          ]
        },
        {
          "output_type": "stream",
          "name": "stdout",
          "text": [
            "2024-12-24 19:09:26,849 __main__ 0/1 INFO :: Iteration=281, Time=5.488281e+02, dt=1.953125e+00\n"
          ]
        },
        {
          "output_type": "stream",
          "name": "stderr",
          "text": [
            "INFO:__main__:Iteration=291, Time=5.683594e+02, dt=1.953125e+00\n"
          ]
        },
        {
          "output_type": "stream",
          "name": "stdout",
          "text": [
            "2024-12-24 19:09:26,898 __main__ 0/1 INFO :: Iteration=291, Time=5.683594e+02, dt=1.953125e+00\n"
          ]
        },
        {
          "output_type": "stream",
          "name": "stderr",
          "text": [
            "INFO:__main__:Iteration=301, Time=5.878906e+02, dt=1.953125e+00\n"
          ]
        },
        {
          "output_type": "stream",
          "name": "stdout",
          "text": [
            "2024-12-24 19:09:26,947 __main__ 0/1 INFO :: Iteration=301, Time=5.878906e+02, dt=1.953125e+00\n"
          ]
        },
        {
          "output_type": "stream",
          "name": "stderr",
          "text": [
            "INFO:__main__:Iteration=311, Time=6.074219e+02, dt=1.953125e+00\n"
          ]
        },
        {
          "output_type": "stream",
          "name": "stdout",
          "text": [
            "2024-12-24 19:09:26,988 __main__ 0/1 INFO :: Iteration=311, Time=6.074219e+02, dt=1.953125e+00\n"
          ]
        },
        {
          "output_type": "stream",
          "name": "stderr",
          "text": [
            "INFO:__main__:Iteration=321, Time=6.269531e+02, dt=1.953125e+00\n"
          ]
        },
        {
          "output_type": "stream",
          "name": "stdout",
          "text": [
            "2024-12-24 19:09:27,030 __main__ 0/1 INFO :: Iteration=321, Time=6.269531e+02, dt=1.953125e+00\n"
          ]
        },
        {
          "output_type": "stream",
          "name": "stderr",
          "text": [
            "INFO:__main__:Iteration=331, Time=6.464844e+02, dt=1.953125e+00\n"
          ]
        },
        {
          "output_type": "stream",
          "name": "stdout",
          "text": [
            "2024-12-24 19:09:27,080 __main__ 0/1 INFO :: Iteration=331, Time=6.464844e+02, dt=1.953125e+00\n"
          ]
        },
        {
          "output_type": "stream",
          "name": "stderr",
          "text": [
            "INFO:__main__:Iteration=341, Time=6.660156e+02, dt=1.953125e+00\n"
          ]
        },
        {
          "output_type": "stream",
          "name": "stdout",
          "text": [
            "2024-12-24 19:09:27,127 __main__ 0/1 INFO :: Iteration=341, Time=6.660156e+02, dt=1.953125e+00\n"
          ]
        },
        {
          "output_type": "stream",
          "name": "stderr",
          "text": [
            "INFO:__main__:Iteration=351, Time=6.855469e+02, dt=1.953125e+00\n"
          ]
        },
        {
          "output_type": "stream",
          "name": "stdout",
          "text": [
            "2024-12-24 19:09:27,171 __main__ 0/1 INFO :: Iteration=351, Time=6.855469e+02, dt=1.953125e+00\n"
          ]
        },
        {
          "output_type": "stream",
          "name": "stderr",
          "text": [
            "INFO:__main__:Iteration=361, Time=7.050781e+02, dt=1.953125e+00\n"
          ]
        },
        {
          "output_type": "stream",
          "name": "stdout",
          "text": [
            "2024-12-24 19:09:27,223 __main__ 0/1 INFO :: Iteration=361, Time=7.050781e+02, dt=1.953125e+00\n"
          ]
        },
        {
          "output_type": "stream",
          "name": "stderr",
          "text": [
            "INFO:__main__:Iteration=371, Time=7.246094e+02, dt=1.953125e+00\n"
          ]
        },
        {
          "output_type": "stream",
          "name": "stdout",
          "text": [
            "2024-12-24 19:09:27,270 __main__ 0/1 INFO :: Iteration=371, Time=7.246094e+02, dt=1.953125e+00\n"
          ]
        },
        {
          "output_type": "stream",
          "name": "stderr",
          "text": [
            "INFO:__main__:Iteration=381, Time=7.441406e+02, dt=1.953125e+00\n"
          ]
        },
        {
          "output_type": "stream",
          "name": "stdout",
          "text": [
            "2024-12-24 19:09:27,331 __main__ 0/1 INFO :: Iteration=381, Time=7.441406e+02, dt=1.953125e+00\n"
          ]
        },
        {
          "output_type": "stream",
          "name": "stderr",
          "text": [
            "INFO:__main__:Iteration=391, Time=7.636719e+02, dt=1.953125e+00\n"
          ]
        },
        {
          "output_type": "stream",
          "name": "stdout",
          "text": [
            "2024-12-24 19:09:27,381 __main__ 0/1 INFO :: Iteration=391, Time=7.636719e+02, dt=1.953125e+00\n"
          ]
        },
        {
          "output_type": "stream",
          "name": "stderr",
          "text": [
            "INFO:__main__:Iteration=401, Time=7.832031e+02, dt=1.953125e+00\n"
          ]
        },
        {
          "output_type": "stream",
          "name": "stdout",
          "text": [
            "2024-12-24 19:09:27,426 __main__ 0/1 INFO :: Iteration=401, Time=7.832031e+02, dt=1.953125e+00\n"
          ]
        },
        {
          "output_type": "stream",
          "name": "stderr",
          "text": [
            "INFO:__main__:Iteration=411, Time=8.027344e+02, dt=1.953125e+00\n"
          ]
        },
        {
          "output_type": "stream",
          "name": "stdout",
          "text": [
            "2024-12-24 19:09:27,470 __main__ 0/1 INFO :: Iteration=411, Time=8.027344e+02, dt=1.953125e+00\n"
          ]
        },
        {
          "output_type": "stream",
          "name": "stderr",
          "text": [
            "INFO:__main__:Iteration=421, Time=8.222656e+02, dt=1.953125e+00\n"
          ]
        },
        {
          "output_type": "stream",
          "name": "stdout",
          "text": [
            "2024-12-24 19:09:27,522 __main__ 0/1 INFO :: Iteration=421, Time=8.222656e+02, dt=1.953125e+00\n"
          ]
        },
        {
          "output_type": "stream",
          "name": "stderr",
          "text": [
            "INFO:__main__:Iteration=431, Time=8.417969e+02, dt=1.953125e+00\n"
          ]
        },
        {
          "output_type": "stream",
          "name": "stdout",
          "text": [
            "2024-12-24 19:09:27,574 __main__ 0/1 INFO :: Iteration=431, Time=8.417969e+02, dt=1.953125e+00\n"
          ]
        },
        {
          "output_type": "stream",
          "name": "stderr",
          "text": [
            "INFO:__main__:Iteration=441, Time=8.613281e+02, dt=1.953125e+00\n"
          ]
        },
        {
          "output_type": "stream",
          "name": "stdout",
          "text": [
            "2024-12-24 19:09:27,617 __main__ 0/1 INFO :: Iteration=441, Time=8.613281e+02, dt=1.953125e+00\n"
          ]
        },
        {
          "output_type": "stream",
          "name": "stderr",
          "text": [
            "INFO:__main__:Iteration=451, Time=8.808594e+02, dt=1.953125e+00\n"
          ]
        },
        {
          "output_type": "stream",
          "name": "stdout",
          "text": [
            "2024-12-24 19:09:27,666 __main__ 0/1 INFO :: Iteration=451, Time=8.808594e+02, dt=1.953125e+00\n"
          ]
        },
        {
          "output_type": "stream",
          "name": "stderr",
          "text": [
            "INFO:__main__:Iteration=461, Time=9.003906e+02, dt=1.953125e+00\n"
          ]
        },
        {
          "output_type": "stream",
          "name": "stdout",
          "text": [
            "2024-12-24 19:09:27,716 __main__ 0/1 INFO :: Iteration=461, Time=9.003906e+02, dt=1.953125e+00\n"
          ]
        },
        {
          "output_type": "stream",
          "name": "stderr",
          "text": [
            "INFO:__main__:Iteration=471, Time=9.199219e+02, dt=1.953125e+00\n"
          ]
        },
        {
          "output_type": "stream",
          "name": "stdout",
          "text": [
            "2024-12-24 19:09:27,773 __main__ 0/1 INFO :: Iteration=471, Time=9.199219e+02, dt=1.953125e+00\n"
          ]
        },
        {
          "output_type": "stream",
          "name": "stderr",
          "text": [
            "INFO:__main__:Iteration=481, Time=9.394531e+02, dt=1.953125e+00\n"
          ]
        },
        {
          "output_type": "stream",
          "name": "stdout",
          "text": [
            "2024-12-24 19:09:27,826 __main__ 0/1 INFO :: Iteration=481, Time=9.394531e+02, dt=1.953125e+00\n"
          ]
        },
        {
          "output_type": "stream",
          "name": "stderr",
          "text": [
            "INFO:__main__:Iteration=491, Time=9.589844e+02, dt=1.953125e+00\n"
          ]
        },
        {
          "output_type": "stream",
          "name": "stdout",
          "text": [
            "2024-12-24 19:09:27,874 __main__ 0/1 INFO :: Iteration=491, Time=9.589844e+02, dt=1.953125e+00\n"
          ]
        },
        {
          "output_type": "stream",
          "name": "stderr",
          "text": [
            "INFO:__main__:Iteration=501, Time=9.785156e+02, dt=1.953125e+00\n"
          ]
        },
        {
          "output_type": "stream",
          "name": "stdout",
          "text": [
            "2024-12-24 19:09:27,920 __main__ 0/1 INFO :: Iteration=501, Time=9.785156e+02, dt=1.953125e+00\n"
          ]
        },
        {
          "output_type": "stream",
          "name": "stderr",
          "text": [
            "INFO:__main__:Iteration=511, Time=9.980469e+02, dt=1.953125e+00\n"
          ]
        },
        {
          "output_type": "stream",
          "name": "stdout",
          "text": [
            "2024-12-24 19:09:27,967 __main__ 0/1 INFO :: Iteration=511, Time=9.980469e+02, dt=1.953125e+00\n"
          ]
        },
        {
          "output_type": "stream",
          "name": "stderr",
          "text": [
            "INFO:__main__:Iteration=521, Time=1.017578e+03, dt=1.953125e+00\n"
          ]
        },
        {
          "output_type": "stream",
          "name": "stdout",
          "text": [
            "2024-12-24 19:09:28,010 __main__ 0/1 INFO :: Iteration=521, Time=1.017578e+03, dt=1.953125e+00\n"
          ]
        },
        {
          "output_type": "stream",
          "name": "stderr",
          "text": [
            "INFO:__main__:Iteration=531, Time=1.037109e+03, dt=1.953125e+00\n"
          ]
        },
        {
          "output_type": "stream",
          "name": "stdout",
          "text": [
            "2024-12-24 19:09:28,053 __main__ 0/1 INFO :: Iteration=531, Time=1.037109e+03, dt=1.953125e+00\n"
          ]
        },
        {
          "output_type": "stream",
          "name": "stderr",
          "text": [
            "INFO:__main__:Iteration=541, Time=1.056641e+03, dt=1.953125e+00\n"
          ]
        },
        {
          "output_type": "stream",
          "name": "stdout",
          "text": [
            "2024-12-24 19:09:28,096 __main__ 0/1 INFO :: Iteration=541, Time=1.056641e+03, dt=1.953125e+00\n"
          ]
        },
        {
          "output_type": "stream",
          "name": "stderr",
          "text": [
            "INFO:__main__:Iteration=551, Time=1.076172e+03, dt=1.953125e+00\n"
          ]
        },
        {
          "output_type": "stream",
          "name": "stdout",
          "text": [
            "2024-12-24 19:09:28,141 __main__ 0/1 INFO :: Iteration=551, Time=1.076172e+03, dt=1.953125e+00\n"
          ]
        },
        {
          "output_type": "stream",
          "name": "stderr",
          "text": [
            "INFO:__main__:Iteration=561, Time=1.095703e+03, dt=1.953125e+00\n"
          ]
        },
        {
          "output_type": "stream",
          "name": "stdout",
          "text": [
            "2024-12-24 19:09:28,189 __main__ 0/1 INFO :: Iteration=561, Time=1.095703e+03, dt=1.953125e+00\n"
          ]
        },
        {
          "output_type": "stream",
          "name": "stderr",
          "text": [
            "INFO:__main__:Iteration=571, Time=1.115234e+03, dt=1.953125e+00\n"
          ]
        },
        {
          "output_type": "stream",
          "name": "stdout",
          "text": [
            "2024-12-24 19:09:28,234 __main__ 0/1 INFO :: Iteration=571, Time=1.115234e+03, dt=1.953125e+00\n"
          ]
        },
        {
          "output_type": "stream",
          "name": "stderr",
          "text": [
            "INFO:__main__:Iteration=581, Time=1.134766e+03, dt=1.953125e+00\n"
          ]
        },
        {
          "output_type": "stream",
          "name": "stdout",
          "text": [
            "2024-12-24 19:09:28,277 __main__ 0/1 INFO :: Iteration=581, Time=1.134766e+03, dt=1.953125e+00\n"
          ]
        },
        {
          "output_type": "stream",
          "name": "stderr",
          "text": [
            "INFO:__main__:Iteration=591, Time=1.154297e+03, dt=1.953125e+00\n"
          ]
        },
        {
          "output_type": "stream",
          "name": "stdout",
          "text": [
            "2024-12-24 19:09:28,325 __main__ 0/1 INFO :: Iteration=591, Time=1.154297e+03, dt=1.953125e+00\n"
          ]
        },
        {
          "output_type": "stream",
          "name": "stderr",
          "text": [
            "INFO:__main__:Iteration=601, Time=1.173828e+03, dt=1.953125e+00\n"
          ]
        },
        {
          "output_type": "stream",
          "name": "stdout",
          "text": [
            "2024-12-24 19:09:28,380 __main__ 0/1 INFO :: Iteration=601, Time=1.173828e+03, dt=1.953125e+00\n"
          ]
        },
        {
          "output_type": "stream",
          "name": "stderr",
          "text": [
            "INFO:__main__:Iteration=611, Time=1.193359e+03, dt=1.953125e+00\n"
          ]
        },
        {
          "output_type": "stream",
          "name": "stdout",
          "text": [
            "2024-12-24 19:09:28,428 __main__ 0/1 INFO :: Iteration=611, Time=1.193359e+03, dt=1.953125e+00\n"
          ]
        },
        {
          "output_type": "stream",
          "name": "stderr",
          "text": [
            "INFO:__main__:Iteration=621, Time=1.212891e+03, dt=1.953125e+00\n"
          ]
        },
        {
          "output_type": "stream",
          "name": "stdout",
          "text": [
            "2024-12-24 19:09:28,471 __main__ 0/1 INFO :: Iteration=621, Time=1.212891e+03, dt=1.953125e+00\n"
          ]
        },
        {
          "output_type": "stream",
          "name": "stderr",
          "text": [
            "INFO:__main__:Iteration=631, Time=1.232422e+03, dt=1.953125e+00\n"
          ]
        },
        {
          "output_type": "stream",
          "name": "stdout",
          "text": [
            "2024-12-24 19:09:28,520 __main__ 0/1 INFO :: Iteration=631, Time=1.232422e+03, dt=1.953125e+00\n"
          ]
        },
        {
          "output_type": "stream",
          "name": "stderr",
          "text": [
            "INFO:__main__:Iteration=641, Time=1.251953e+03, dt=1.953125e+00\n"
          ]
        },
        {
          "output_type": "stream",
          "name": "stdout",
          "text": [
            "2024-12-24 19:09:28,568 __main__ 0/1 INFO :: Iteration=641, Time=1.251953e+03, dt=1.953125e+00\n"
          ]
        },
        {
          "output_type": "stream",
          "name": "stderr",
          "text": [
            "INFO:__main__:Iteration=651, Time=1.271484e+03, dt=1.953125e+00\n"
          ]
        },
        {
          "output_type": "stream",
          "name": "stdout",
          "text": [
            "2024-12-24 19:09:28,616 __main__ 0/1 INFO :: Iteration=651, Time=1.271484e+03, dt=1.953125e+00\n"
          ]
        },
        {
          "output_type": "stream",
          "name": "stderr",
          "text": [
            "INFO:__main__:Iteration=661, Time=1.291016e+03, dt=1.953125e+00\n"
          ]
        },
        {
          "output_type": "stream",
          "name": "stdout",
          "text": [
            "2024-12-24 19:09:28,672 __main__ 0/1 INFO :: Iteration=661, Time=1.291016e+03, dt=1.953125e+00\n"
          ]
        },
        {
          "output_type": "stream",
          "name": "stderr",
          "text": [
            "INFO:__main__:Iteration=671, Time=1.310547e+03, dt=1.953125e+00\n"
          ]
        },
        {
          "output_type": "stream",
          "name": "stdout",
          "text": [
            "2024-12-24 19:09:28,731 __main__ 0/1 INFO :: Iteration=671, Time=1.310547e+03, dt=1.953125e+00\n"
          ]
        },
        {
          "output_type": "stream",
          "name": "stderr",
          "text": [
            "INFO:__main__:Iteration=681, Time=1.330078e+03, dt=1.953125e+00\n"
          ]
        },
        {
          "output_type": "stream",
          "name": "stdout",
          "text": [
            "2024-12-24 19:09:28,784 __main__ 0/1 INFO :: Iteration=681, Time=1.330078e+03, dt=1.953125e+00\n"
          ]
        },
        {
          "output_type": "stream",
          "name": "stderr",
          "text": [
            "INFO:__main__:Iteration=691, Time=1.349609e+03, dt=1.953125e+00\n"
          ]
        },
        {
          "output_type": "stream",
          "name": "stdout",
          "text": [
            "2024-12-24 19:09:28,832 __main__ 0/1 INFO :: Iteration=691, Time=1.349609e+03, dt=1.953125e+00\n"
          ]
        },
        {
          "output_type": "stream",
          "name": "stderr",
          "text": [
            "INFO:__main__:Iteration=701, Time=1.369141e+03, dt=1.953125e+00\n"
          ]
        },
        {
          "output_type": "stream",
          "name": "stdout",
          "text": [
            "2024-12-24 19:09:28,878 __main__ 0/1 INFO :: Iteration=701, Time=1.369141e+03, dt=1.953125e+00\n"
          ]
        },
        {
          "output_type": "stream",
          "name": "stderr",
          "text": [
            "INFO:__main__:Iteration=711, Time=1.388672e+03, dt=1.953125e+00\n"
          ]
        },
        {
          "output_type": "stream",
          "name": "stdout",
          "text": [
            "2024-12-24 19:09:28,924 __main__ 0/1 INFO :: Iteration=711, Time=1.388672e+03, dt=1.953125e+00\n"
          ]
        },
        {
          "output_type": "stream",
          "name": "stderr",
          "text": [
            "INFO:__main__:Iteration=721, Time=1.408203e+03, dt=1.953125e+00\n"
          ]
        },
        {
          "output_type": "stream",
          "name": "stdout",
          "text": [
            "2024-12-24 19:09:28,970 __main__ 0/1 INFO :: Iteration=721, Time=1.408203e+03, dt=1.953125e+00\n"
          ]
        },
        {
          "output_type": "stream",
          "name": "stderr",
          "text": [
            "INFO:__main__:Iteration=731, Time=1.427734e+03, dt=1.953125e+00\n"
          ]
        },
        {
          "output_type": "stream",
          "name": "stdout",
          "text": [
            "2024-12-24 19:09:29,001 __main__ 0/1 INFO :: Iteration=731, Time=1.427734e+03, dt=1.953125e+00\n"
          ]
        },
        {
          "output_type": "stream",
          "name": "stderr",
          "text": [
            "INFO:__main__:Iteration=741, Time=1.447266e+03, dt=1.953125e+00\n"
          ]
        },
        {
          "output_type": "stream",
          "name": "stdout",
          "text": [
            "2024-12-24 19:09:29,031 __main__ 0/1 INFO :: Iteration=741, Time=1.447266e+03, dt=1.953125e+00\n"
          ]
        },
        {
          "output_type": "stream",
          "name": "stderr",
          "text": [
            "INFO:__main__:Iteration=751, Time=1.466797e+03, dt=1.953125e+00\n"
          ]
        },
        {
          "output_type": "stream",
          "name": "stdout",
          "text": [
            "2024-12-24 19:09:29,065 __main__ 0/1 INFO :: Iteration=751, Time=1.466797e+03, dt=1.953125e+00\n"
          ]
        },
        {
          "output_type": "stream",
          "name": "stderr",
          "text": [
            "INFO:__main__:Iteration=761, Time=1.486328e+03, dt=1.953125e+00\n"
          ]
        },
        {
          "output_type": "stream",
          "name": "stdout",
          "text": [
            "2024-12-24 19:09:29,099 __main__ 0/1 INFO :: Iteration=761, Time=1.486328e+03, dt=1.953125e+00\n"
          ]
        },
        {
          "output_type": "stream",
          "name": "stderr",
          "text": [
            "INFO:solvers:Simulation stop time reached.\n"
          ]
        },
        {
          "output_type": "stream",
          "name": "stdout",
          "text": [
            "2024-12-24 19:09:29,123 solvers 0/1 INFO :: Simulation stop time reached.\n"
          ]
        },
        {
          "output_type": "stream",
          "name": "stderr",
          "text": [
            "INFO:solvers:Final iteration: 768\n"
          ]
        },
        {
          "output_type": "stream",
          "name": "stdout",
          "text": [
            "2024-12-24 19:09:29,126 solvers 0/1 INFO :: Final iteration: 768\n"
          ]
        },
        {
          "output_type": "stream",
          "name": "stderr",
          "text": [
            "INFO:solvers:Final sim time: 1500.0\n"
          ]
        },
        {
          "output_type": "stream",
          "name": "stdout",
          "text": [
            "2024-12-24 19:09:29,131 solvers 0/1 INFO :: Final sim time: 1500.0\n"
          ]
        },
        {
          "output_type": "stream",
          "name": "stderr",
          "text": [
            "INFO:solvers:Setup time (init - iter 0): 0.4557 sec\n"
          ]
        },
        {
          "output_type": "stream",
          "name": "stdout",
          "text": [
            "2024-12-24 19:09:29,134 solvers 0/1 INFO :: Setup time (init - iter 0): 0.4557 sec\n"
          ]
        },
        {
          "output_type": "stream",
          "name": "stderr",
          "text": [
            "INFO:solvers:Warmup time (iter 0-10): 0.1154 sec\n"
          ]
        },
        {
          "output_type": "stream",
          "name": "stdout",
          "text": [
            "2024-12-24 19:09:29,137 solvers 0/1 INFO :: Warmup time (iter 0-10): 0.1154 sec\n"
          ]
        },
        {
          "output_type": "stream",
          "name": "stderr",
          "text": [
            "INFO:solvers:Run time (iter 10-end): 3.574 sec\n"
          ]
        },
        {
          "output_type": "stream",
          "name": "stdout",
          "text": [
            "2024-12-24 19:09:29,140 solvers 0/1 INFO :: Run time (iter 10-end): 3.574 sec\n"
          ]
        },
        {
          "output_type": "stream",
          "name": "stderr",
          "text": [
            "INFO:solvers:CPU time (iter 10-end): 0.0009927 cpu-hr\n"
          ]
        },
        {
          "output_type": "stream",
          "name": "stdout",
          "text": [
            "2024-12-24 19:09:29,143 solvers 0/1 INFO :: CPU time (iter 10-end): 0.0009927 cpu-hr\n"
          ]
        },
        {
          "output_type": "stream",
          "name": "stderr",
          "text": [
            "INFO:solvers:Speed: 3.678e+06 mode-stages/cpu-sec\n"
          ]
        },
        {
          "output_type": "stream",
          "name": "stdout",
          "text": [
            "2024-12-24 19:09:29,158 solvers 0/1 INFO :: Speed: 3.678e+06 mode-stages/cpu-sec\n"
          ]
        }
      ],
      "source": [
        "\"\"\"\n",
        "Script to solve the time-dependent advection/diffusion equation\n",
        "\"\"\"\n",
        "\n",
        "import numpy as np\n",
        "import matplotlib.pyplot as plt\n",
        "import dedalus.public as dedalus\n",
        "import logging\n",
        "logger = logging.getLogger(__name__)\n",
        "\n",
        "# Set parameters\n",
        "U0 = 0.1 # maximum current speed in m/s\n",
        "w = 10 # width of the river in m\n",
        "L = 50 # length of the river section to simulate\n",
        "kappa = 1e-2 # diffusivity in m^2/s\n",
        "S0 = 1 # amplitude of the pollution source term\n",
        "S_w = 1 # width of the source term in m\n",
        "S_x = 10 # center of the forcing in x\n",
        "S_y = 0 # center of the forcing in y\n",
        "S_t = 1 # forcing timescale\n",
        "\n",
        "# Numerical parameters\n",
        "Nx = 256 # number of gridoints in x\n",
        "Ny = 32 # number of gridpoints in y\n",
        "stop_sim_time=1500 # end time in seconds\n",
        "timestep = (L/Nx)/U0 # timestep in seconds, calculated from the CFL number\n",
        "\n",
        "import numpy as np\n",
        "import dedalus.public as dedalus\n",
        "import logging\n",
        "logger = logging.getLogger(__name__)\n",
        "\n",
        "# Bases and coordinates\n",
        "coords = dedalus.CartesianCoordinates('x', 'y')\n",
        "dist = dedalus.Distributor(coords, dtype=np.float64)\n",
        "xbasis = dedalus.RealFourier(coords['x'], size=Nx, bounds=(0, L), dealias=3/2)\n",
        "ybasis = dedalus.ChebyshevT(coords['y'], size=Ny, bounds=(0, w), dealias=3/2)\n",
        "x, y = dist.local_grids(xbasis, ybasis)\n",
        "ex, ey = coords.unit_vector_fields(dist) # x and y unit vectors\n",
        "\n",
        "# Fields\n",
        "c = dist.Field(name='b', bases=(xbasis,ybasis))\n",
        "u = dist.Field(name='u', bases=(xbasis,ybasis))\n",
        "tau_1 = dist.Field(name='tau_1', bases=xbasis)\n",
        "tau_2 = dist.Field(name='tau_2', bases=xbasis)\n",
        "\n",
        "# Specify the velocity field\n",
        "u['g'] = U0 * (1- (y - w/2)**2.0/(w/2)**2.0) # parabolic velocity profile\n",
        "\n",
        "# Substitutions\n",
        "lift_basis = ybasis.derivative_basis(1)\n",
        "lift = lambda A: dedalus.Lift(A, lift_basis, -1)\n",
        "grad_c = dedalus.grad(c) + ey*lift(tau_1)\n",
        "dx = lambda A: dedalus.Differentiate(A, coords['x'])\n",
        "\n",
        "S = dist.Field(name='u', bases=(xbasis,ybasis))\n",
        "S['g'] = S0*np.exp(-(x-S_x)**2.0/S_w**2.0-(y-S_y)**2.0/S_w**2.0)\n",
        "\n",
        "# Problem\n",
        "problem = dedalus.IVP([c, tau_1, tau_2], namespace=locals())\n",
        "problem.add_equation(\"dt(c) + u*dx(c) - kappa*div(grad_c) + lift(tau_2) = S/S_t\")\n",
        "problem.add_equation(\"c(y=0) = 0\")\n",
        "problem.add_equation(\"c(y=w) = 0\")\n",
        "\n",
        "# Now, set the solver\n",
        "solver = problem.build_solver(dedalus.RK222)\n",
        "solver.stop_sim_time = stop_sim_time\n",
        "\n",
        "# Create an array to periodically save the concentration field for plotting later\n",
        "c.change_scales(1)\n",
        "c_save = [np.copy(c['g'])];\n",
        "\n",
        "t_save = [solver.sim_time]; # Save the initial condition and the initial time\n",
        "# Main loop\n",
        "try:\n",
        "    logger.info('Starting main loop')\n",
        "    while solver.proceed:\n",
        "        solver.step(timestep)\n",
        "        if (solver.iteration-1) % 10 == 0:\n",
        "            logger.info('Iteration=%i, Time=%e, dt=%e' %(solver.iteration, solver.sim_time, timestep))\n",
        "            c.change_scales(1)\n",
        "            c_save.append(np.copy(c['g']))\n",
        "            t_save.append(solver.sim_time)\n",
        "except:\n",
        "    logger.error('Exception raised, triggering end of main loop.')\n",
        "    raise\n",
        "finally:\n",
        "    solver.log_stats()\n",
        "\n",
        "# Convert the variables to numpy arrays for allow array slicing\n",
        "c_save = np.array(c_save)"
      ]
    },
    {
      "cell_type": "markdown",
      "metadata": {
        "id": "uycTdzuWcxVE"
      },
      "source": [
        "## 2.2 Visualization\n",
        "\n",
        "The script below makes a movie of the results from the saved variables. To run this, you need to have ffmpeg installed.  If you don't already have it installed, you can install ffmpeg with the command:\n",
        "\n",
        "`conda install -c conda-forge ffmpeg`"
      ]
    },
    {
      "cell_type": "code",
      "execution_count": 7,
      "metadata": {
        "id": "0WtspyXIcxVF",
        "outputId": "d1392737-9005-4cf4-f38f-6686f933a038",
        "colab": {
          "base_uri": "https://localhost:8080/",
          "height": 887
        }
      },
      "outputs": [
        {
          "output_type": "stream",
          "name": "stderr",
          "text": [
            "INFO:matplotlib.animation:Animation.save using <class 'matplotlib.animation.FFMpegWriter'>\n"
          ]
        },
        {
          "output_type": "stream",
          "name": "stdout",
          "text": [
            "2024-12-24 19:11:07,104 matplotlib.animation 0/1 INFO :: Animation.save using <class 'matplotlib.animation.FFMpegWriter'>\n"
          ]
        },
        {
          "output_type": "stream",
          "name": "stderr",
          "text": [
            "INFO:matplotlib.animation:MovieWriter._run: running command: ffmpeg -f rawvideo -vcodec rawvideo -s 600x600 -pix_fmt rgba -framerate 25.0 -i pipe: -vcodec h264 -pix_fmt yuv420p -y /tmp/tmp3jn_64u8/temp.m4v\n"
          ]
        },
        {
          "output_type": "stream",
          "name": "stdout",
          "text": [
            "2024-12-24 19:11:07,110 matplotlib.animation 0/1 INFO :: MovieWriter._run: running command: ffmpeg -f rawvideo -vcodec rawvideo -s 600x600 -pix_fmt rgba -framerate 25.0 -i pipe: -vcodec h264 -pix_fmt yuv420p -y /tmp/tmp3jn_64u8/temp.m4v\n"
          ]
        },
        {
          "output_type": "execute_result",
          "data": {
            "text/plain": [
              "<IPython.core.display.HTML object>"
            ],
            "text/html": [
              "<video width=\"600\" height=\"600\" controls autoplay loop>\n",
              "  <source type=\"video/mp4\" src=\"data:video/mp4;base64,AAAAIGZ0eXBNNFYgAAACAE00ViBpc29taXNvMmF2YzEAAAAIZnJlZQAAcXVtZGF0AAACrgYF//+q\n",
              "3EXpvebZSLeWLNgg2SPu73gyNjQgLSBjb3JlIDE2MyByMzA2MCA1ZGI2YWE2IC0gSC4yNjQvTVBF\n",
              "Ry00IEFWQyBjb2RlYyAtIENvcHlsZWZ0IDIwMDMtMjAyMSAtIGh0dHA6Ly93d3cudmlkZW9sYW4u\n",
              "b3JnL3gyNjQuaHRtbCAtIG9wdGlvbnM6IGNhYmFjPTEgcmVmPTMgZGVibG9jaz0xOjA6MCBhbmFs\n",
              "eXNlPTB4MzoweDExMyBtZT1oZXggc3VibWU9NyBwc3k9MSBwc3lfcmQ9MS4wMDowLjAwIG1peGVk\n",
              "X3JlZj0xIG1lX3JhbmdlPTE2IGNocm9tYV9tZT0xIHRyZWxsaXM9MSA4eDhkY3Q9MSBjcW09MCBk\n",
              "ZWFkem9uZT0yMSwxMSBmYXN0X3Bza2lwPTEgY2hyb21hX3FwX29mZnNldD0tMiB0aHJlYWRzPTMg\n",
              "bG9va2FoZWFkX3RocmVhZHM9MSBzbGljZWRfdGhyZWFkcz0wIG5yPTAgZGVjaW1hdGU9MSBpbnRl\n",
              "cmxhY2VkPTAgYmx1cmF5X2NvbXBhdD0wIGNvbnN0cmFpbmVkX2ludHJhPTAgYmZyYW1lcz0zIGJf\n",
              "cHlyYW1pZD0yIGJfYWRhcHQ9MSBiX2JpYXM9MCBkaXJlY3Q9MSB3ZWlnaHRiPTEgb3Blbl9nb3A9\n",
              "MCB3ZWlnaHRwPTIga2V5aW50PTI1MCBrZXlpbnRfbWluPTI1IHNjZW5lY3V0PTQwIGludHJhX3Jl\n",
              "ZnJlc2g9MCByY19sb29rYWhlYWQ9NDAgcmM9Y3JmIG1idHJlZT0xIGNyZj0yMy4wIHFjb21wPTAu\n",
              "NjAgcXBtaW49MCBxcG1heD02OSBxcHN0ZXA9NCBpcF9yYXRpbz0xLjQwIGFxPTE6MS4wMACAAAAP\n",
              "4GWIhAA7//73Tr8Cm0WXagOSVwr2yqQmWblSawHypgAAAwAAAwAAAwLa9HiTO+TU8TYAAAMBBwAo\n",
              "YVMRISAUsbwqBIiSFwOM2zAH7Mfnl4kAoCjb52TJceI7LMwtYO8mo1dXqalPZBOWairsF1cuClW8\n",
              "2qIbZjPp4sHlZSmT361wHAJWxCinv2uD7IEEjDLx/N9fBzMI8rze6JcJvioUCPbugZSCW+2RujFA\n",
              "lxeAbvjBHhoYiBVv009DlPzvssS4XAMHt86VdukzVizVDOTTLyFxq8/5RQo2LvmBRpq9ezISkAUL\n",
              "wo1ct1k0jlbzpIQV+C8ixKnXAyvu8kaywN9pRrQGPm2hJIHiOOI2WNC7npcpyozNVRTVMmoDOiUg\n",
              "jbWIkVy7SOs1rfNWiuToMyPK94W8O97MOwGLHaZ2g783kJnKKvetUixK8wjmeB0DlaTo75kgMUCQ\n",
              "bBgPmwAWvPaAG0TfDk2Np0FmcOuLtNjYqxnFsLWSpFFslZRhJ7ucf3dC/fkVCBqKVuaX2S6M9tRg\n",
              "xB8YC1nm6RA1xblNUCgvNRN8evx7KRdTEATDjm0YKtHjTi4HtzuT26ZuP48EkYokn+zPql8np3FG\n",
              "Io3wa4Nm8MIbyQBzT71le6EpaElowKh4X1xT2BgtWra1aqW59AjVxYaFxnnCkWjIFmFxwPJ2JrKt\n",
              "tr7N0WNl20VtxoqX0jNoc9K1L2xdspSn//W6K6rSQRm88z5N2HVzBjEXC0qEbytgo6E/uRrccabH\n",
              "CcEOq6sAztsBiaRKdcDAOdINCxnshplb1NcQSCRXNLyPAHt7Iso9gQ6Q+6Naw+xyS3cW7pc6dOHI\n",
              "6cI1C72+ZJvbVa1zKyqFsJml51+qkN9IYGNTNR3i8aPzHjkutZCeeN26n/6Tqmewg86r4QH8HTqD\n",
              "ysOchUc5xmsePoqBuP1eA7mcReANwxIWBz/532O4QZLIRDUvNsQPZ5G4pDzDJIxtx7YptJZXnPxI\n",
              "AANtzY3QkGpyzs+E6zpeuwsLG4aVQGaZ99CcWQuyW+RGj9ORKXeRrpN4f+MP1IgRi+4YUcxZyqgF\n",
              "Cqm64moeL73ngIqTFExXRvVBIGS9CKXhcuEQnotxVuS3/9OABpqufPv08tbboqe6PYV32lPo6FUM\n",
              "IYgmd4nwfafwThVe0ToVZ/RCHgncftdVbsF+IVheEwd6w/hGqw+qKXk8/bNWb14VedStI0AIQtAT\n",
              "/FB6+yFgTpeRqdTnT6G9VTYmPwJua8JgGn/s74GdZYeKaMvU11xG2W63siUPPvxGXTghErzAhNq2\n",
              "M8om7nYy6lZZ6PkYVKfX96kfi4DLQbL7qb7xJfElt7JdXwzm5Gr+Oh1Wp5mAiJxmFhdmn33FwwJe\n",
              "vSZE3nYDWrAhbyU0DzG2gyEQHtUimRPE2I69ZHjlbqBIsiPJKpKSGc1kBCY+I1Vj8sI5rSb8Xn+9\n",
              "R9j3uxuuI+h42nwq+bwrcI7UIay1tg48gIHo1iPz9vIebUxCvyI9gUy7SSuz+4clWTCM06ZqKnE4\n",
              "JinxX7zbLOxvtEHLu+yDrOY5wk9mYzg6v4IUF3BiwtLmgz74MksVpGAZuZnLYDW4soNpzFLkqd/s\n",
              "jNCJP4/9yGKpUE/mC4Kza33tsfw+WImnF7dBdQtZ/wDay/SFhFDBFRHNT3mHsyzn212bkLiHc07F\n",
              "ADc1yuE9xiqKILVZi2pkzpQ4t7iGX1wOwf95TySl6DyNHUYgeZHqdASjDGjOTGC9G4wFmtf3Z1Qd\n",
              "AmxHk/KKD9P1WLhfMsweTJenTmQj9sQsSVSu0YM7oBEi1H1Ago8JfarwZA80iRXWi4HYQk0vX3Ww\n",
              "2L4lUA5Pe3OWahYIWG+VkYqsltLXI/5h7DeTQ1Ie5aCHaP258cUdy4hkeoRDyFF0zv4yxBB1guj0\n",
              "HapaO7xRPUoHX3pu5W/2eDD8VpnVi3orcLDd3F8TeVnf9dmrB75JKGC2VZWMGvOXJsYsmvu2kiPc\n",
              "kelQEGmJ3/2MGb0jo80HkAt+z8fBX9NCm+N4i3rv0KKXKJmqGsrrz9li+urAt6GzoWGE21f12y2H\n",
              "1XUVHWuJ7r/mUFvmmgODfdPHmNxjnEjtlw9ux7h65MM6vNL8WwYGJLNjz+Q4gBdRgNxFfKzI4SSe\n",
              "BOFUGlrnE/+UuSbd3Jb2FY9Z5uUOWcf+mSHb7RTao1HSVkaXJNmK/89HagW6LFWhmkv5QOsDwMVE\n",
              "joo1rW7ndEziY6YsOsho264YelUelKcJ+vpwgHLtC9sxHnMA/MOXFQGjcpCGRdFdlUplDzgYZlIz\n",
              "AwNXDHe31lVAIZ7fiO5y3IMBNsY1Ly44MYJlpegPsgAi1HRm88p64JCqfVmPLg6u1yOuX/h02wAz\n",
              "3ePKwUGxgAO6KA+Bhp+SFDETVtwZ9ICocMkWcHH/QpcsDY+dxwAbL7qoLhcLIz0/v4C66ce4W5c1\n",
              "C5Bjsnof9MwVpoL1+K+UyRzuynspXE3o6poucwjjXlrekP4OhAvtH1WRVTGPKIbc9rbeL9T6bDzL\n",
              "jNTivGBmWDuKaTvfitweBoAxxsl0zl9JH2hQszBjZprNoZRHTYz/pxTDwiCMwJZKsTSxeJbuf9zN\n",
              "N54RlCzIlZ0NQOw3Xydlay1kxaSd591fYBtGRbybz/YxfyR62HHYyugnJ4cHLRKSywbNvbdbvyaP\n",
              "wKJ30nJEUuJYPzhg8ef10iFLIfNMUda3Yb3JGCWWGCx+sUEYtt3P/dNwTjUDipN18ELea5RqjBVE\n",
              "LR27XYWk9WDs6a8+B1BsklP/BKwF68e9U06WeLfT/kxLDM/TpkVpGMyoqwp745lPsneo8XfHxW+V\n",
              "dZXDewpZCG2kNhYwQj4ubkgTPNMzl4pLbr5TEO2nArt0h2qECUGzJ1LbP/4/cslWpC49akpppIdw\n",
              "8AmUakTlm0aVet+XKt/zDvqHVKVOp5w8Fh7910c9QBF7MZQPITSq+wr/9rz2oYAXhl6xAABkOVMu\n",
              "Bt9/FxY2PJk1KPp7uCwEzHyxXcWihgr+kuXydnNuTq4BuL27ACHZfwMRnMJFYwZZMrgAWg4pq8pR\n",
              "1fbZJwoXNcOMQSRGxe+R7anzJS5pv9+FoODj3Qe/FYN7i2+ltFDZvjLvH9yM2QHVNpswk7RJ1YsG\n",
              "dXlZEaxheJ1oWSLBxCuc7wGGzQBG7FRLfegmcEaAyosaJ3qsN75xUbHWjfpGO+a2AOPCaSpvMeT0\n",
              "jP3A5YPaYYtC/wey4EZiX10FewDvNXjQfdEPrnpmbmu/ABVKiAIpiibnOeYbcDvwsNuI8U1z4zNX\n",
              "IjtAUXLIQ45d7Y2isUfmgtxkDo7G6ox9XXg/yub6+RSD97Igd3vauKgA+YmAqZ+jTvnWrZ8S16Jm\n",
              "73UNxXOqocW3gVx1vzMPSvf5QBVYf4hczpQfaRQfNBAVICT9W4ktBQjnGem6mDybLLMU6LdcWSiX\n",
              "NaQ/jGLOs7+gQ8ay+OwH0paLfFG/eIUZy/uAAAcPGZiGL41hYDf5BYTMwL0vl+tv5SOrg1VmvWu1\n",
              "5GIteSepYkEM3IVCKRipvglam53PSJNAAA6TPCa8eksAGolLk/0/WCpZ8xS5ReqcJ9nlWJg0JebP\n",
              "6ulnv9526Yglo+qgXi4a3k8uJu+5XL8oWP1dmFI4ZJM30a2xubUXNv9+0M6se6nf28GkUiJ/GT6N\n",
              "qHqrLebgO/n5dBWteZEIVn1WvmrNe6QB+LZhWQ7J2o/n+E35FJP08AoW9wrahcl4pc5mOvzFZWfi\n",
              "h07jhyQnpQgY++HBX0+PMRA9Dun5RBsJwr4K4oSp+SMHGpU3Xjb7kL93GvPYkh7YY3egkLRXklKg\n",
              "1Ot2Z88u9YcxDN5vNs/6nVHSdlX8SHrfgmndLud3vyLFzZBobdvCbgorvRE4zJJtNOgOzCTwY6tv\n",
              "rz7rj9fKcZ+oWGYm+yrTAGITcUl2zCkATmqB0VNsBiSdHZ8bd/+oKvglV1j6nZQ115B3Ubm/Lyid\n",
              "ahdVEwWq2qhz0kSnWrFgZcOjqea9voLBcofAEv1RgKKomU0RynAb6WXCYa+tgna7zN5/dGW6o+nB\n",
              "Aq46m2/7hQ3AvRkh30zlDkkuQ0PVYqU8vl8Q9W3ZHlviK8T1QyXW+UZVoZP62rGL1upT4rMtW038\n",
              "9znxmx0q+8VHB40S/vdW+wojyQ0a2zoS3q8C9NREpDtu/LyZgwqWfeZNcE+q82MauFHeeJ4fURa+\n",
              "fVH5/VIZkHtWgvKi5WtejCbW+rAOF+D4+aXMJZdlqIdNp2Q0aqPsXr0kI/L0++6Jaw1A6sMWrZee\n",
              "NhJ6LLPH2SUWX4h86ha+l/Gh2OZ1oz3Y+eJLeLFga3uSI2nL0CILwqH8RfAWpumvw7uKKB81buYH\n",
              "IG0XBJ8RxVh+ZEi7LkuAGOPnQSCrHGKQYXTiUa8fJiRQkxgeHzSCq1wPzoT+s2ozYfT/OFiogQ4K\n",
              "UbOkmjBhFCY4G+6mCa8kjlngGt5maSdPbPDhODKbbqirKZMV55EgUGvTLEnVEWTs6VP5F0czEIQ4\n",
              "jKSwqkCtSLBpacwknvy2P5hjBwrVKNtisY4o4YW/UlthgNt4QkWZvo8dl7BurScpqCJyJ+53Uref\n",
              "o/zBidBnCT2ddcdXhXqv41u4dH4qMRReRsIuFMqCLlPyIX7XHgiGxd/gb7nQaC2K7Tbb7gIcPdF6\n",
              "GLGddbcoS+tWPu0bs7DaixhK+qE4zS6rcEkN9e4yPq3T8k53pL6gbWQFS8ytekrElEPOnYLumtV2\n",
              "ecdunjw1Njges9bYQwPGCTs+4CdT+HwHce6PAZ23ydknfg5qQEdTbuf1AoiK0+2sWVQZQyQPEM6V\n",
              "BTpqHwMmT2KRKeecidWj+iwJqGHTefIqiR6T8Zg4WCfaCHdoRi/ZWY0wIfWEmPlaOWCb2bq5HXSL\n",
              "zppwVoFXPvTulO22ydsax6vXnCNtAZ+i7YSSktfMSPQepPi+kRPBjKhd1PXNyyCHiN0lIrGeMtW3\n",
              "4B0v1xx484vLWNwpKGLZJRXR0BbyeDtb9v6rXIp0Zmn6RiHLD12L2NId695gS+ExriCLl2qftY40\n",
              "xyxjvC4D03yvqHjELuV4jYeC0zQq4Apxkxnjv/ZH7FvooEHJsAV+yDmv86lSkVjRLMEhjhCGBX7T\n",
              "wFCOk0JbZAt2crH3MpMrBrGPIwkmsGYOOZSpAC3ecM7/Ipce28D60pm/fckACLetpklsnskefvQP\n",
              "iHamZFGgWYq8IjeX5emmqiXve2bWlF503nGiynq1kE+Uiyup5ws52j67L5p+7POZeq3VfGBdIZqb\n",
              "kPiSEzHJv0UnDoFAhx5KYa/DExGQLvKhTmtmr4ECYX+Y0iNF3pNkT1xBPdJU7VGahdYRvb3VMqiz\n",
              "CTLILQGibmMo4fsmJel+2uncI86aK/UgU0rLWwGcCxMQpFrgOaMAAAMAAAMAAAMAAAMAAAMAAAMA\n",
              "AAMAAAMAAAMAAAMAAAMAAGNBAAADk0GaJGxDv/6plgAAAwA6RqnBEtw2+UcC/NMLcYWKm6uIK5Fp\n",
              "l1IGACIM0YNSATa1Xtb2F0K0Jz3BvIHDkdWS0IAhPmYFwdzKcqBPXmqvVXcKcycuXE0S9Hn+AEXw\n",
              "sqURDZTwtyX1NvZFRNyHzLE9WmPJwToY3w1Hg//ql95/t0PDqo+2bhtmOvb2Zo/AAFi4+n8OC3zI\n",
              "kMc8vLKGK471tLQ6jasvVFZZ2upTP2jxsvu7mgvxPUcnSuIIp0VVWWZUkoZM40kVfbsfZTpHWpcC\n",
              "c+cL1sMT3czYyvpgTOgvaxrBdj3bTF8zPE/91uXl8t0NIOHAz68tXQAwcarEglsvL6fIJM3GVuN0\n",
              "JeXOu9lRZ+n+rcsuiXJXEUfh48af9oGE/G+t85fpXENCNEvhwBsLp70VPtO6GBEo45zTaVbp2dYu\n",
              "6RxS0q0PN8vN/Wg6CPc+G3FAxbHarEQIev4a/MqDvBlrU8i/vZlpXy1YEvEdpmSg5KV63/SHgo7z\n",
              "XIt7MMSrqo/Lj3KeKOmWFQ6GihtxcS4uNR9W9oOxCMMmDFJaAHlOqE14oIHOHei8o03bC/6EUgp0\n",
              "j8sH+xe6fhPjLa6nI5FomAxOulAdqrHEqO9cpTh+RZDGq5Xif6HZvcHU5TOQHVb0ZlRcWMDR4qS9\n",
              "mFx86gRXm3SK/olEDh/nTUi5M5GIEb3nnslHL9K74Uvd+RRR3PkOs8rl77qpo4gv39gVD/IalgCk\n",
              "bQA8iukEcf5EZo0/hFt5Rom6WVwj9jdLNPGsvEX26XuRQTzBiZlFtRsTOc9ZoPZE8ZWQcl9WiWg1\n",
              "axThkXrsH6uoU1HB/n6Mng2wOLrk/+wDYJPn9a7wrfPuf/ABF5Wh/FU2Roy3QgwOH6nNCswDnTTu\n",
              "FPXClYp8t03hmttW8TAl1HAEb+WoNbvBS0cpT1cj1RlfKY4ugm7wKTEOxKAf8IgXDPkM36/Cy2lZ\n",
              "NbjCeqhDE2bxKkOi+YKq8wsS5J8PqDt7brC92laJxGAUv6tNRR7xt2PGWAgyJy/01i6SyJ3zxSXI\n",
              "ZAE9yCCbFn8AG11wOeASoCQO30JchEJIAL1aPbccmS1SEPVQzcys6DvLArTsoYfyaHQXmYy0jipP\n",
              "zmDnbdmaOCDSIV7ZLWI2AItPei3Wpne+jgYsPiF8mM8Nn4YuNnZuhZtRJ4Lo0QEt8LMSXAslzJLM\n",
              "PJwk+t1qHs98kRWzmaRy7bsIoyShSouRgAAAAYFBnkJ4hf8AAAMARWS1VOkHzLK0LEtojgBo6O3u\n",
              "+ACcdssqeo2X2Iqxq8VS3IjOYs1JLztrJe/3Qn9C/vqlBcgZ7ZzLjbRmY+onEHxmn7ozj0Rnr4hb\n",
              "ruc4Duk4zTn+I4nF0Vd0A5vjstDFwfogIcVJSbpct3XfEMwiesopWLyfC78fZMVR0pmF/bS1In1p\n",
              "bHmgDyFo9ttR1TpobOboHSxOl9WzQug6vx3i+eaGWk9vpcw7prVIQQMiwBHP+3K9vXJHNaGm1I7p\n",
              "DY1xCv6/j8MJP0wdUPXe9fr5zEmhqCKPw++8xu2mEysg/5AsEaf7WTFXAcHhZ3jQBF5QiXRumYCV\n",
              "25VYqvp3ekOJeJQ5p+Yn7VlRDRU0Eys/gt36Lj8giJRUzRIqsctU0hva9noltGmq6qXugtz2tBAk\n",
              "OL5gz8SoQ+3WLNm30mG+4qBah6ZXGzqzfAxlR4ZgiyQfP9RN7TqQ7oXKjdLZD3tXd5cIjriuVRQQ\n",
              "Veig5hoPzPymOSAAAD/BAAAA5wGeYXRCvwAAAwBfo3/PJG3pow8DCWbgAJam6ifXm87eGT5Y53dQ\n",
              "y1tKMqKd/3zorXv1s6OLXOo9VGIjKaTkfmWDX5gvwrlHsWJy24NrcGi+GVEzbxqdJaZptO2k7U2x\n",
              "9wG7Oif4JD1lOWwIZM2Aykzid+Ii4qkq219K2D7sk5HmxPz724H5cWenK7i08LPMnmRfN5PwcuHf\n",
              "efAhiV7hdMkDiHbPLliUB5ptT46z7df0q9sgNAOXtnZV8mQmcP3/IUyQmyD4C2tvYX/RWKRlJ6N6\n",
              "Y7YQ2N6cIdygzGXxW+SxCu90AAA1IAAAAOEBnmNqQr8AAAMAX50MqMYxOvHT8FthF1BP5+AAfBS+\n",
              "0Qows2NMFcW0z+fza3M8hR4jgPFa+KGkqu1CvgRmM4N4tQTuebiJFs2FAUBvIlCuMK3bcuW6Gwpb\n",
              "YFXFcD2xMddFWwAsufrS4wtRz8C89nek7YVJUWFgGaPXK4U5EYVRVN8UBa7WuDnXJedNO68BFUAe\n",
              "BKz/fceaQS1VCHXI+qKNbb6FkfzrfYy5SNoC/8dvorx+7DZoIHFzHF207nBXoRhrl5HaLW9bJF2Y\n",
              "UMkGZm4mgtUt6RaqIOb8A2bUBAAAMqEAAAMHQZpoSahBaJlMCHf//qmWAAADADpDhTAOKerRj5KF\n",
              "7dk8KRq2BRxaZ7z4DFLpk7gBLkvqpXCutFnWbcQTIY36PAFibGsk5wsd1kUQf5+/4/IkOB0ZMGsr\n",
              "OUwNFoVgSJRfLG4iBVmIX5wNzy1MHML53MM5n+pTaeHRtvhpEIsQ0M7mFERMLecdFlb80u0lYnqM\n",
              "OhVD4dS103ZTisdJ58pMx+lMhl4pRJPPJ4UyR+BjegcBAGA93HX3JEeNBXVAKMNVCoFN0e0IycCP\n",
              "B09HSpe8XbvrZkEIUFxrJ1i2FLWD7rb2b72wy8tukxgxw/mKkerb+dZhn4pOBvav2153sD3cBv0R\n",
              "kY9A6N+qTJWEu+eBcf1eugG5QL9YkSsbWJ+y5T/BHsP0jLM4JBH8xnsbWgbm3f3NFqn3z05RFZe6\n",
              "pidEMKXeMeQ0tJzu6vDBlMZxD9hVXFcZEZRCz7/fovr2RxMLC5/IZBfTHb2Yh/mZ3tFwJnX2/OBX\n",
              "MhvOl3+PrruIwTJ0XpdLJ5u8rRh9WT+AceuPEMEac7zY1AyZ0i/B9/l32r+xmXxaXB5NYQj94hUJ\n",
              "ahnTTEq7sOc4bPXO5f9eFHqtk8Cc4y/zEwv8q+14avOh+IF3JiCSSamlF4GPDDa2n4cWwBfYUKaj\n",
              "GaLo+A+g+Kno3E8SBgzQRUu07CA/ICKAodWx07h1agXOXH7eRbov3eQyap9cHGjgx6HPrySzdyY5\n",
              "UI1ofg+pk1DnrKGSHq1YowENk9Wx//rjaOkGyrJF5FwzmydMPdD4qg1f7dW6IMTOJUFSQF+fPJfU\n",
              "/yk+RDa3Dhz+H+P/bnqQdt662vqTPVnmsId7XNzdW85bPvqaQwEwAjXpuvjh4iKlteftCf6RAO2y\n",
              "cQkqaHqRQvJuR9W+0Az1tnLEkiKoEemKGz/ncHBSojyAvduUZ93cYVfCXKCytJ7yJ4ZOC4j7JNrF\n",
              "Xi+DYLISFk2vkkBZX/X9FOJ6QG8vSN3+8zPdy12vaNAfqzarpImlUG4PDB9/8NzXqf/kZXVtpthy\n",
              "yYAcMQAAAQBBnoZFESwv/wAAAwBFfOCEUFbPAhNEZRUJxDsCdAABOyz+prXKrmFhyiy6hSzi3ew/\n",
              "BWpLBdMpKzFaGCQEhBq4Be6PUmemJ9Aj8nEm0B99JMbfi/M1nacEFNbeCa/bUc/tzrq+nG5+F/0R\n",
              "sFjHir9L+iypxG/v7/vYXk7j+1SKXc/0YcDFYQ/ij2ar6V/NHrGrFM2UPVIloCg9j5YhzQ8K32ef\n",
              "rW41nKYn1ied4AtGEMK4MxRQvbzPsUc6DT5BiX3ELkB0+9sTiXWRC2RRsrk07SoNJCtWOOfGkq2n\n",
              "LiwHSOC8E25zb4Jqk9ew/QBDhSvOQYipdGKrcLU1zgAAAwH/AAAAwQGepXRCvwAAAwBfo3/PJG3p\n",
              "ow8EBn/ABEBonS0D5wADltRxx/+7UVyBfo5Lrky6uideegpCPGkDNGX8TmC0p+n19yKQjjMYpvPA\n",
              "WisVBYqnLiDaFIe0nvEqnVKgCRyu1NsG200ECE/7S3JlSAFGnptsmD+47mOR4l3SWIvHVqMVBSGa\n",
              "a6Hw0SL4I2vwwyEsrfE85ynwaI+Q+WgJ1raK6/MAQW85ZNnCbcmf7TcWiHoe/aanQRbIwEqRstkA\n",
              "AAMA/IEAAADhAZ6nakK/AAADAF+H+62J0V65Vvkc2QARB3VfL2/Z1Y2Dxe29Z6ocBamHRYVpgqd4\n",
              "/0B5zkc7XK4DVVD8yMqa53TeHT0GBy5JdMc7g4pzz536L42zmAYu9E2cTBsJyBZVlV1QY7an1d3G\n",
              "SvPy++WXJzPmthRmvsYGBgaMjitQqHlYKlcDzK4GJzddD/oBJzu75JMc+gsU6OimGtWCIMXLCKol\n",
              "msfr8MN6VUGCeoui0q+JVCxLVbVlLjYQCvs3PPWtqXxl62+yUCYtjM9TRxL+Lv2wEGIAhT5/nlw7\n",
              "h16IAAM+AAACEkGarEmoQWyZTAh3//6plgAAAwAroo1IvSgAhK0j3zChkAHpt96Hav4igmQZMknu\n",
              "n3m4Vf+8Aew48eA2D0YfZfT5hKlmxJo+5Bi6xZ6oIa5mbvZqOwTXp2h7kwcjJavDO4Q4b6f/f5Tt\n",
              "E+7OtFOZ+Wx/WU0BQEJIAocdhmn3otp7pDmoqdBB8qSxKQh3L70zZY43H5e/DyCEyPvfjUkHsNgc\n",
              "Z/QZ6c0ygom+VvHM/o/V7tBB7LIxX5Nx/+mLWulMDfkXzeOpzg4DdOqnXjXYwiuIrTFCAKkzCppF\n",
              "GHm5rwHam4IHHCl+mteWtb9kQ2/gE5t75XEyc4ge7dDqQbRPGRQqAWnt0kujn6jo58f4mILarGs1\n",
              "MyCgDmgHj5kGDhcoCJtlqvgkeRSPw+XFq8PPJ/Ztsi4EYiP1xN48T2lT3NJ5rLbMP4x4d/UFX+Do\n",
              "q2okrdfn66WssNz5JJBh1+0Gq7nMFOgESJIv0LepnrEzPCfUseWyCw8Qf8I4CgmLrrALEOKTTuSE\n",
              "NnVTlHdjqpVGfOERybpVd5hwXeU396nOSrIoqziphOoWCMie6o95PWkBgC3goeT68+nUCTaTIqny\n",
              "QbwG+oXvzHwVDP3FNoW7K68jiNDMPf4fdFzydU0DJLY7et2sARu09CQi6hmBYx1FXW7sINgOe3CN\n",
              "Mg9xmI+u3MEmaPYRinjOt7pYXV7ny2zVOjUgAAABFkGeykUVLC//AAADADNy4B64ATJxQGVdTGOE\n",
              "pDCsepIAVXV4gcEusq300++YiE+mQ2qPWvGQ5RV2Fe72RBYaG3i/zLFdrAy8EmuhC3TuhvnuenoM\n",
              "0E7bLfSeRgu+lk7KaDkW2yBC7NRiUpsni0OmYDiKhQvFbD4Icu5J/fjD3O65IZTQYT6GUaaCyG2N\n",
              "1+d1QnSNp1qhnhc3tAW0MUcoPMi28Cy//iy/+X4oI9npcR9ngChYNP6VpojSzmcl/i/4XlwOCRdf\n",
              "s4HAhigyrEYquIWU2SG7DapDLYW8f/ejgmwSo+zfn7r4R7SMtGqSorjAcYQg3IxHGDmqJYFjGA4n\n",
              "CZwMmLmxfsOGbcwh7CG2+6QnmSeAAAspAAAAlAGe6XRCvwAAAwBEexEsAEKI8wbR8yUE1u9LaxEi\n",
              "+4yL2WOzEatrfVzHCZS3LZDhcIK5BIbJJtgAT26MMjuKnOt+WNCIg0l+C/fRTa5VFqyYqBoL0G8/\n",
              "1lhjNIqms5JECBaGg94uTsoItTt24hd8sXUgjHFxJxOj7xANfHwHtVkGE+eIZpbPrtFmwGX2tPrO\n",
              "AAADApIAAACbAZ7rakK/AAADAEUax+HM6pgAhRWnPeKJm+Yd6BBYj0DkPdzPRFAiu3zjK8ef+ee/\n",
              "f+QkI9h98u6kMEa8gk7gYrvbGfiU4jsZ8HaK1irFTaQT+bSYs/shv8qc0IsZJpIC76WooMgtQGMD\n",
              "Y10JnVrgTxvyQiGUtKjPJt9uCT010ZXHH6jXXRiwmwKGjDgnxOX8Jtfb1qFiyimAAwIAAAHlQZrw\n",
              "SahBbJlMCHf//qmWAAADACuMkQqACFEcfzl61GKmsQePduvMueH75aByFHqfeLXNRhYJKP3QY6ib\n",
              "tXOMFcSs77/MwLDraVmyJhNRAKi2I82KwU3/Y9fmO7XbeZUwqmOzUov2vUo0mgEWS1uvPtb0XyRi\n",
              "Tkb2pPN22MsFlW9hOp6hbxDpZm8k7QBVj89TEQUoEeZD77ASM8OHo409ent+Fe1imls+KhYnm8wU\n",
              "SX13bE93aw0g2+x3E8FNGhHexPSgf2g/xDZoxDB3jtEd6SFOQnvQL3kRs1DIz+idNc6y1syLnZ7v\n",
              "V8wiAUZujQPOo1QQkFYnrMp2SrELjp4TsVn9N1YHPx945vcNIWCMqZOjl5qX2kEFBFGCBJf3COFb\n",
              "oSQpeL1Cy9CVUNrULXh7glj7etW0q7NW3oCkMBbWEPrNXyBV7j5Auya2wkR4oxMZNn8/hWOJzYDV\n",
              "dc4sU1lFr+R5iUagpXfDW5DBBSvhQ33Vz5oQiJ9vYjaq+/dcrP6oxURg/AnZHV9BAkyQgD7h6mkD\n",
              "woU63CzMe7Vs8JlZBRkeAYdWdpU0ClDrQUEUqM/4vYpgVpUmcjPbGHvBc6t6fpcVhAkbARRSUcEX\n",
              "zYYCl8mQXKdyriNBnQDqdFjbmK3YCry8CzUAAAEbQZ8ORRUsL/8AAAMAM4rmQAGxhWU4yB2Tvu4J\n",
              "OZbpK8BZsYx1SFHTRIwDxEYQGqQhQEjpXTUq81Vt/rE8TeduP65zIUr7FdHs7fndWUgH+niujFtU\n",
              "CqMw986lbkRmHD6RgOjVOXFIS4TjRPDieADJaR+7MSqo3v41iQ0hxkaII0WUYZfB89U2u5WxSPy7\n",
              "sDTC2syAZQ4+6MXy0/4rgceIcst+mbLFGP0UwjoQXIeMLLuXSeR4y3XMK/jVqHlvXJ718jLyiqjU\n",
              "Iozp4Cvei73jHuuEPjS8nAk1w/kCCY5C3gyXPWz90tnptofHTGVWwlPBm3tLjBLTXzRg7FC0IITj\n",
              "BY+lBN3nD2tUe3LBv0DWSDbVRweNA9V2wAAFBQAAALkBny10Qr8AAAMARZ4iAE1ZyRpR+yHM8tYr\n",
              "obsUZm42LVGhanEKP2pmbDv8Drxex5RU8nQ7dXSpsE9x/pAY3SdXKhkccl0nGJcpyhkJGfSj/da6\n",
              "TAeIHXJEYVlCgVk5u7eOQDj9yaRctiSI1Hwc4olJj5LIC+PyTu3HD1zv/xdONRVbKEy55uMOrAdE\n",
              "j0IvCfzjvBTukqm7QSVDknbIBnzKBO+VjCkb+FxRT1mZaceqy6yeFpB8AABlQQAAALkBny9qQr8A\n",
              "AAMARXbmIAP2h3tZ4upB4PbWtGj1AmE+xT3yzTAbdm3HDALhFqVe4eHAhV8axqRXZyaWvKJvsEua\n",
              "HkbpUHwI8AvnnY5ObUXnN4O3xWRk7/kG9WrOFV9lGCc2aWm0p3bAih3hZGurZMdKtLXlApG1SHFY\n",
              "jzX89NgpJ+12mHGPY6gvuug3x2YUs4RKhoTEN4gXwA0I+kVU0XriuJiLG1vwdH4FKd+dBRMYSJMO\n",
              "yiYAAAMBcQAAAeFBmzRJqEFsmUwId//+qZYAAAMALKyPqUmVWgAc4trUcyZXsZZN5giMZwbflQH2\n",
              "udJ7L8rb9zyFELmOWx6j2mN45R1pd6tPLhRGZ7M5gB0Ygak8Von3K9X3oeCWcBoY7OAuQa/IhSCQ\n",
              "epxAkIokDy2jwPgc9a6nwt7bwYKGjtVaLF6sadncGp6ovSTv5sP60YVR6Sb2FNRNF5kO5VPmdO0A\n",
              "jg3jXQP8lf0fw/mbJ4MmyzPXxMnzWrVIrbcQB5pRIH50XYrsLdoEj7hdsbVFaJDwv9R5rqYcj5Z2\n",
              "b8iVrnfl239vBL3LaI0SxZtFiCP0S4UBk1/lwSglgWKYRVk06OIXY6OIIvMU5m7NOKsEBQBEks3c\n",
              "TkaVaGf/Gr6aocfcqT8lv1om99QGH0r5InQSq7BSl0L9SVWaO/0+mojzS8vNcABrxUSVnpHEvN0j\n",
              "i4LZ/NrTBS4uKEz3R9Yu3EeA6Ca8+TzdiKb0wptA24OmcSIHUYM6OuqfWFnIqfqui3L5ClUzxSB+\n",
              "DtBVHKuEvv8gpHQsE7rSVWyVfdwt2CxLVHIpnqC1HQf9xQl33Y+Vkb91UV881+xogwNaNqaaVjnM\n",
              "dLwu8W/qRqbO05YnE/zqnHWJWF5LtFjbBoHCC4NjX7FAAB1QAAAA3kGfUkUVLC//AAADADNGQmdw\n",
              "AslveZvPPSmPVEx2S8imG3TmxggJPJ11KJT5bkSfnaHWo9ma3aUSi1BwAEEPTffPG2yb8lvgJThQ\n",
              "3HLt/2ljuarJ/NjuL1JzZTD9AkLndIWwLTxCrtKGUqCuGRsD4pRmVd80ksTKGFIiGuivIJfdDrRi\n",
              "uNtjnODWfVCBh7iSG+1z7K3G1dtvMBlgGfA8yy2wxLQ/FQa/iBLPXbqJ6JdFzjNasvfD1beWCprW\n",
              "Oj7zF+QtTsBj7UoTWJDF+8HL5C/P3i0md5Xei3w4gAADBwAAAJABn3F0Qr8AAAMART61NEAIPoi1\n",
              "YMIscp/ZW0zKcyLIrLJICxGZFtFQ6YtIbtrc/H8fkQkgqHV/DL5YD/hUQqFuKBwNhlI2ag8sEUYC\n",
              "Y+GCHkh5HYjRi0l9jjIccYd3CEZ7Q8cyyMM1CryfopbNK/o9NddHpMcC26wmWyiMXYNgfclLfPEG\n",
              "WkxJVtmHaAAAVsAAAACTAZ9zakK/AAADAEVJfWEABr7Yb4gIAKZUJQYpGmPee/qYhetg+lNBZ2zT\n",
              "leQY+FeJhwUzFcWAGeQFoNUPtn0sYdQPVbbyeGgvwuxSy/He6TCXi78u9ezpL+BH3gb/xJUACm3g\n",
              "tnLfj/XTd/K+QuH8nG0q4E4g9rjkLBPucyT5XAvRBNISwRC/6qIpZbx8NAAAAwEHAAAB60GbeEmo\n",
              "QWyZTAh3//6plgAAAwArmn+0466ABoJRxPAL9tn56nqwGgRMUNl4OflwpVx2ceDm106ZFBOn2bq3\n",
              "JxCNvtJzZTvwy7l3k3cEPqPLzuzDO+gIW54iA+FQz26enbyCZqCN7VqWcbhCZsQrHh581ZGig9YC\n",
              "VtdtVmrHVTHAAc89O66gK4R4uXJnlGCriiKg0t9o+29wHsBg1il+vHfsjOn0hfSAY/plTL1czR6N\n",
              "ZckZMq7o5QaVBHRIx37ARSP4mERhf1Sw6U4hIR1/7EbR7G1//Tiebyi+K8yEVKGLWgvp7BWjFpyy\n",
              "uX9Zlx1r3NjbTes0S8WP8fEKtAjPgmBkvvKJ740lS+VBloR0r6QBVzAv3zsxR39+5cA765KbZaYW\n",
              "50dOHHAhPKIlU/imLddC+AtsjYu2WOuowZ/umAB6h9Pw/U/Sh8+EM9zn+t+YimOzCkDIALughwT4\n",
              "q8KJyG0Zk8yAyPbRwpN9ud3wm7SmMr6SuBMqm8MSDC2R4rALgTwlRP9oWWkBEHU9v08jigQ6BBTq\n",
              "O4OacHFsuZqRuDveJmplVy8+76T5zg/vOcnN4AzglyQ8/zxcH4evri2pWf/CmEeVrrbZiMOWMear\n",
              "SXdOOIWs3ZmC9SURz4igl89rK/HJO3+DBkgAACLhAAAA2kGflkUVLC//AAADADNDZlfDbgBAV2mS\n",
              "gqEV0pkL1l8op4xzKVesijesdsulhZdVuobgy7DIAnM4JaZV/dIKHKEMziTh5wZOkD9KXnTKlLmg\n",
              "t7fKiB54fGn237WXRhr3LdoB4umlo/DkE1bB8iHVulOZJEYvxULEQEVXqvMPLZmCw6cggZaPiuOH\n",
              "5W51+Uh5KNfBMjBdRNNP+yDbjWtHHm8D6BrrHgsYMtSOaoKv54qyKb6/a4IIbAx+NnQqWijxcf2I\n",
              "nTq4HBDZxH4mAvfhthxE7hyB3gAAAwGpAAAA3wGftXRCvwAAAwBFNGE2wAQ/Pi7q25/nU55WSqwO\n",
              "SuoiDXBMV+PMxLb4oyDOnlwz/GjVNRLnv1KSmdalCB7b2F75xZ3f8aVEXyaoWlqy7QWTIAfOwkQV\n",
              "/ltBESMNR1xER77/PAmdrxChorOTdxwM6OOE7T5Pfe4e1wRBABMH5GVsvU5Ip7fGQJZ6BFSfM0xX\n",
              "1kccPg76Yq1o6Ly9sGzUSayUlHYznOFtELavZFCptSd2U7664vbElpCViULFBiu9EuZq3o49E/kd\n",
              "TIgZq7vnPssW5aA3RirjDFr/kkAAAtsAAADcAZ+3akK/AAADAEWeIgBM+bk710nknTnT2xAKMbDO\n",
              "b8hVRNNycvWhLMRnhYBYqxL7PGmksLFuGEDzOekofu9QIa7qIMfmLM9wN85/S6NA+siWsnj7sdS/\n",
              "anoT1Pt4fRCjeFTIed/dhaBA4NLMe6IuU9y/W4Q+b79gHN80X4PHJpaNsq+zoxlxta+kRw7PsuWM\n",
              "zZXlotjtzDOnD9/FCFh507Sccc3yfF75CXTZf4EhzudXphsAyETmgVpW8FfQJbA8IFsLmGOgXuqa\n",
              "YM9k1zB05gMIpNNUBcSYAAD1gQAAAiFBm7xJqEFsmUwId//+qZYAAAMAK4JW8oABKB1DD13K7wZ2\n",
              "mhI2E8T5gwXFGQqW5IFok3/r7gtLFBiSEiecl67gEYO3HFIJe2Nc6l5vCf0cMxqO12cxC2vkZQhW\n",
              "LQ/H7USb4JM0nVEHBVZ2PCyPzAjQqtjidOT+D0QfFHDHDabuaxOEKH8RJ08oeEggQ42KE6u3I5ux\n",
              "eHBp3p1tiauDAPpu09ZnrmqBDVFJVAF6ENyq6Mkn0zrCA9BgZX/uF2jnZ/0AKoNkF5/rWdu2oja/\n",
              "XeHIAYfbn3PLe+zJ63eMOnu8nN0oreZTGbwD0klFB0Pu/aMuRHi3yQEDNIqUDqwG3/vkHu7ngv7A\n",
              "5kNPt3L3mhXzcWhTT9vvpYnAPZ8vyBJoQeeLD0+GSpM3qYNOEQj5hBybNQfwDsQHyqMjqPrgxyC1\n",
              "UrqE7i6ljVKpTSRdsRNydVabRb6FPKZr/YQ8QlMhP2D/mRDDkj+ihUpoRdQf1rtkjrcSSLYU9lj7\n",
              "g0DU82cSjp/OywIEAnR83jlppXdavx4ZjPj6ufKK1hTLFtfyN7UnT2eISZHIktXzGhzbvd9VUIFE\n",
              "5HkUV2/KHRIMmS4ebMo63zmp4wTjmXyGGZPhOoopoqt+L30Y0Qk2t7TAYTDRPne2FojBEmgoRE12\n",
              "utQjWkisDiVIZsGoD3SV5R+5RJ3f8Bm0rzxZOnMgabNn/innObnUCwbqfYBqaxbs1Cue9Y8UmAAA\n",
              "AOhBn9pFFSwv/wAAAwAzcuGggMAEN8DJEfHSn9BJiL8N1SCzv3R7BpptCHwrobzfWvITfZXLANiM\n",
              "BxXj1SiSHtBM1Lsp9SnXrkIMFYoQod1vPf5U1DFL8+wsl1YcuHY4fmv+WW30GQ4JSN2JZWItmWfP\n",
              "KRf9ZqR8aDfVhhRLeHbT4FyO1XrOBFUlcDFDlXt/O/jfI4QjGFV8+XBMAOfy11tywHVu9EP6kf4S\n",
              "yPdg48c5xwl9PGsyOo9KLLN7s6uP+m3t9DhblTtadxSm1ltTXChI6sWOeIGWdqz+64W+DwVVoDPH\n",
              "hnAAAMCBAAAA1AGf+XRCvwAAAwBFfe8ABqo3E5Zn967bRJA0G6kPpaOvvYseCM38lNECB/OmktH2\n",
              "qGJAXhH+V5AOfGs3zbwP4e6EQNOK9HNw2npVjdKbJ3MMk14z7cWYYx5iMuqa/TAbLVvfOap1q3+d\n",
              "zexDjYg3taNyi2pOHMoma7WmsVY7M00O3keoRdUjr0O++5L6Zr9khCK3jDpq4dhsiehTp+gABvQz\n",
              "mnBhrukOd17SyqFaRHzopQwbxpdprlDuVp7lYLftwPCv6sdDyOrqNVuJL+fazhNgAAi4AAAA2gGf\n",
              "+2pCvwAAAwBEcOTMAEPqZ4wM/TCOtVPJwHqUFCr4qK0uARXHBwGMKFaFx+C1LW5QrrzitmMLRFkK\n",
              "n0q1o5PV4OIZr77ySc5uQ+Pq7klQX0prvNUQKOblr1usK/I6c14D0Bb3aVg9PnASfRnH7Kxbhlu3\n",
              "saK4MRqn4QWLyTQZ+5OC0Qj13XigcAWjGSMaxOXn+jCx0iQwN2O3B94l4AJQwKOvAW+6WK9l7EWO\n",
              "d0S459+mlNSZzyv8HQQHzC1toJ0PitwVWZZd3M4oyZVq4Tj5TcgwiAqAACthAAAC6kGb4EmoQWyZ\n",
              "TAh3//6plgAAAwAre5nqgAhK3qk8cDoC2ErVkQ4FyPuR2NLCCyWJVIIgb4xWaS3FUk94wUPAZpDb\n",
              "srqr+UJoETlG/2Xk9NQt1Lohc0J//LWbgSMyjGcUIspmFAvN+eF+kNtTgvidRziy1Ah/+2vDmaTk\n",
              "fwkdprB+O48gMZkGbdAhta+yfSc0E3/6mnHm9znu/X249M/T+YMe4ZflxWn+mfP7tGsQZ8pFDPOu\n",
              "CfEhG0l3+Gqi+UjWi9gAbiku2QMbWnIPGbhUz9qBn3KF9fK4TfZuC7OiNeji5R/zoKtVEoPATJQW\n",
              "En0xqBmIkL++na9B0Ifv2fr9TDfLansn0sFet+7MGGYog+Nt0+1xQvlq7XqqQ162no2XYtdV7vGV\n",
              "Imv6uSw4io8NYIF0wQL33+6J4MG1knYB/6JEm/6nZZosASpBkVNzJG54CmLxaH2+polLxbangdr+\n",
              "eM+TiXpeBgK/bqVcsJZKZxM+R2KDghyEi6NEZT+RaCbqC3YJxLVBVAT8ZfbXvhjEJDmm5vMLjcmy\n",
              "LtOjlGbHh7g+JmsdWWhBo9g1EcoZiFjqufgLAfFtNOADcKr6ngPbqOXoC1zTbA0Cfek8CN3b93Et\n",
              "yhL06e4WhnOKujLvh2c6/f8bRsyJ2zsaBgmailMK+XrLcv460KZHWM7vXlUoIdRTIjK59/aUy008\n",
              "P1zDWCWds9oTrQG+7vBWlDVeoVHdOVvvivqKcIYXnAEtZ+9rejsWam9cBejlMxA2g10BNJ3KbYpa\n",
              "JXh7oI0Z0nl72D531wWvYe4YCdCcpvvEocctXWQrqgPgrz/yiXKbPmLAiBFGbhNVv7Dlwa7m28F8\n",
              "iZ3+tMqTKZkVwGP0oZDTDvhy2ggg1+1PJxdtht6bAf6oaC0DTOzfXKhutaWPXTRkWVaTKp2hr8Di\n",
              "ONwEaWNLkHvcZ1PCG5G+ttYZQS6ACij5EUclQZHFOx5Wd5o/L/dSNgPXr8obMB0IAAADAMKBAAAA\n",
              "9EGeHkUVLC//AAADADNoDFEAB+DYJiUwbeLv9Qd4QJ9JQ3KZ4IKxJBZksbWtwwyzD/ogu7OXjPP0\n",
              "iuqZJW8OwTpOKxoxLUwZh/E7ivOTnOqEcpLFx6pBjSA/kpRmuV04nNVAr2RuYjCkRpTibG9+dqqE\n",
              "UGAUQNnBzi7wrkSE2aV7W4/YJXcaiOP18o9l9nY/MlnpAhUwOSpktcWrSLZBKGmtbeEBhjgD57mN\n",
              "MhleuzhxTW/OY5llURRVHseYsfHuy+BxixIKaz5cmU/WdSJnyZmwQ9z88DVbR66uCfboVlWzGbHr\n",
              "gG5Ns9PXLhWvVM+7gAAAqoAAAADjAZ49dEK/AAADAERtLEVVwASAA2L+qdrL76ZdP/ABteZP1lt4\n",
              "uCzPergOmvZoS/F3/F7rDDGjkRX8YWL0MXVvae6tp0YQ2hTrAV3FNfnz7iWRyWDuxMg6ZmagaIqC\n",
              "mD9qqtUNDbeV6RsV6pkSAu2r7TDzQP98hJGDPWe5f3TaNAQ/X6k8wc/hbNk0uSvA+q1XjsbAcnKy\n",
              "Kq9fOf+9ICTPPWmcy5vf6DotNglDMIGzZ9AtYUNAhXwvxD+GRvP+UdINIr7FF/ImoQGMU2mi5Bww\n",
              "sTZ8nQmVZ6R2ONN6XUDPNAAAj4AAAADuAZ4/akK/AAADAEUXFgCwAEPQLeMB2qG26E/DeuRaoyz7\n",
              "Uj5zfhGemMjewSH7tP7VndZE570h6yX5RObFtki8irXdBWWXiojZ+wKFTrQAjEIwgMbVivaAviLE\n",
              "C2FfXEkE5rcgRlW+m+yY5QJa4c3waxmPF/76Sl6YVoEPCan56hJUyV7Wz3c6LYc4b1SYp4J9mfOE\n",
              "uwwIGmYXt3js+C+rpxnwEotyv473kHQVOnTrKF0llIr6khG0ia5MERiV/MBfPvWmlHhYvWl09pbe\n",
              "Pz4oXa+m38HIEP6rOw9JRs7wZIrZPpH/FA9zKplo3AABDwAAArZBmiRJqEFsmUwId//+qZYAAAMA\n",
              "K3yFoAGh4UAwv6YAytoPgNHXRVB/XFvIoa6D3Wgx/R4PC1CMwtSzqNyQJtv5KDvZMg+Rp+os3ZBQ\n",
              "25M92Fe+TC+cFlU8ga/0d6194+OZb8BzQswlfjVn8QKQYlKbGzomgITuqH6UvWDjbAW/MeyrhIaw\n",
              "Pky/WOwqXzAomkUl8onye6Nr5JvtIhqrY2KAaDAEFuBM17Jc4hGhZOQWIC7EPmJhsUr2FAqLaioz\n",
              "pdOu+6kmePrBPHO64NfjEYjGUxcHFnxe+CA9hP2+6oLrHnHewN69dVix5WzU/QP3sYu/NNxfmBpl\n",
              "COWWwbSZwkKBvlBTSWJtHFbKQsSKSRiFAxWqfq5nEhFoqqxJ03QSoJV4jayt4OVeSGiZtbq9mmsS\n",
              "08Y4t7M8MjUz+ImICAXoWpu7y04vUXDHbRWJ4TTZ4BU7LZXln4PHJOR1NRqRs9sH/emgiypTB0F9\n",
              "Xj692cE6ITBQvqEQSXxRnzdGYwm3FrqXH970Dhblg/nhPWe6oc0ka0wjMVDM+P2RRVIHN0SJQz26\n",
              "ZI14RNiR1pTAgd/yCHUNWuSniDLBBMy12k1/Yg3/yAZp6MMPYKDOatCRDXcx3l2UFnOB+E60AuIf\n",
              "14KzOL6j3pDGhlCBe2R7P+b8ZeNqg1yKT/Qg3d6CRIw5hCSJgGMZkWrFMs7q3/8mUt7l8noZXyWJ\n",
              "jjhUWjIQo2qEDLbJ0944Fx0Sg0Wcte1tPFMptnqJHOP+i0A9+mjJdMHmGPiDiBMtqMkUdAyMdD7E\n",
              "0LZsO1hwqcTpJAwZiaIrkpaq1W3CYgUVdUcenr7ba8ebWge4oNCLgmI4djSacRtmXaYFN+v2+flX\n",
              "WS6UjLLmRwJG6AVauuVVr1nzNP0Yddyk8SQdNbqa+zHsYIujdXJ8pg+QGg2bGej4AAAA+kGeQkUV\n",
              "LC//AAADADLfV+wGnMAEN8CCKU2Wwk4nGisK+lIM085NXSThYXraYQviSQruSeph5gRKjkA/Qnzn\n",
              "NZfCcg9y1a9wQ2kbs6/BS95k8Bqhv9x1RRbzuaSYWKLF+yzlDOkxNeAAvzX523/FuCNK0YHulrO2\n",
              "Z62vX98MC7vIILMEJhDDZvw7CzUuPvsjUjwQmIC5V1MCvy/ttXnvqbHx2XGHOGqySMatH3B+KHhk\n",
              "0w6Ci2jlTqFjgU4ee6y9ADAZSEM8nBeJxQSt++JPxy/5hnFrJb2O7Ng2NXfUR5P9IAcVRCEF7T6+\n",
              "k/LFkMHG8MSwqATf2jAAAQMAAADVAZ5hdEK/AAADAEUB4KxLYAIfnVqUPcobJP+UmJZO37Z88Xmd\n",
              "m27V4G7OYqxFOpoeAB4xl4Wi9tMhaIm3y+hXx8iKBjd0C9zJ0oa2yVBPzGRI994nWvfW6XJ1jlE5\n",
              "zw7g1Joqxdmpim+EL5X92qTeJOtcPJAXeRbRYuGcYRF041ADKJtF9W9t4jMI+5E1gPDjEYdjQWnp\n",
              "eftUmuWBfiH2MeXxH+jDSNl8AY43oThFrhn7BsJt4nUlzmItA3opmCheuu0kUrX/9QxavbrPi7dq\n",
              "BAwAAKCAAAAAtgGeY2pCvwAAAwBEiRdLABEHnAxmC/tTo+Br+UfrnEbFOdEyY1wqgRRioHRQz3pj\n",
              "Px1+N6A2a1Sx9ouKIDO3F4OXbtWGVrKTTpXJYKGWypm/MpKaUtYW9BpgQ/Nw/D01764AwKqK3Tz/\n",
              "qYmJOneTiUnmcALN8C8PDXeL6+m326e3WQcJhbfEAue2LRWSeCE0KuJwUqpwEWgPcV75UbHH1k4w\n",
              "qJipvzEnevQLwvnwLQfbXwAAAwGzAAACMEGaaEmoQWyZTAh3//6plgAAAwArvC3+VlaT6DQAUtb1\n",
              "Tdxy/uoryVPWdQBHeqd0TeRFanntaykUrh1ijBJoX6dFX3FHCXXd6oCbZOwv5ruYG7n+NajJwZdV\n",
              "tlitM3U9Jrl3oHUtrllV2SY8HMszikT7zAK1Fd1+Jz2/Y6eTW1x0cIvPlkcaopA7t7JvBROfonr+\n",
              "+efXweMiFpuElbtAX3SplyP6eMMtaFNT2ZG+t7LyT5OQ3l+rACMRG1gRdOEJbj6kT0ew08qQv5Kp\n",
              "bxIDo2TXOPR1SvgWBtcT+GWwDrIb3Ry8KAqyxuSu++NdtNyElF0ui/M/6VPUBIdhp0tn/fCvb2Cv\n",
              "8PRzKmjkzGGC21suCCrPR8iLxNJQmVwGoitnfSDJZ7LxsSRCUiH+ZJ8yBvw/ntO00XqiSFaAZuL+\n",
              "JrlUt2iVd17+BhEqdrjzoc29ANDiUTccYURgf40WXE52FX4B6cueKjITz7kFwcDl9HTfdAAJwy4a\n",
              "rJ9HITEpnXV5Iunl/sgcdsHTmoO/+Cr3ef2tfzYXEoQvaAv5b24VT5IKwF2P6N/M0Zt3OpOWpCVk\n",
              "SIbbAqLe3oK5qJxL0lFYFfpVMnFDShqJcvv0hLgz1kM846iHdqOzqUOfuH+r+2YEUG6+6zuK4ewx\n",
              "zIDqlj2w5WeazJ6zq8QOPIz0xu52iCiDpltsbcbXXwsidpeGbdtpnWJvU43wTomALLUdjie/ogFv\n",
              "OW5Kz8r7HUIrgJNK1dmhAAABFkGehkUVLC//AAADADNDh/zeWAD4Q6dzHeLJyyWzLV8JxdNQ3byT\n",
              "dR5XGK4NWstZU6oxapu0Ir8T2vAGduU8pvOUkVzkndqRkuPT62vdQx74xF9O6rpsz8b3XO/IKU8D\n",
              "NfKd4i/pp4g0IFzHuy7M11a6HoGEfxtSyvAyF29OsC2XBY9Iue6rp6jV0/L4F2CVwG/gdr/JP2xT\n",
              "1FJaOxI3F4ovJLGoHBgbuvt/v9iXXo81jy8OOuJGU/kneFr8ALnU37sYZ7KPxcW6P3m9hYnRyTE+\n",
              "4M/MMnrEbri3eZhAxRxiOcC8QUVxJo46RTRAv7OxCFQdwCVK/mvdWh2kOodnKD30v1tN7RxqfC0O\n",
              "BeDvZ2ykQLxQAAK3AAAAygGepXRCvwAAAwBFCCcKwAEMIFQlj1XXq2tZroGTy184IjoWE0iukmmG\n",
              "Nia50UoeUkwU4iLkfubxhfPUzCmqBJXg0gvl7bdtaSjpJe/oGlkXRyrdliyJSuRNOnsjSPZtnJup\n",
              "yCQyctr1vrFhHIVVQd9WF3WBoUCwZzV2844JPWExg596ADFZFVizWxNgQknlXiwCuH4iDhh0Dkp2\n",
              "4K6Ybh1lgJyepVE9OV4xfP+G3peKl0TfYK2Y5Mu5j4AEJDZR/Y0ZaHOlMnAAA/0AAAD2AZ6nakK/\n",
              "AAADAEWeIgBB0XFs22Ys8OCp5QRvp+MPOY1pSBQYZAhUajQ2ceibFI06ff19rdDxwbhV+BEBCCtL\n",
              "xoBYWY2gaRkpr2+HDAyJ3AyzuXOifjUO3m2n978+S4x838ez8Jerhzw9nKOyephHQRtZ1KGieDiE\n",
              "j5pk1Bq/A6lEtxb7vMrafJvCX33GaAT4QZd5n7URQwdXkikpAbHJ1iSGiKBRQq7YWFVof6AwzgRR\n",
              "Vdf2tLhdQqSlXwasrxkVbWOuIvLF5BFnYGQPdYpzLWWIg1H4uWHWkK0eOsAGDNfdl8uDm90wiSvh\n",
              "lBeajmSqByQAAAm4AAACL0GarEmoQWyZTAh3//6plgAAAwArhS2tGAB9wZK79orSq3lB5zXLQ4N/\n",
              "NtoNZLzG9sKGUM7bvRqoNLgduZL7Qp1Lsf7LlE+vJYlUUDOsQAsbXSFKQFnkhx/cFl4kyEnVepXy\n",
              "ylxV3A7yQcmxKwOGH6HKa5+OUupRw9nQv4FXuFXIfNJmA8Bb9GvSVPiLjBKLR5QeKFK99+OR/8RT\n",
              "10d87pwDV20J8EAEASywaFobBP99IEXdybbJx+klVJVVB8aHv4V6JeUg2yWt94WslTdeZIAfyZdK\n",
              "0QcMXpl1hoHQ50HF9IC6HmFF05jHd4OoIskv94Zr2VxrFUdSJsOrfgHKAy7v509jP3abfq2R94Dj\n",
              "erma5VGEUJRDcH1Kir+NiIzGmdQCc3ibcAb4+giLqtY1h8VbBmQoh45WcpqIGflpUGh/7j5+5tOy\n",
              "IA5FNRDgYTdTmP1W9e3JeHSRF+fR6g6/X8Zkhk6T/EELWwGHyrD5eld52FWAmiT+p28GWTzslkPG\n",
              "iHnJPs4zyIJGiM6qM0KSbtuK70Snz1iOWM8iHdAZndYGLq1lj0wz6dwTTM5Uw9EHesftToxKt9BQ\n",
              "wQmGTW937zPt4EB1toKr3fV9L/41s1DzAxfHsjfKDCBsHubKnHj2kGzoc9G7xZqllsjRYvwn2qvC\n",
              "ieFhuDGgfI0KHA2AKmPuoz20ZPTzkdrcjKXUJZFUVIPztG4sKwS4aAsdAs3RJP3sHJvzxz7QZLlB\n",
              "vgAAFbAAAAFHQZ7KRRUsL/8AAAMAMuodIuAEH8QDgDsl9MMN6BlVh21ezFS6PY3Nzsx6dH1xYqte\n",
              "1pf4xPFgvJ87DbI/sMWxZqBUV1RqfqicXwxfSwGlOetfR0ONndgE5h7HhB3HGXpTV+arZPgp2EKK\n",
              "oIgNT8FTY5ULVuTWn8OUHJIQVbp3moJulVEsARsCNuON25tir83q6HKuDOL56+ktZJTbqs5WaKJA\n",
              "cENuf/xgvVbGzdTSIG28rJ0zlp1KUj8mG2Q7odS0opoTRsOvJ7qjDr2jmJyc2S7x46IPL01ZWFHF\n",
              "Yk9gyia792U3e+Q8gEt290L6BrLhiy7Vj+HT0Bx39JDqS4Aph1bj/Cfs2M8EAVTGCkpBtTKYCdDK\n",
              "X8TzhGjDyifukDB3fbMNP09GSisL/fGfn4oxBEoI9Y+k1Whh3flVPzqforbYWZeAACzhAAAAowGe\n",
              "6XRCvwAAAwBFGdbTEAIS/QHWjIxk5DOR6X1mueRLaRIgju4+2tcHBKGEy6n6N3LdJNwFRHkrPhYy\n",
              "A0Ryp/OwYJJOtipsofPv8Ai3vDL+0yvbqd7g868yeBj1vSf2M7t6Pg+gB8lEL2Dghi9WtNJSisNV\n",
              "ZxxaIdG0X0E/8dBhSTQgp/81xGxZa0dAdM+FX/8cITAcz2YHQELgy8TeAAADA/wAAADTAZ7rakK/\n",
              "AAADAERz8qKwAQ02DyfTl8lyF3B+bkbRtkZPz/fVTjN2juyb0Kyn2K9VbrJZ0Lm1byMoCWAPXmft\n",
              "aiXukTVERBZtz18/ypYC3wzqbnOovV/ycLiif/vgMvWOklP0atDb3gPbxuyCV+hNcW3GMBdmeXtb\n",
              "8wiqH7GXLkTfJSuZMX5dIBy3SiTDPlhHlGqBfS0wN8z8QOPI2cWVwAM63mLjD6u5KI8fPsoCSA/C\n",
              "Fj9P3e+Fw5DTFDDE8OkthdhG0hRSn/uWmNSDFEAAAAMCkgAAAoNBmvBJqEFsmUwId//+qZYAAAMA\n",
              "K3+fFABDiKbq3xFX9ioCXfHmXYbFcZMrMbd905brHB7Hk63gIyK6aiFoTEtz1fljQT6HgYaQ/tGg\n",
              "WNrF9Q50JCuvz/B5wNFNeNuI93IOdWDDRxTkb8AkMegCls12qeNHsFnr8gkzKa3RKZ4rNk/qgNFu\n",
              "I2OYmHCccWvSan8H6ivfXpV61CJmU33qppM5NGmXj9fUxpxbsifRqc0Akt9BxvmBQtaSju3fzxst\n",
              "Fd1WY51AstoL6Pum6c1Xb2Z9IDIdBys7j5f0p9Kjrqs8mHzeWZX93dMhZxFg0ww5sfR4e78vx3Vy\n",
              "sEybWvI632/LdPLaA1TaU5QFWQ9GmmyG/RfpiXjfggODvii3rIG0uP/FpEsX9QXNQXim+K/IW7i5\n",
              "JUwqdCGxhGhQNkXMR5dOXIgi1Edq57iNDvRaoZxtWFj/YP60KzDoWtl3LjL2euSwkchvvKL/4B6Y\n",
              "OpODmdeZpeq1Il1OGHW+9MqqufRtxEuJMkD+9P9TOYjEUNYKF2UN3jgwWjQg3zXbI7b3U5pbpXd5\n",
              "0k7RyKyN30HQ20J61KRpf9cPEYN7OtY4qBL3nHOglQHjU5fvK13H7UOtH44K20q0LKl4hwkH8hms\n",
              "HLs7UjTEJkphrv3MQF8ofErDjVga7nn02PrwHR+LCIZ7K85PsGuQ9hktjtDbITaCO0s8PzG7JWtg\n",
              "bknUDFvPEDpayUvKtHYeqtsw5YldjxXmFjyCaXEGD3j31EET8z6gXnuQmunlIpecdlEGVX6sMV5b\n",
              "a1Rg62HZxerjh+gWK8bGTVPN+KCD/kFo5pAYw9O4pAmeDUas2s5XwBl0gqcKf+ErutAMSdx1AAAB\n",
              "BkGfDkUVLC//AAADADOROpwAmd5Fh1PfyQrKjtoDhN7Ih8EGExwkXG1qqIcMD+2CZkbpDrJ/AYA/\n",
              "EUrQyGr/2j5TfNCH9/xnL3CJGBpQvIUfiX/CpIPhwyuO7yE8nNzIXDSi08BsbByIVllq5B5mHgjs\n",
              "4bRE0Da+20JiI+fdZ8hFCBiMbfZso5mYuTLzeT8tNDA83TdeGdrVMnWGnmwi6SveFUtcNRvDdoT8\n",
              "DQfLjVbm9RcglOcoET1rrVrGZE/qC4+nDBNdiFza7CG2U0tYGt2hFHqXo6RqjA0Z3hBmIhVvFJai\n",
              "s0ykm+eQXwpyrUFR5EIBUpM3TSwhYj0djNJ0jqYm5gAAEPEAAADgAZ8tdEK/AAADAEUZIBziIAQh\n",
              "VcbL/Soy3d5g1iVZ8OF+EEUrGd1CMITs6RGOy3eh5LihqRa/ukfj/MKkH8vKoYj03CXrG74Mq2Jh\n",
              "kRAlw28CAWDtZxzv79FBFW2YX8i8gtfBhBqP0Nd4tHZiVFCs8nFK3dm2KfqaYokUh5cBo2oIFHCO\n",
              "EBPN6iSOEFwiD3OaEuY1YVa0WtaRe71CUgdARYa7zC7BkcDD27gEmm51sH4pOoCIu6FUYmwxN0hh\n",
              "eMqBZAEqCoRIrDdcERoMav4SB//rXcWDkohMXmgAAAMAIOEAAAC/AZ8vakK/AAADAER8LSwAQ1YW\n",
              "9gCxuXAlnB9dB3WWYHstn8cDx6Ywx/nOitrU0EZAFeajXpzptfhzKggoGIe9aP2BVKiT6muiDFx1\n",
              "nT6rJFydzYg36tCoNXYjpJFVZT7Wa/1Qm3QIUFU3VITav3lc/T6cLcHm1wiJrt+93e2J0jrZC6nr\n",
              "2fgHCJqyadhsxTvdQ14z6ixKYt2LkNkZUanZZ4wXUZP8D8byjm49yQ0bL6O33jHXpydnJx+uKAAA\n",
              "CpgAAAIWQZs0SahBbJlMCHf//qmWAAADACuQJZ0oAIbSc25bL8VjL8u81KRhPzkVyQv2yXeEW8FC\n",
              "NOr+QP1+VuznMkHKWTUhPJZ8HK02RepasVCJSNvt4KEN4aHPRp1U3suObEnHhY98LKqYERlUx72A\n",
              "IIfIRktL4++eHNzrTCv/JEKiV+0y+n+h7oFmtbKjeSx3o2riUHi+7/sLrG/XU/YckTB2TsLWFRyl\n",
              "Xh6mpExFsWZvFLH+GfOd98In0l3o+iebi0MyH7C+6oyyIONodY9slZFzhcYpgzI2HrIC5j9EIztr\n",
              "e0/2LmvFctpCOOgA7b8Lx6DDQC0G7Yg3rVsF+iZKerch1gLau7uVDfQ5EkZtT3O9zSn5xsZ9DwAU\n",
              "Man7N52T1qfi/moLCydqZhrgCkba0NeaWVf8T2iDarj34M2fpLA7lSpSu352erugLqgS2eS6RvrU\n",
              "uBpBb2400n/z1m5Yir3wL+QTsxFPKjD+4DI8HAKo2Py0kIGFYeFPAv1pEHh6X69phc0qvbrTAjqk\n",
              "aYm1zwpFL3VTwJMNgvsimcssH4So6LheYHSMFBiJgtV31OuuBvRbuJqKbt2TYkek7kQ/Mu8tH2hS\n",
              "QmVoAw3mzPLm0q6d+iFU387FqgUytobnSsHO75f+3UbwbO3na/0KQoriGguttdn5SeB84zOSKWvb\n",
              "7ejRgH9mjiZR4aznyzhM4zykBqO6AIPlaSZgAAAAr0GfUkUVLC//AAADADOkxgAdaGn2gyA0fdvI\n",
              "Az4Lu1Dd4A6OmpJibcQYD0i7kLLiqimNlFk2wNz+N6McKni60wg6kCT4+11yQLvdy7Sjjx9R5cV2\n",
              "qzA//eSegZoKHTQMJWf5FvT+FWfCFenXwk715+/gl5tkVq+kgWEVfgidBCytaXhBWp4iYilIQixu\n",
              "EBWLyyIWaoeNM/a/VTbFbqFERGYVg8ULIk6vZlojwAAAFbEAAACzAZ9xdEK/AAADAEWeIgBCOHrU\n",
              "R991e2mjRSLj0quX6SKbxnjuBfng24bizgSZZwA5hmYGWzeDPWTaQdKmoUhqSc4KaMXJHkF6Cju/\n",
              "sNg3bIC6N9bDkcK1apUWyQwigFtjDsdKggHDGylDsZ0RDnkH7MvdMlLOWinddJL6FnjvtLAwybSE\n",
              "+9Cu5257zXGSI63ts64/YIr1rjX131dvIBewHWTEgmmhFIjJaogKc+JzbAAACLgAAAC8AZ9zakK/\n",
              "AAADAESFMVxACBZ1TtWyy48uzGBX6ZP7C2/f4g4Zg+OSqeepneOVkbc2A8aNs3S3IN/2fgxkdrlO\n",
              "BtZRkApA+lBtSRUB7+pCSk0vSkKkluD8OwM3sRA3jYskpR1y1tHTEemi7e/uVEBEuMOQk6JEOIf1\n",
              "T6cZAGUcvPSw8vSI5r2IVs1Ayk5M7vsIZP3nyFoNe48OA4x7jQiRleplRfPF/n72F6s7nVYX6nyQ\n",
              "Ob94E1SfgAAALiAAAAL0QZt4SahBbJlMCHf//qmWAAADADpDfOAMtuofDvAEmtVsF8oz/0QMYqs9\n",
              "J5lnIATwgC7xDzxymCYb9csAMX/fMpXtLJnd0Wpk4k7qNhrv+GEvqPA5OAqi/vPgtawyqewbvXqp\n",
              "RJILeaP/KytJ55vSembJTw1b+6BzeGoh3Hz9GHS1u06iHLOIldrFn4g6djjGgHeBeY6HMLu2bcuh\n",
              "eKIZD3TCwdrNS1OCJa9EcgSm3d3rm34Sxc53jHA5a4B9dfO8nUNclypkGAM6lxH/H7YOPx4vsm4M\n",
              "pw+ZuCbP8DHAxShv36AZiIorJV5xf9/SLrHEtvkKTyLJXmQj9/rBtKIynYZbODcTwj8R9T/Ls81P\n",
              "RJk3RO6MXy9tA59EIxiD7Sp2zrQEHu2pYBOhUrXT1Zn8or6NZI2NXSgxpBxNtpvjHRkK2bS/ug/E\n",
              "gUKP67GrOBp7W15zqdEjkOIUEJSrknwSYZjvbOEU/yBO51DCs5fE2ne8Cmvy5eeBwBevWu8lhJ8x\n",
              "LmJbKe3rE5WmhSHnZxXsTugHqM7KfVPFjx61rDrlO5u76/Wik6U3dk4tkdpfihjeXg6RwREPaiHz\n",
              "GGjL/8nqQ6W2DTvQCAIGPzt/C1I+/QHH8rcf0lq1G6QUwfK4w6aUfXHkP5gGJEkiz5+Uw0GrW6bG\n",
              "k8o6erH6CZSuHfAD/3FVzMoJ0VsTxebCZW0rTSGxF5j38X9HLeB7pTrj6hgK/nxjDYMrdN4Il3Wl\n",
              "NX18fWChkx0YrYE7n3Zs0LBIla5VaMU8I65mDblYjQz9bHWeFrDWpBMDl3VzrbNc5vejwzlf5KuX\n",
              "4ANuHRA2479GJdib+1bCM6BlmITC1AJfXGGPOa3op78TI48afKpRalItbCHXfDIjrxiHz2srukwH\n",
              "+0g6F5KWb5pMTsUwHefiwry3ACge54j8R3X7gT8qvn3z4lW83J1AqB08dwZtYtjr8g+lld+3tSmZ\n",
              "uV9eyaA25UWpWNKQX1tl4t8VL5yi4vmh7CUv1ctRAAAA8UGflkUVLC//AAADAEVnM17FHEaxB0IP\n",
              "8YshAoAIb3HtTVgCHLP+1FGERlQnUzgTk72yWZGzWidHnULIyA8apZFbg7gKe1fuTA6LpQIzMC3P\n",
              "9ChTiRx27YawOWP6nk1QLQbapCM7NBpUVuXf459RLGO3GDcMjARLnnyC1hMC0sBi88r14GwCN2ci\n",
              "UY9XB505d0EaBKlBAuLX7iO1/q9/EUQ8Y5VuQQ0upF2Ufcw7osf6NBdWJgOtYbJ7FGNZN7mhbbwx\n",
              "zKEcLi6VIKgpk0S+T87+Xnsn7W35Db+DXGIDPcshfV/9TUs4+1c9/eOapWAACpgAAAEFAZ+1dEK/\n",
              "AAADAF9/daCpPWcrGUJJoonNMAIFibb9/DIM0ASVwpwzZfB3oveTfYwWzTz6urzDXuQXUpK5eQKs\n",
              "Zm9KRd1ASVpeQ3JN7W/zk8JcCwk+HHzQBfHnKtxfUJZv9Y/0jH9yKYL83jnKCa6F4Y07VQA4e0uK\n",
              "6v4gADfJxs2yeQlv6AWJdQGqlhYk0LNNeVATOL+H/1JBK2xJX30btFXQUctyj7NsP7++a2CbeyaO\n",
              "ecna4hWoBtLbswgBWSTNrTh68pTAEmMgmGgiYYIerPyA0K6BJSqUhVMUIYdBE2MHrilaSNbnTqZk\n",
              "s3hcUfacaarPuZbsiC/3B8JsA2TgAAADALKBAAAA3QGft2pCvwAAAwBCbYcREAIOrHz9YcCW/UMu\n",
              "LodZtMfSJT+JdWOzNruLKBY8QYR67aCBnlxk1DC9V0Lw6afmk9hNUm5l05pDhFrypK/ntTWLCAmA\n",
              "O6KUF/VscBdlcAjsMZ/nbkj/aVguwTZeHOt0BZi3U2JvwebFElYrl+xkKzNm9WufAgyrZ4NkjwOD\n",
              "9XhDyv8WqRDY2cYvm96AyBr6Lq8RHJZYGSRAteAlGOwH/FoDzo9gAcKJ7Xka4WFnusC80b7w5aEK\n",
              "1RBnwOMMTSFdzNaLItNWFitGG7QAAAtpAAACwUGbvEmoQWyZTAh3//6plgAAAwArvC3vQXMjhCAE\n",
              "d3rGCqaAnYr2ygGk+nwn3RMHTRIa4V0Mi8jxFuBF1rOwR4GIUenuc0e9ltzvb9iDq2GPK81SJZgN\n",
              "olp7Bwa2bZO1v0W4GMgnG9oriwHCNKlcIohiVjJc2rwi+Dievmm1jmtsSjesLlrb201cT7JqjhLr\n",
              "VjdQzPn7vLEJuCR8m9Q7Rwx+RJtSxjIWBAA6it6FkQhnbACQ2CIf8A8zPlGBXvrMZA1xkablPMEH\n",
              "4SOblJiFMErGbqZoCOJ+Otauf0b+nGQP8Bb1AOyEj65vDRSrwM+UsaF3mra6Rcgu3MtS2/Pq8ZXQ\n",
              "zhfxyzM9QGGQAG1cJ7ixeP150sIPMQUURl0uYV2+zo721PgQONcdsgLGSv6+NJMa/lScbEXKRgVo\n",
              "puXELo25rBJFLu6PDYEKicjgXs4R89xJjyYhFA/e8bThVhYlO9D3qM8FNVLhjdWrHFTsWmIEAxCg\n",
              "ZnGiymwUlxulggyNwit/AsC9QHs7qb2yaoQs86FyCppGIIeNVtWkTYBZGEZDbn83g1qy+qlp7Kdy\n",
              "1xKDrD05z2E4zW7ZwcKnsSSRh3me30sTTIN1Vmu84E1xYUKcXexCirUvhWcPxzyI7sStpi9RLf9z\n",
              "zg5c5EABlRAM+R2Ht+nXR4fwGgof2GgVS+mVjXY0st3Wzbc9PWpyiMHTQUiCoi/DshfZAtIugAfq\n",
              "mXylZqHb2XBDsaa9ERrtJbjdvsT/AAFKiq15MCCEoNNpGu7/3b4lTiGVGGKu3fJDMpso7Rrj+YlJ\n",
              "ZuxBbi00rjllCtIBo8xvI2v2yzFu94Tojd015CwzoMhA7xr1x9o4INQpNy/lxsvfIeG0h8pm2Lqy\n",
              "b+Pbzwbvvs6xgkVvS7EwEqlIm8akfDqb2MQPIX5vSTNLeD8WzqPr0KN/bqiYQfZQcAAAAPZBn9pF\n",
              "FSwv/wAAAwCK+cxL+wCADzgjEySE83K8ZY/lZAkG6NQiK+FZU8cEnzCn+7GILB528PCpzJmUHyua\n",
              "7Gr7AUx9uU2g7jXxOrsNgf0bkwovb5ikuWfCw+7RV0x3i7lR7hrH6Wm9s8Loo+1U2c/s5lwH9/VS\n",
              "cpJRoULtcA/OOHrnuSaXN6mDwM2Zq/vCVNY1ki4X4kRew+hzGJLomMV2hORPkxu5rT1LXKljMB4P\n",
              "7SJMzHpdBAWBFd0kigigohWmAOC+f1dBBB9q2d8FjlCsR7zWMwpUmb5fs11mO0o24De+fmdwRWOY\n",
              "9LaIo1Cu9yRg+IAABJ0AAADlAZ/5dEK/AAADAEV71I5keuACAeEKD+fU5EWX9mAzl1vzKnWd391D\n",
              "da1AWlLlaYsxO7nYDlJQPJnwGG4GXX5yE07LFZM6uaLLe2+iUcAb6FZko9X0ri3zteZ9OX9+vn+I\n",
              "8LxAqOaZ36UbQlWTFQvaXUsnJZ17jlvqJ0VBqQ+17Cp+axY8EcsF3oHbPKGousZ9slpbm7mYsjNs\n",
              "vBdEFZQYUwFB+DoVF0xyxRXT99ATfs5mWkc+Tgu6d+SBSfx3yM0ITEdLDBo9/RuXSABM1NYa16Kx\n",
              "09BqT8zCdPFGHN/N49eAAADPgAAAAKgBn/tqQr8AAAMAQzcupfiAEw0mq2eCT36VFWvKL9DxFaTu\n",
              "7NfZW4AtPYthO6g1m64UnHjCNiKbx4mxnd3yf/XBv5Q5BvRiGEqPsbOLIH2HUL/Pt60w7quT7vz6\n",
              "ojP98cQTVSQpgFRdiPrAFc4+ELCfXFN5BEiGDIDHJ2wemsvXqkbZg/J5LZ9+kyi6k1gKEA1eh017\n",
              "sKPAK2uE900ygmSZzLCp4AAABd0AAAI9QZv/SahBbJlMCHf//qmWAAADACuRZ+y0AG+nlQoCk4JH\n",
              "dUBRL4vasQl+3FlA52yIDhZenFiowhdNbj0waS4pQZdYKnrtPwiG5/oSh05uXww6tqOTVUW9XlGm\n",
              "N5EoHXo0W1Yud2t/Nst+v++5VjcgzHj4PUq3uBF0HGXnlF352wc1sJU/v9XNzuFqxaRfdq4lMrZC\n",
              "HfDts6S8jK7K7+si5ffmSs/2n6w7I5E0prdFnKi5ux/UUkHsPL6JzomcGLmE7bB0e46zr/92byWD\n",
              "a8KspJfdzD5JxWbqBX54UHz7iqwoHjzvJFtsVppm3d7DDUSY81GpKkQz+42Ihid0U1ANSYASEUIs\n",
              "WwfQFu+tSKI2GwJCkSkq0/980i9d7AQFaCFaXbHmROzVxISEORTrWmkQHNkQQ9p6hzW8jWsySG8Y\n",
              "ch88SEszxC/8frMi28wm91Ac2Jn22Z5xQlOd3Ij75QkhFrf1J+IK9ccrqwiNE7cATw4s2pJ0PQSt\n",
              "RaMxnVRhHXf/WcW8rvnhqpC9tuxmg5NeWngHa0W5LTd7AWlRyVrvSDUY17hsVVoEC5i8FENOLwjB\n",
              "4U+bUQ/pKi3+lwdHQxUWsyCe2Gl9kO0yW/SMq/YP9FnDVDUbaf9dJm7ayXN2VuKo3x3Or3BLwZhV\n",
              "7GHgM/GvMHW8VHswXgrCFeAA+8h819/CmLS827RM7/k2LC1G03Je1YU7zmFH8qOkwtVzU6/Xu1+r\n",
              "h94IR1AVPEnnHqhM4Gq5UGu1rBOi0Qs9iAJBAAAAxkGeHUUVLCv/AAADAL9YZmFLdAA4rJybAWpa\n",
              "EaSazD+gzkdLbNHxRMsP4vdGmjNwCKyza4oCe0wF/1f2f0xCtBTUy6GHT+IdH/Ex0xFXqbDLTRLD\n",
              "HxMB5GQtnHf9JPM6Xr3fkyQbLO9LMa0rhBLuLbx7jH6fg114ZSKWGBGW1P5ummUbKltsAjFdX622\n",
              "D7PoOGuRTjKs3gHvUZ9UEuuKiMejAYQalNGQCX03Te/5yyMnHovVQIbrWaTE/e1r5BR2rEYAAAMB\n",
              "+QAAAKIBnj5qQr8AAAMARXW+xXQw8ADUI4qxDBSrAOa04WXWrtaCdBxMPSRw2mWq3apLIaqOwatN\n",
              "O+nK/K6SdXbjN7nWrTPGuiEXi9STP3EH3bDeKRdZEzZ9n22V70yUV/NlewFoZeOWQpfSbCS4F6z+\n",
              "Q5JvHZhTsfnR3DjcgQ3Nz9P0HqmyMaziDcb+dbP3LGEejM0DVy/vSDtyhWvZQX2sAAADAdUAAAGk\n",
              "QZojSahBbJlMCG///qeEAAADAFQJ+G4ACD+TWWDBLxSHfEv3emlIidQEt/dOWh0f0CwUU8YT4D+o\n",
              "Uh1mQ4Ly6lS7M7ZxVX75H82YzV5IQrZ+2qiQtM3OZu0dTRsqhpipZv0i4e25OR580h+epGP/PJau\n",
              "oxUFC/55IHzGdWtuwKn3o358gJ9w+pmIChg1aTRtH339bDCheR8dRicxFPYDGjzp1PhN7RQWOn1s\n",
              "/Tq9MCWM5fRqcKN+Ad30we+oBnMxf9MqWu4bKvvCPEXzQ3L9MgoRapReEXjuhA27GE/ymRWQbe/4\n",
              "pg7VleQzYZDi7dLQaMvhMWL+v8y+4cp0Bx8pvwvaW7IMjlejc7f8N3QXxrGlXOkYAM3mYNEMf4Fg\n",
              "9VsOoBhsHRxYF6z3P+a4R5kmwU080jFv1cncS/q2byYmRQdtpKEiZMqGV6ZT1y0sljOjQJfPelR0\n",
              "OXGrrdGZWp8+l9VvRP4k0i83L2YP6BPq+QxX/YMsKewhWxY+o/SJhgXi+tdfZG0md6LIcITQgTx+\n",
              "XM/UQqKCDeep9RevfmiwDU4955kFAAAAvkGeQUUVLC//AAADAIr5zD0GBnOgA2gmkOgzn+GGiuND\n",
              "YIQabkvIDTG9vvddzAVxonHyMAQLZjFaik8/o3AUYJRze9ts74ikcX0Ts4a+x2zO4sdmKGXW1HgF\n",
              "NTaM7oi8IgZs32N2vrtWVCPrSoStcMCXcmwfTIYTJZdRvF0uF8FG3LHzWtLcgRO6RjSciRnGoVgJ\n",
              "O0lUn6/LPhRHvs8AS7k2G4R4BNyoNu1IzH8/0k1wdH2lUsCI/k0AAAMAGzAAAADdAZ5gdEK/AAAD\n",
              "AEOj4gBL/053bgIaLzJXXQ0En2UnVcrhHXkkRMo0AbZaIXouAxODznjIqLR+POAxS8+SIpfFANxT\n",
              "/Rb2gUUoK/Y3fnCFHDB+7a4rInRRLhzpDKXN35x6wh4BspfPcMOwhmHFY48Kp8DQ7xhnjQwwWBGD\n",
              "aJWhHm1pprtu3YioBXbx6JSWw2GAQ/+XexTU8kvCg4ZHdbplhCugzdTcwV4yjAChYWMNiHeot4gZ\n",
              "Gjf0RmdyDJv/sgioChkrzpoY4SNMNk0D67p++VYpcryxbQwKSAAAB/kAAADIAZ5iakK/AAADAEN3\n",
              "QiAEAcR8XZm9ohgdeQT0wwO8su+c+sbnFJ1EEQdGf1fQesKzZGNp/fnz82EyFv2IVQtJuvylXzOO\n",
              "pLj6p0X5lngTxaiJX5bdX4JotXvi+b7hFV7N57Lge4/SpGcoRhKUPEaBfayEAKI7sSMUbv4GrHBL\n",
              "W1mfuRDQuueba/QZmNpuGi+N7qcm7WVriDGGWgHR0gwL4gnvzvAFNVmkF6XJ6GkhTeTMBvbkVy2e\n",
              "a33MGbEAIx7vOSOYAAADApIAAAG/QZpnSahBbJlMCG///qeEAAADAFZY2OQAmr3mNpfrZPcFIf1Z\n",
              "d0lV6wJKCv1/w0YaHz9/Jl0LEChA40tuqWJiBMyS3b6mnIZsUMu7fXvOqDJS2OHA6WjcxzZoKAIC\n",
              "g2xTshfF5b10gcswIqryEd+VbrT4wv7rnM0XspuAPRxGqpDVr8LbLQZwV8lAlK/xOpVI3I/rh7lB\n",
              "Y5kzVxPx5E9nnLvG0K8ZGDxI5i7SW0XqNxGelcTLMb/TVDpOSLhliJ0QS2CP30F56hf3trl4QBgT\n",
              "x+vw0tFTpYehD8y9v00KPX8j4DTsWYHk8PgrM5fuyuEtg7F3x5Z7wkkrobLpB2rFVGzZlc2CSa0S\n",
              "aomjSlzy9SKFlKl4+R4DM7cEoRpwTw48ZSjPB9hpjane3+a2vWpySju2nOqS5JnPtQiOB2ssgGVy\n",
              "LnJOjy8s8fNbp41YUGEK6iTfaD25V0KJetHHTPN1x7LNod11jpU+8vFnn7TvgH0TXKGyWgPj3JKz\n",
              "Rrk3wrcJKf8BT72Vy17Bt9lZdICzdXQr9Y5XwjD8o7wWS1JFPiBvHryWEJw6F/z7yz6mCINSHbrB\n",
              "5zm+R7AVfcAAAO6BAAAA/UGehUUVLC//AAADAIr5zEvuNVwAfCHRrsDMRH1bN0EacsiVibgHTG8V\n",
              "OEIsVDPkPNtHHtzAiHsVMdGJSEmmIa9wTk84u44l4CbQ0du40xkXGxwehZQejkOHtDPk/HPykH5U\n",
              "v4hs6q3rXoXAgpacGlDR/aSNFEzaVC3qwuilvD/af8DbhRVwEiOCOMbqHFzrw7AbKK9TrNLTlQXz\n",
              "77QoyksXpp8e3VLK4kw58Hm0MiO51BlrFUklnFYwT2e3hiFgZvX1sfjNqHTr8WVJhzJKrqXPwwOD\n",
              "ZDyJ/jCbgbadGcn/Pgr4zZnXq2OetbO0GFrJkgkwSxXcV/cYQAAABF0AAADbAZ6kdEK/AAADAEVc\n",
              "1Cm+ACF/mPkgr1211u613soNibbSAsByPEcGkCL4Help3Rd8JaWm7W9YmP+IZxX6OlZ266H1W121\n",
              "Uh2Psh3SZIiSNZ4arcO5epYBzY6uPLDFhH5YzLhtM1a1Gu3HnRzAxml9Lb0xbmEe+tlQaYlS6ecH\n",
              "bGy33xsG7uiUk49X7MEe+JQ4uwylYJf39v5B7za6+i5uVqmMz2ilOtOSUbKByznaag9ZfqY++P31\n",
              "BNtWdRNOX2w14QNmUiW0PDWudKzElQ8VCSu6RzFwh8AAAAj5AAAArAGepmpCvwAAAwBC/sV0dMQA\n",
              "g6K1mJcNI7Q1ttpg3NroLpxVq0fMOB5Lish6Htq9aQkl8ZwebKsB1WSv9f69sq+3b8xTRKX7ndi9\n",
              "SRNtVfgH+bKi7stuBEgcHU4ddt7VsKGkMqFa+tOUNljjjf1ip2oZWNOhqJ+RLB5M5P8b9iOfcwkw\n",
              "pzHftpc+YVeJiepuC+ZWHQ8d21knjRaJO/j1bcGILPmKFUo4WAAAz4EAAAHmQZqrSahBbJlMCGf/\n",
              "/p4QAAADAVHfflb0010wAjodfCKreLvipKwjVejrhcgJH84k/UwpIBdUbiI2QIxH1EglEKDfC/MW\n",
              "SlBSOBUCtcUNS7vr0s0PlcgjWyRDzp3NNPrDd/NCfrhxpLsUgPhOKeW78N92J4qf3eeLWSMs5Qj6\n",
              "lifd3PH8T1j9tVgMLjodfUHYhn6ahSDIdxeiz7SL092Tiv3PcmjzUi9WE+AVInOgj2TymbPQ+WRt\n",
              "K2cv9x16i15d/m7jGquUG1NerZzWoazyuBu8SgulJQvYFUi20lNScow+QmYOuA9C2xtcVF8gkkcJ\n",
              "J5TEwUp/q5TTqGA5iMgE0pmkVSPRBk9dkmnAZMnOqXE9vifj4EfPC4oYukhccojC025uHTDjtrgD\n",
              "HyUlC1aWQQ/rnXoiZ5AbiM+xHAayD56AiRKg5hnl4v84UHM7Evbfwhi3RdaLdKJn2CTzF9i+VGrF\n",
              "w73e3Q/BUeEsgjzoXR4qk7+BO7+7lcZ6Zj6gGLNjyo+fTwDsJFCgpKXpQd4PW+f582KarN45sFer\n",
              "JGLZrVcKNDAFT4arK6jODFxF6QB3ZVkMfeFD8SdiQf+8LRDwmOaPKqe21BSq3G2+1RYWNIGPmhyq\n",
              "JAwh0SklsqWXNasL5Qngda2AAAAA6EGeyUUVLC//AAADAIr5zEv7AIAPiUWzTA7mBhOkLQ8H3Wby\n",
              "zYbdF2UMlYxw5Pi0vYiQoouFlo5jIIfO28e6R5JTQliXewNL5VSN24ptTuro4qNWCKVBBJvNRIlz\n",
              "LOORhe1jx/22yxl5GiG+LOIWOvQhWqbFPZG0XU0BMVNc41hRPTSHXUg/v7YQiXGFZG+omKBfwyNy\n",
              "I3pS6ZQ6yl4+HfoIxYiJJyRNQKgGEZX8H/e2/N85tw3gv4wF+A0+5sC6MTwY/Ty9lA0QryDnBoMQ\n",
              "bLGBcwTk8C/MsHg4ahzYrB79KHTcwAAAO6AAAAC8AZ7odEK/AAADAEV7PvnS2TwAhHNa0MclO6pR\n",
              "ANMx2DomQ7meTP6UW2blhu5duApf8far6oT6w/hMysK7snaGnA0q1vsI9oEyT383C1G12icvhZDa\n",
              "YuTuuCt2kbbiPQ3EAXDwUUu7Xvu1SEtYpzzJG+60cfknf9mmgdB0xY1+PqSH0diN5C0fcp429bp9\n",
              "xxIEI6aJMi563hiFJAZJWAM6xc3b499ywNqY7EwQQAX/XA5hBHTPJPhZwAAADjkAAAC1AZ7qakK/\n",
              "AAADAEMy25iAEA7/rCPCzrR69p4V5JzZ4DlFmU/n+CLdIWB4zudPqeFjaAgu1L0QHysgz4/YBRYR\n",
              "jW+kzcrGeqT7F528J9zpYU5qL1ypqOZKSLpwE/DtFTd1mSiR6O32m+dYY91lyVcCs7WMAVCDBA2q\n",
              "Nb2In2U3WjbfEKM61kOqYfBpJINdVsFilivJ+5efbZiSckq+CZpK71726MffTFrQDsvZ+jonZYAA\n",
              "AAMBdwAAARRBmu1JqEFsmUwUTCv//jhAAAAE94Y6AA09wCnw1kXmHXbzPUirmQvopwD0bODsWDnt\n",
              "KkTbkWmR+DORva/KSlplagqFphXu6koa6i7dkvLROJhfZAACZFYrjKkDOA8/r9aFNtLusM6pXJao\n",
              "UzgobDJb6Fs1/fC88OvjyaYj2+CMky/MhUPEcQIiTSK9CODKgppEnFD53qMBikgpJXgY15SZOFdQ\n",
              "IAxFCdVRmxRqGZA3bIS9oZaDp92MFa78CtQyz9dX6p0jHiyL0eU6jme25MggaPxuPUY8Ov6ttm4n\n",
              "fX6WL56iKmS/uz85QuVurwlWgDt1L4RcmbXf4KlH1Ab/Zu7isezT/ArIq8VPejxUWUhDQAAAQ8AA\n",
              "AAC3AZ8MakK/AAADAL9YZmHadXJRQANmYkWbM4HRwgrWAoznlsHOV7i3LhbikB1Z2o3rb2Bjtkua\n",
              "NL/JIfXe/c7RdZNWJYfkjhgbKvKlE7YH/i01rCYI+97HXLPOYNM8rGLUnsPjFDZR5iKyXXjb2Wio\n",
              "6OrsYymweteGwA53o/IH62B6rlai+1KHSmrRWYAizrSysLL3WCY7iBWOg77KJhBgp/obOtC+qSwR\n",
              "bsa24BwFSXLT+f3AAAI/AAAG1G1vb3YAAABsbXZoZAAAAAAAAAAAAAAAAAAAA+gAAAwwAAEAAAEA\n",
              "AAAAAAAAAAAAAAABAAAAAAAAAAAAAAAAAAAAAQAAAAAAAAAAAAAAAAAAQAAAAAAAAAAAAAAAAAAA\n",
              "AAAAAAAAAAAAAAAAAAAAAAIAAAX+dHJhawAAAFx0a2hkAAAAAwAAAAAAAAAAAAAAAQAAAAAAAAww\n",
              "AAAAAAAAAAAAAAAAAAAAAAABAAAAAAAAAAAAAAAAAAAAAQAAAAAAAAAAAAAAAAAAQAAAAAJYAAAC\n",
              "WAAAAAAAJGVkdHMAAAAcZWxzdAAAAAAAAAABAAAMMAAABAAAAQAAAAAFdm1kaWEAAAAgbWRoZAAA\n",
              "AAAAAAAAAAAAAAAAMgAAAJwAVcQAAAAAAC1oZGxyAAAAAAAAAAB2aWRlAAAAAAAAAAAAAAAAVmlk\n",
              "ZW9IYW5kbGVyAAAABSFtaW5mAAAAFHZtaGQAAAABAAAAAAAAAAAAAAAkZGluZgAAABxkcmVmAAAA\n",
              "AAAAAAEAAAAMdXJsIAAAAAEAAAThc3RibAAAALlzdHNkAAAAAAAAAAEAAACpYXZjMQAAAAAAAAAB\n",
              "AAAAAAAAAAAAAAAAAAAAAAJYAlgASAAAAEgAAAAAAAAAAQAAAAAAAAAAAAAAAAAAAAAAAAAAAAAA\n",
              "AAAAAAAAAAAAABj//wAAADdhdmNDAWQAHv/hABpnZAAerNlAmBN5ZYQAAAMABAAAAwDIPFi2WAEA\n",
              "Bmjr48siwP34+AAAAAAcdXVpZGtoQPJfJE/FujmlG88DI/MAAAAAAAAAGHN0dHMAAAAAAAAAAQAA\n",
              "AE4AAAIAAAAAFHN0c3MAAAAAAAAAAQAAAAEAAAJ4Y3R0cwAAAAAAAABNAAAAAQAABAAAAAABAAAK\n",
              "AAAAAAEAAAQAAAAAAQAAAAAAAAABAAACAAAAAAEAAAoAAAAAAQAABAAAAAABAAAAAAAAAAEAAAIA\n",
              "AAAAAQAACgAAAAABAAAEAAAAAAEAAAAAAAAAAQAAAgAAAAABAAAKAAAAAAEAAAQAAAAAAQAAAAAA\n",
              "AAABAAACAAAAAAEAAAoAAAAAAQAABAAAAAABAAAAAAAAAAEAAAIAAAAAAQAACgAAAAABAAAEAAAA\n",
              "AAEAAAAAAAAAAQAAAgAAAAABAAAKAAAAAAEAAAQAAAAAAQAAAAAAAAABAAACAAAAAAEAAAoAAAAA\n",
              "AQAABAAAAAABAAAAAAAAAAEAAAIAAAAAAQAACgAAAAABAAAEAAAAAAEAAAAAAAAAAQAAAgAAAAAB\n",
              "AAAKAAAAAAEAAAQAAAAAAQAAAAAAAAABAAACAAAAAAEAAAoAAAAAAQAABAAAAAABAAAAAAAAAAEA\n",
              "AAIAAAAAAQAACgAAAAABAAAEAAAAAAEAAAAAAAAAAQAAAgAAAAABAAAKAAAAAAEAAAQAAAAAAQAA\n",
              "AAAAAAABAAACAAAAAAEAAAoAAAAAAQAABAAAAAABAAAAAAAAAAEAAAIAAAAAAQAACgAAAAABAAAE\n",
              "AAAAAAEAAAAAAAAAAQAAAgAAAAABAAAIAAAAAAIAAAIAAAAAAQAACgAAAAABAAAEAAAAAAEAAAAA\n",
              "AAAAAQAAAgAAAAABAAAKAAAAAAEAAAQAAAAAAQAAAAAAAAABAAACAAAAAAEAAAoAAAAAAQAABAAA\n",
              "AAABAAAAAAAAAAEAAAIAAAAAAQAABgAAAAABAAACAAAAABxzdHNjAAAAAAAAAAEAAAABAAAATgAA\n",
              "AAEAAAFMc3RzegAAAAAAAAAAAAAATgAAEpYAAAOXAAABhQAAAOsAAADlAAADCwAAAQQAAADFAAAA\n",
              "5QAAAhYAAAEaAAAAmAAAAJ8AAAHpAAABHwAAAL0AAAC9AAAB5QAAAOIAAACUAAAAlwAAAe8AAADe\n",
              "AAAA4wAAAOAAAAIlAAAA7AAAANgAAADeAAAC7gAAAPgAAADnAAAA8gAAAroAAAD+AAAA2QAAALoA\n",
              "AAI0AAABGgAAAM4AAAD6AAACMwAAAUsAAACnAAAA1wAAAocAAAEKAAAA5AAAAMMAAAIaAAAAswAA\n",
              "ALcAAADAAAAC+AAAAPUAAAEJAAAA4QAAAsUAAAD6AAAA6QAAAKwAAAJBAAAAygAAAKYAAAGoAAAA\n",
              "wgAAAOEAAADMAAABwwAAAQEAAADfAAAAsAAAAeoAAADsAAAAwAAAALkAAAEYAAAAuwAAABRzdGNv\n",
              "AAAAAAAAAAEAAAAwAAAAYnVkdGEAAABabWV0YQAAAAAAAAAhaGRscgAAAAAAAAAAbWRpcmFwcGwA\n",
              "AAAAAAAAAAAAAAAtaWxzdAAAACWpdG9vAAAAHWRhdGEAAAABAAAAAExhdmY1OC43Ni4xMDA=\n",
              "\">\n",
              "  Your browser does not support the video tag.\n",
              "</video>"
            ]
          },
          "metadata": {},
          "execution_count": 7
        },
        {
          "output_type": "display_data",
          "data": {
            "text/plain": [
              "<Figure size 600x600 with 1 Axes>"
            ],
            "image/png": "[encoded data removed]"
          },
          "metadata": {}
        }
      ],
      "source": [
        "# create a figure and axes\n",
        "fig = plt.figure(figsize=(6,6))\n",
        "\n",
        "# Create arrays with the latitude and longitude coordinates for plotting using pcolor\n",
        "from dedalus.extras import plot_tools\n",
        "(X, Y) = plot_tools.quad_mesh(np.squeeze(x), np.squeeze(y))\n",
        "\n",
        "# Define an animation function\n",
        "def drawframe(n):\n",
        "    plt.clf()\n",
        "    concentration = plt.pcolor(X, Y, c_save[n,:,:].T)\n",
        "    # Specify the axis limits and labels\n",
        "    plt.axis('square')\n",
        "    plt.xlim(0, L)\n",
        "    plt.ylim(0, w)\n",
        "    plt.xlabel('x (m)')\n",
        "    plt.ylabel('y (m)')\n",
        "    plt.title('concentration, time = {0:.2f} seconds'.format(t_save[n]))\n",
        "    return (concentration,)\n",
        "\n",
        "from matplotlib import animation\n",
        "# blit=True re-draws only the parts that have changed.\n",
        "anim = animation.FuncAnimation(fig, drawframe, frames=len(t_save), interval=40, blit=True)\n",
        "\n",
        "from IPython.display import HTML\n",
        "HTML(anim.to_html5_video())"
      ]
    },
    {
      "cell_type": "markdown",
      "metadata": {
        "id": "F-w55O4ccxVF"
      },
      "source": [
        "## 2.3 Student investigation\n",
        "<a id='section2pt3'></a>\n",
        "In the boxes below, plot the pollution concentration at a few points as a function of time. Then vary the maximum flow speed and the diffusivity and explore how the pollution levels depend on these parameters. Using dimensional analysis, estimate the time needed for the pollution to reach the opposite side of the river. How far downstream of the source do you expect this to happen (assuming that the domain in the x-direction is infinite)."
      ]
    },
    {
      "cell_type": "markdown",
      "source": [
        "For the pollution to travel to the opposite side of the river, diffusion is the only mechanism driving this process. From the diffusion equation, we have:\n",
        "\n",
        "$$\\frac{C}{T} \\sim \\frac{\\kappa C}{L_y^2}$$\n",
        "\n",
        "Hence, the time for pollution to travel to the opposite side of the river is:\n",
        "\n",
        "$$T \\sim \\frac{L_y^2}{\\kappa} = \\frac{10^2}{0.01} = 10000 \\, \\text{s}$$\n",
        "\n",
        "In the horizontal direction, the flow is laminar. Dimensional analysis for\n",
        "\n",
        "$$\\frac{\\partial c}{\\partial t} + u(y)\\frac{\\partial c}{\\partial x} = \\kappa \\nabla^2 c + S(x,y)$$\n",
        "\n",
        "gives:\n",
        "\n",
        "$$\n",
        "\\frac{C}{T} \\sim \\frac{U_0 C}{L_x} \\sim \\frac{\\kappa C}{L_x^2}\n",
        "$$\n",
        "\n",
        "$$\\implies T \\sim \\frac{L_x}{U_0} \\text{; } T \\sim \\frac{L_x^2}{\\kappa}$$\n",
        "\n",
        "Thus, the Péclet number is:\n",
        "\n",
        "$$\\frac{L_x U_0}{\\kappa} = \\frac{10 \\times 0.1}{0.001} = 100 \\gg 1$$\n",
        "\n",
        "This indicates that in the horizontal direction, the advection term is dominant.\n",
        "\n",
        "For the horizontal transport, we expect the length scale to be:\n",
        "\n",
        "$$L_x \\sim U_0 T_y \\implies L_x = 0.1 \\times 10000 = 1000 \\, \\text{m}$$\n",
        "\n",
        "Therefore, 1000 meters downstream of the source is where the pollution is expected to reach.\n"
      ],
      "metadata": {
        "id": "fwN16mmHIdYY"
      }
    },
    {
      "cell_type": "code",
      "source": [
        "# Example points to monitor concentration changes\n",
        "points = [(15, 2),(10,2),(18,3), (40,6),(50,9), (3,2),(8,10)]  # (x, y) coordinates\n",
        "3\n",
        "plt.figure(figsize=(8, 6))\n",
        "for (px, py) in points:\n",
        "    i, j = np.argmin(np.abs(x - px)), np.argmin(np.abs(y - py))\n",
        "    concentration_time_series = [c[i, j] for c in c_save]\n",
        "    plt.plot(t_save, concentration_time_series, label=f'Point ({px}, {py})')\n",
        "\n",
        "plt.xlabel('Time (s)')\n",
        "plt.ylabel('Concentration')\n",
        "plt.legend()\n",
        "plt.title('Pollution concentration at various points over time')\n",
        "plt.show()"
      ],
      "metadata": {
        "id": "rQTNCzT8oTbL",
        "outputId": "fa2f2c64-81e1-41c3-caf1-52d4795a3c7f",
        "colab": {
          "base_uri": "https://localhost:8080/",
          "height": 564
        }
      },
      "execution_count": 8,
      "outputs": [
        {
          "output_type": "display_data",
          "data": {
            "text/plain": [
              "<Figure size 800x600 with 1 Axes>"
            ],
            "image/png": "[encoded data removed]"
          },
          "metadata": {}
        }
      ]
    },
    {
      "cell_type": "markdown",
      "source": [
        "In this plot, I analyzed pollution concentration at several downstream points and two upstream points. For the downstream points, there is a noticeable sharp increase in concentration at different times. This \"sudden jump\" marks the arrival of the pollution front at each respective location. After this initial rise, the concentration at each point stabilizes, reaching a steady state where no significant gain or loss occurs over time.\n",
        "\n",
        "Approximately 400 seconds after stabilization, a second increase in concentration is observed. This second jump is smaller in magnitude but has a longer transient period, often failing to fully stabilize before a third jump occurs. This pattern suggests that the model includes a circulation flow, causing pollution to recirculate and re-enter the observed points multiple times, leading to repeated rises in concentration.\n",
        "\n",
        "In contrast, the upstream points ($x=3$ and $x = 8$) show a delayed and gradual increase in concentration. This occurs only after the pollution has flowed back upstream from downstream regions, likely due to diffusion or recirculation. However, the concentration increase upstream is much smaller compared to the downstream points, highlighting the dominant role of advection in transporting pollution downstream.\n",
        "\n",
        "Notably, there is a clear spatial gradient in concentration across the river’s width. Points closer to the riverbank exhibit consistently lower concentrations compared to those near the center. This trend reflects the parabolic velocity profile of the flow, where pollution is transported more efficiently in the faster central region and diffuses less effectively toward the slower-moving edges.\n",
        "\n",
        "This visualization underscores the interplay between advection and diffusion, the influence of flow velocity profiles, and the temporal dynamics of pollution transport in the river system."
      ],
      "metadata": {
        "id": "f_JTRCZIPELs"
      }
    },
    {
      "cell_type": "markdown",
      "metadata": {
        "id": "Lo1DvYmQcxVF"
      },
      "source": [
        "## 3. Optional further investigations\n",
        "\n",
        "* In the river pollution example, you might notice that the concentration field is mixed more effectively in the x-direction than in the y-direction. The combination of differential advection by the currents and cross-stream diffusion is very effective at mixing the plume in the x-direction. This is an example of Taylor dispersion (Taylor, 1953). Construct numerical experiments to quantify Taylor dispersion and its dependence on the current shear and the diffusivity. You could also separate the diffusivity into parts in the x and y directions with different coefficients.  If you set the x-component of the diffusivity to zero, then any spreading of the concentration in the x-direction should be due to Taylor dispersion.\n",
        "\n",
        "* Try making the river speed a function of time. The easiest way to do this is to add a new equation so that Dedalus solves for the velocity in addition to the concentration field. For example, you could make the river speed decrease exponentially in time, or it could be sinusoidal in time.\n",
        "\n",
        "* In the ocean mixing example, if $\\kappa$ is a function of $x$ and $z$, what would this imply about the velocity field? You could even try writing a Dedalus script to solve the 2D advection/diffusion equation with a prescribed spatially-dependent $\\kappa(x,z)$.\n"
      ]
    },
    {
      "cell_type": "markdown",
      "metadata": {
        "id": "wg22vkdqcxVF"
      },
      "source": [
        "### References\n",
        "\n",
        "Munk, W.H., 1966. Abyssal recipes. In Deep sea research and oceanographic abstracts (Vol. 13, No. 4, pp. 707-730). Elsevier.\n",
        "\n",
        "Ferrari, R., Mashayek, A., McDougall, T.J., Nikurashin, M. and Campin, J.M., 2016. Turning ocean mixing upside down. Journal of Physical Oceanography, 46(7), pp.2239-2261.\n",
        "\n",
        "Taylor, G.I., 1953. Dispersion of soluble matter in solvent flowing slowly through a tube. Proceedings of the Royal Society of London. Series A. Mathematical and Physical Sciences, 219(1137), pp.186-203."
      ]
    }
  ],
  "metadata": {
    "kernelspec": {
      "display_name": "dedalus3",
      "language": "python",
      "name": "python3"
    },
    "language_info": {
      "codemirror_mode": {
        "name": "ipython",
        "version": 3
      },
      "file_extension": ".py",
      "mimetype": "text/x-python",
      "name": "python",
      "nbconvert_exporter": "python",
      "pygments_lexer": "ipython3",
      "version": "3.12.2"
    },
    "colab": {
      "provenance": [],
      "include_colab_link": true
    }
  },
  "nbformat": 4,
  "nbformat_minor": 0
}